{
 "cells": [
  {
   "cell_type": "markdown",
   "id": "8cb1869e-7d93-4181-b428-4d84c5b66670",
   "metadata": {},
   "source": [
    "# Flask: WebApp using sqlite3"
   ]
  },
  {
   "cell_type": "markdown",
   "id": "cc0b1ab0-896a-4162-9945-206f3453a24e",
   "metadata": {},
   "source": [
    "Prerequistes:\n",
    "*    pip install flask\n",
    "*    pip install flask_sqlalchemy\n",
    "*    pip install webdriver_manager"
   ]
  },
  {
   "cell_type": "code",
   "execution_count": 1,
   "id": "3a14c745-40ea-4054-b0f5-322aa9cccf24",
   "metadata": {},
   "outputs": [
    {
     "name": "stdout",
     "output_type": "stream",
     "text": [
      "total 88\n",
      "-rw-rw-r-- 1 chris chris  6377 Dec  7 12:14 03.ipynb\n",
      "-rw-rw-r-- 1 chris chris  8359 Dec  4 22:18 1.basic_webapp.ipynb\n",
      "-rw-rw-r-- 1 chris chris 28450 Dec  6 23:44 2.database_webapp2.ipynb\n",
      "-rw-rw-r-- 1 chris chris 23904 Dec  7 22:36 3.database_webapp.ipynb\n",
      "-rw-rw-r-- 1 chris chris  1410 Dec  7 00:10 database_app.py\n",
      "drwxrwxr-x 2 chris chris  4096 Dec  7 14:43 __pycache__\n",
      "drwxrwxr-x 5 chris chris  4096 Dec  7 22:37 workspace3\n",
      "-rw-rw-r-- 1 chris chris    30 Dec  7 14:41 z.html\n",
      "total 84\n",
      "-rw-rw-r-- 1 chris chris  6377 Dec  7 12:14 03.ipynb\n",
      "-rw-rw-r-- 1 chris chris  8359 Dec  4 22:18 1.basic_webapp.ipynb\n",
      "-rw-rw-r-- 1 chris chris 28450 Dec  6 23:44 2.database_webapp2.ipynb\n",
      "-rw-rw-r-- 1 chris chris 23904 Dec  7 22:36 3.database_webapp.ipynb\n",
      "-rw-rw-r-- 1 chris chris  1410 Dec  7 00:10 database_app.py\n",
      "drwxrwxr-x 2 chris chris  4096 Dec  7 14:43 __pycache__\n",
      "-rw-rw-r-- 1 chris chris    30 Dec  7 14:41 z.html\n"
     ]
    }
   ],
   "source": [
    "cd '/home/chris/workspace/python-course/Level 4/02 Flask'\n",
    "ls -l\n",
    "rm -rf workspace3\n",
    "ls -l"
   ]
  },
  {
   "cell_type": "markdown",
   "id": "da39cb97-de2d-438b-b945-193feb693d4e",
   "metadata": {},
   "source": [
    "Create a workspace for our project"
   ]
  },
  {
   "cell_type": "code",
   "execution_count": 2,
   "id": "37c7075a-76e3-4f7d-9508-f74bb6eb7230",
   "metadata": {},
   "outputs": [],
   "source": [
    "stty -echo\n",
    "mkdir workspace3\n",
    "cd workspace3"
   ]
  },
  {
   "cell_type": "markdown",
   "id": "eabf9002-fe6f-4296-963e-4e21d0a1ca6d",
   "metadata": {},
   "source": [
    "Create a basic webapp"
   ]
  },
  {
   "cell_type": "code",
   "execution_count": 3,
   "id": "e1f311c5-a786-4df9-9ed2-3ae687a66192",
   "metadata": {},
   "outputs": [],
   "source": [
    "# create new app\n",
    "cat << EOF > database_app.py\n",
    "import os\n",
    "from flask import Flask, render_template, request, url_for, redirect\n",
    "from flask_sqlalchemy import SQLAlchemy\n",
    "\n",
    "from sqlalchemy.sql import func\n",
    "\n",
    "\n",
    "basedir = os.path.abspath(os.path.dirname(__file__))\n",
    "\n",
    "app = Flask(__name__)\n",
    "app.config['SQLALCHEMY_DATABASE_URI'] =\\\n",
    "        'sqlite:///' + os.path.join(basedir, 'database.db')\n",
    "#app.config['SQLALCHEMY_TRACK_MODIFICATIONS'] = False\n",
    "\n",
    "db = SQLAlchemy(app)\n",
    "\n",
    "class Match(db.Model):\n",
    "    id = db.Column(db.Integer, primary_key=True)\n",
    "    homeTeam = db.Column(db.String(100), nullable=False)\n",
    "    homeScore = db.Column(db.Integer)\n",
    "    awayTeam = db.Column(db.String(100), nullable=False)\n",
    "    awayScore = db.Column(db.Integer)\n",
    "\n",
    "    def play(self, home, score1, away, score2):\n",
    "        self.homeTeam = home\n",
    "        self.homeScore = score1\n",
    "        self.awayTeam = away\n",
    "        self.awayScore = score2\n",
    "        \n",
    "    def __str__(self):\n",
    "        return f\"{self.homeTeam} {self.homeScore}-{self.awayScore} {self.awayTeam}\"\n",
    "\n",
    "@app.route('/')\n",
    "def index():\n",
    "    matches = Match.query.all()\n",
    "    return render_template('index.html', matches=matches)\n",
    "\n",
    "EOF"
   ]
  },
  {
   "cell_type": "markdown",
   "id": "d3174757-a550-47fc-af1e-6790b612319f",
   "metadata": {},
   "source": [
    "Run the Flask shell program to create the in-memory database"
   ]
  },
  {
   "cell_type": "code",
   "execution_count": 4,
   "id": "f2352692-cc92-4bb0-b778-0d0d8c8d7c86",
   "metadata": {},
   "outputs": [
    {
     "name": "stdout",
     "output_type": "stream",
     "text": [
      "Python 3.10.15 (main, Oct 18 2024, 15:04:49) [GCC 13.2.0] on linux\n",
      "App: database_app\n",
      "Instance: /home/chris/workspace/python-course/src/53 Flask/workspace3/instance\n",
      ">>> >>> >>> >>> \n",
      "now exiting InteractiveConsole...\n"
     ]
    }
   ],
   "source": [
    "export FLASK_APP=database_app\n",
    "flask shell << EOF\n",
    "from database_app import db, Match\n",
    "db.drop_all()\n",
    "db.create_all()\n",
    "EOF"
   ]
  },
  {
   "cell_type": "markdown",
   "id": "fd75d182-ffb0-4fae-b4ac-3adccea0336e",
   "metadata": {},
   "source": [
    "The project structure is now:"
   ]
  },
  {
   "cell_type": "code",
   "execution_count": 5,
   "id": "784512ff-ccfa-440a-9f61-0da3eaf37369",
   "metadata": {},
   "outputs": [
    {
     "name": "stdout",
     "output_type": "stream",
     "text": [
      ".\n",
      "├── database_app.py\n",
      "└── database.db\n",
      "\n",
      "1 directory, 2 files\n"
     ]
    }
   ],
   "source": [
    "tree -I __pycache__ ."
   ]
  },
  {
   "cell_type": "markdown",
   "id": "a72161fe-31b4-4b18-ae6a-48b7e9cde863",
   "metadata": {},
   "source": [
    "Now run the Flask shell program to populate the database with some example entries"
   ]
  },
  {
   "cell_type": "code",
   "execution_count": 6,
   "id": "3652e8b8-1e98-4a86-b4d3-e9a85f03a4e3",
   "metadata": {},
   "outputs": [
    {
     "name": "stdout",
     "output_type": "stream",
     "text": [
      "Python 3.10.15 (main, Oct 18 2024, 15:04:49) [GCC 13.2.0] on linux\n",
      "App: database_app\n",
      "Instance: /home/chris/workspace/python-course/src/53 Flask/workspace3/instance\n",
      ">>> >>> ... ... ... ... >>> >>> >>> >>> >>> >>> >>> >>> >>> [<Match 1>, <Match 2>, <Match 3>]\n",
      ">>> \n",
      "now exiting InteractiveConsole...\n"
     ]
    }
   ],
   "source": [
    "export FLASK_APP=database_app\n",
    "flask shell << EOF\n",
    "\n",
    "def playMatch(home, score1, away, score2):\n",
    "    m = Match()\n",
    "    m.play(home, score1, away, score2)\n",
    "    return m\n",
    "\n",
    "m1 = playMatch(\"Red\", 2, \"Blue\", 1)\n",
    "m2 = playMatch(\"Green\", 5, \"White\", 0)\n",
    "m3 = playMatch(\"Red\", 3, \"Green\", 1)\n",
    "\n",
    "db.session.add(m1)\n",
    "db.session.add(m2)\n",
    "db.session.add(m3)\n",
    "db.session.commit()\n",
    "Match.query.all()\n",
    "EOF"
   ]
  },
  {
   "cell_type": "markdown",
   "id": "8b3d81d6-d6a1-4b10-bf09-5a94d9faf067",
   "metadata": {},
   "source": [
    "Create a `base` template using the `jinja2` template engine.   Our actual templates will inherit from this template."
   ]
  },
  {
   "cell_type": "code",
   "execution_count": 7,
   "id": "60a11d96-c862-4ea1-b6a0-5482e1350769",
   "metadata": {},
   "outputs": [],
   "source": [
    "mkdir -p templates\n",
    "cat << EOF > templates/base.html\n",
    "<!DOCTYPE html>\n",
    "<html lang=\"en\">\n",
    "<head>\n",
    "    <meta charset=\"UTF-8\">\n",
    "    <link rel=\"stylesheet\" type= \"text/css\" href= \"{{ url_for('static',filename='styles/mystyles.css') }}\"    \n",
    "</head>\n",
    "<body>\n",
    "    <h1>{% block title %} {% endblock %}</h1>\n",
    "    <div>\n",
    "        {% block contents %} {% endblock %}\n",
    "    </div>\n",
    "</body>\n",
    "</html>\n",
    "EOF"
   ]
  },
  {
   "cell_type": "markdown",
   "id": "1362242e-68ae-4845-8063-2cb903e23eae",
   "metadata": {},
   "source": [
    "Now create an real template.  The base template defines the basic structure, but we need to define the `block content` section here."
   ]
  },
  {
   "cell_type": "code",
   "execution_count": 8,
   "id": "0be5f66d-0cdc-454e-8400-f7cc050bfd19",
   "metadata": {},
   "outputs": [],
   "source": [
    "mkdir -p templates\n",
    "cat << EOF > templates/index.html\n",
    "{% extends 'base.html' %}\n",
    "{% block title %}\n",
    "RESULTS\n",
    "{% endblock %}\n",
    "{% block contents %}\n",
    "    <table>\n",
    "    {% for match in matches %}\n",
    "        <tr><td>{{ match }}</td></tr>\n",
    "    {% endfor %}\n",
    "    </table>\n",
    "    <a href=\"http://localhost:8000/create\">create</a>\n",
    "{% endblock %}\n",
    "EOF"
   ]
  },
  {
   "cell_type": "markdown",
   "id": "e1b78a65-94f3-497d-9fce-f1eb85b6295c",
   "metadata": {},
   "source": [
    "Create a stylesheet - this must be stored in the `static` subdirectory"
   ]
  },
  {
   "cell_type": "code",
   "execution_count": 9,
   "id": "cd5ee1ee-982b-49de-9f22-fdfdf5982667",
   "metadata": {},
   "outputs": [],
   "source": [
    "mkdir -p static/styles\n",
    "cat << EOF > static/styles/mystyles.css\n",
    ".title {\n",
    "    margin: 5px;\n",
    "}\n",
    "\n",
    "body {background-color: powderblue;}\n",
    "table, th, td {\n",
    "  border: 1px solid;\n",
    "}\n",
    "EOF"
   ]
  },
  {
   "cell_type": "markdown",
   "id": "c080bd43-b0fa-4b06-b333-45216813f107",
   "metadata": {},
   "source": [
    "Start the Flask development server:"
   ]
  },
  {
   "cell_type": "code",
   "execution_count": 10,
   "id": "f7e87087-15eb-4890-97dd-738b9b1b2b39",
   "metadata": {},
   "outputs": [
    {
     "name": "stdout",
     "output_type": "stream",
     "text": [
      "[1] 7261\n"
     ]
    }
   ],
   "source": [
    "fuser -k 8000/tcp  # kill previous incarnations\n",
    "flask --app database_app run --host localhost --port 8000 &"
   ]
  },
  {
   "cell_type": "markdown",
   "id": "c0d4676d-1e0b-4807-90e3-3c8ee47ee8c6",
   "metadata": {},
   "source": [
    "Now display the index view in firefox"
   ]
  },
  {
   "cell_type": "code",
   "execution_count": 11,
   "id": "4c76d513-adca-4ca9-b99c-6ad8ec151bc6",
   "metadata": {},
   "outputs": [
    {
     "name": "stdout",
     "output_type": "stream",
     "text": [
      " * Serving Flask app 'database_app'\n",
      " * Debug mode: off\n",
      "\u001b[31m\u001b[1mWARNING: This is a development server. Do not use it in a production deployment. Use a production WSGI server instead.\u001b[0m\n",
      " * Running on http://localhost:8000\n",
      "\u001b[33mPress CTRL+C to quit\u001b[0m\n"
     ]
    }
   ],
   "source": [
    "firefox http://localhost:8000"
   ]
  },
  {
   "cell_type": "markdown",
   "id": "c4b2f4b3-7ebe-4d4b-85a2-a73529856271",
   "metadata": {},
   "source": [
    "Now create a route to display a `single match`:"
   ]
  },
  {
   "cell_type": "code",
   "execution_count": 12,
   "id": "1039cb45-661e-4ec5-9e4c-866bffdf97fc",
   "metadata": {},
   "outputs": [
    {
     "name": "stdout",
     "output_type": "stream",
     "text": [
      "127.0.0.1 - - [09/Dec/2024 14:29:28] \"GET / HTTP/1.1\" 200 -\n",
      "127.0.0.1 - - [09/Dec/2024 14:29:29] \"GET /static/styles/mystyles.css HTTP/1.1\" 200 -\n"
     ]
    }
   ],
   "source": [
    "cat << EOF >> database_app.py\n",
    "@app.route('/<int:match_id>/')\n",
    "def singleMatch(match_id):\n",
    "    match = Match.query.get_or_404(match_id)\n",
    "    return render_template('singleMatch.html', match=match, id=match_id)\n",
    "EOF"
   ]
  },
  {
   "cell_type": "markdown",
   "id": "cfd6ed30-8062-4207-bf46-8a5f072b5c10",
   "metadata": {},
   "source": [
    "Add the corresponding template:"
   ]
  },
  {
   "cell_type": "code",
   "execution_count": 13,
   "id": "68890428-4dc8-453b-918f-6d38a95841a6",
   "metadata": {},
   "outputs": [],
   "source": [
    "cat << EOF > templates/singleMatch.html\n",
    "{% extends 'base.html' %}\n",
    "{% block title %}\n",
    "    MATCH {{ id }}\n",
    "{% endblock %}\n",
    "{% block contents %}\n",
    "    <div class=\"content\">\n",
    "    <div>{{ match }}</div>\n",
    "{% endblock %}\n",
    "EOF"
   ]
  },
  {
   "cell_type": "markdown",
   "id": "c69e4a7e-c746-4049-8d3d-fae8b23b0993",
   "metadata": {},
   "source": [
    "Project structure is now:"
   ]
  },
  {
   "cell_type": "code",
   "execution_count": 14,
   "id": "1ea78a15-1890-48c8-8ce1-9aa3647512f7",
   "metadata": {},
   "outputs": [
    {
     "name": "stdout",
     "output_type": "stream",
     "text": [
      ".\n",
      "├── database_app.py\n",
      "├── database.db\n",
      "├── static\n",
      "│   └── styles\n",
      "│       └── mystyles.css\n",
      "└── templates\n",
      "    ├── base.html\n",
      "    ├── index.html\n",
      "    └── singleMatch.html\n",
      "\n",
      "4 directories, 6 files\n"
     ]
    }
   ],
   "source": [
    "tree -I __pycache__ ."
   ]
  },
  {
   "cell_type": "markdown",
   "id": "f6c767d8-ccdd-4ead-bed3-0a76118edc1a",
   "metadata": {},
   "source": [
    "Restart the server:"
   ]
  },
  {
   "cell_type": "code",
   "execution_count": 15,
   "id": "7ebe9b60-5332-4a16-9181-b74e9e61c0d3",
   "metadata": {},
   "outputs": [
    {
     "name": "stdout",
     "output_type": "stream",
     "text": [
      "8000/tcp:             7261\n",
      "[2] 7578\n",
      "[1]   Killed                  flask --app database_app run --host localhost --port 8000\n"
     ]
    }
   ],
   "source": [
    "fuser -k 8000/tcp  # kill previous incarnations\n",
    "flask --app database_app run --host localhost --port 8000 &"
   ]
  },
  {
   "cell_type": "markdown",
   "id": "290dcdc1-c686-4430-a260-490aa612ef4a",
   "metadata": {},
   "source": [
    "Display the 2nd entry in the browser:"
   ]
  },
  {
   "cell_type": "code",
   "execution_count": 16,
   "id": "162165b3-c29d-4b5a-a557-46992013fc3f",
   "metadata": {},
   "outputs": [
    {
     "name": "stdout",
     "output_type": "stream",
     "text": [
      " * Serving Flask app 'database_app'\n",
      " * Debug mode: off\n",
      "\u001b[31m\u001b[1mWARNING: This is a development server. Do not use it in a production deployment. Use a production WSGI server instead.\u001b[0m\n",
      " * Running on http://localhost:8000\n",
      "\u001b[33mPress CTRL+C to quit\u001b[0m\n"
     ]
    }
   ],
   "source": [
    "firefox http://localhost:8000/2"
   ]
  },
  {
   "cell_type": "markdown",
   "id": "5e7907b3-c458-4f10-88f4-87c93c798f07",
   "metadata": {},
   "source": [
    "Add a route to allow us to `create` new entries in the database:"
   ]
  },
  {
   "cell_type": "code",
   "execution_count": 17,
   "id": "05a04126-9bca-4b20-b4ac-3f2f4ca26fb9",
   "metadata": {},
   "outputs": [
    {
     "name": "stdout",
     "output_type": "stream",
     "text": [
      "127.0.0.1 - - [09/Dec/2024 14:29:50] \"\u001b[32mGET /2 HTTP/1.1\u001b[0m\" 308 -\n",
      "127.0.0.1 - - [09/Dec/2024 14:29:50] \"GET /2/ HTTP/1.1\" 200 -\n",
      "127.0.0.1 - - [09/Dec/2024 14:29:51] \"\u001b[36mGET /static/styles/mystyles.css HTTP/1.1\u001b[0m\" 304 -\n"
     ]
    }
   ],
   "source": [
    "cat << EOF >> database_app.py\n",
    "\n",
    "@app.route('/create/', methods=('GET', 'POST'))\n",
    "@app.route('/create/', methods=('GET', 'POST'))\n",
    "def create():\n",
    "    if request.method == 'POST':\n",
    "        homeTeam = request.form['homeTeam']\n",
    "        awayTeam = request.form['awayTeam']\n",
    "        homeScore = request.form['homeScore']\n",
    "        awayScore = request.form['awayScore']\n",
    "\n",
    "        match = Match()\n",
    "        match.play(homeTeam, homeScore, awayTeam, awayScore)\n",
    "        db.session.add(match)\n",
    "        db.session.commit()\n",
    "\n",
    "        return redirect(url_for('index'))\n",
    "\n",
    "    return render_template('create.html')\n",
    "EOF"
   ]
  },
  {
   "cell_type": "markdown",
   "id": "7c73188e-ee0d-4af0-8435-9169a9ef3c3e",
   "metadata": {},
   "source": [
    "Add the template for the route:"
   ]
  },
  {
   "cell_type": "code",
   "execution_count": 18,
   "id": "f70a3112-bd8d-4a6e-92db-58a0f4ddf365",
   "metadata": {},
   "outputs": [],
   "source": [
    "cat << EOF > templates/create.html\n",
    "{% extends 'base.html' %}\n",
    "\n",
    "{% block title %}\n",
    "    <h1>Add Match {{ id }}</h1>\n",
    "{% endblock %}\n",
    "\n",
    "{% block contents %}\n",
    "    <form method=\"post\">\n",
    "        <p>\n",
    "            <label for=\"homeTeam\">Home Team</label>\n",
    "            <input id=\"h\" type=\"text\" name=\"homeTeam\" placeholder=\"home team\"/>\n",
    "        </p>\n",
    "        <p>\n",
    "            <label for=\"homeScore\">Home Score</label>\n",
    "            <input type=\"text\" name=\"homeScore\" placeholder=\"home score\"/>\n",
    "        </p>\n",
    "        <p>\n",
    "            <label for=\"awayTeam\">Away Team</label>\n",
    "            <input type=\"text\" name=\"awayTeam\" placeholder=\"away team\"/>\n",
    "        </p>\n",
    "        <p>\n",
    "            <label for=\"awayScore\">Away Score</label>\n",
    "            <input type=\"text\" name=\"awayScore\" placeholder=\"away score\"/>\n",
    "        </p>\n",
    "        <p>\n",
    "            <button id=\"submit\" type=\"submit\">Submit</button>\n",
    "        </p>\n",
    "    </form>\n",
    "{% endblock %}\n",
    "EOF"
   ]
  },
  {
   "cell_type": "code",
   "execution_count": 19,
   "id": "409f4853-a578-41b8-afa2-c7c85c5b926c",
   "metadata": {},
   "outputs": [
    {
     "name": "stdout",
     "output_type": "stream",
     "text": [
      "8000/tcp:             7578\n",
      "[3] 7847\n",
      "[2]   Killed                  flask --app database_app run --host localhost --port 8000\n"
     ]
    }
   ],
   "source": [
    "fuser -k 8000/tcp  # kill previous incarnations\n",
    "flask --app database_app run --host localhost --port 8000 &"
   ]
  },
  {
   "cell_type": "code",
   "execution_count": 20,
   "id": "0d1ce3dd-970f-4065-9709-4f251f022351",
   "metadata": {},
   "outputs": [
    {
     "name": "stdout",
     "output_type": "stream",
     "text": [
      " * Serving Flask app 'database_app'\n",
      " * Debug mode: off\n",
      "\u001b[31m\u001b[1mWARNING: This is a development server. Do not use it in a production deployment. Use a production WSGI server instead.\u001b[0m\n",
      " * Running on http://localhost:8000\n",
      "\u001b[33mPress CTRL+C to quit\u001b[0m\n"
     ]
    }
   ],
   "source": [
    "firefox http://localhost:8000/create"
   ]
  },
  {
   "cell_type": "markdown",
   "id": "c1231fab-b655-4e4b-b385-96376e5b6938",
   "metadata": {},
   "source": [
    "Now create a `Selenium` script to automate filling in the `create` form: "
   ]
  },
  {
   "cell_type": "code",
   "execution_count": 21,
   "id": "3a71af78-acad-404f-809e-fb62d1b053d3",
   "metadata": {},
   "outputs": [
    {
     "name": "stdout",
     "output_type": "stream",
     "text": [
      "127.0.0.1 - - [09/Dec/2024 14:30:04] \"\u001b[32mGET /create HTTP/1.1\u001b[0m\" 308 -\n",
      "127.0.0.1 - - [09/Dec/2024 14:30:04] \"GET /create/ HTTP/1.1\" 200 -\n",
      "127.0.0.1 - - [09/Dec/2024 14:30:04] \"\u001b[36mGET /static/styles/mystyles.css HTTP/1.1\u001b[0m\" 304 -\n",
      "127.0.0.1 - - [09/Dec/2024 14:30:09] \"\u001b[32mPOST /create/ HTTP/1.1\u001b[0m\" 302 -\n",
      "127.0.0.1 - - [09/Dec/2024 14:30:09] \"GET / HTTP/1.1\" 200 -\n",
      "127.0.0.1 - - [09/Dec/2024 14:30:09] \"\u001b[36mGET /static/styles/mystyles.css HTTP/1.1\u001b[0m\" 304 -\n"
     ]
    }
   ],
   "source": [
    "cat << EOF > go.py\n",
    "from selenium import webdriver\n",
    "from selenium.webdriver.common.by import By\n",
    "from selenium.webdriver.support.ui import WebDriverWait\n",
    "from selenium.webdriver.support import expected_conditions as EC\n",
    "\n",
    "import time\n",
    "\n",
    "driver = webdriver.Chrome()\n",
    "driver = webdriver.Firefox()\n",
    "\n",
    "driver.get(\"http://localhost:8000/create\")\n",
    "\n",
    "time.sleep(5)\n",
    "title = driver.title\n",
    "\n",
    "driver.implicitly_wait(0.5)\n",
    "\n",
    "def fillInForm(h, hs, a, awayScore):\n",
    "    text_box = driver.find_element(by=By.NAME, value=\"homeTeam\")\n",
    "    text_box.send_keys(h)\n",
    "    text_box = driver.find_element(by=By.NAME, value=\"homeScore\")\n",
    "    text_box.send_keys(hs)\n",
    "    text_box = driver.find_element(by=By.NAME, value=\"awayTeam\")\n",
    "    text_box.send_keys(a)\n",
    "    text_box = driver.find_element(by=By.NAME, value=\"awayScore\")\n",
    "    text_box.send_keys(awayScore)\n",
    "    driver.implicitly_wait(5)\n",
    "    current_url = driver.current_url\n",
    "    submit_button = driver.find_element(by=By.ID, value=\"submit\")\n",
    "    submit_button.click()    \n",
    "    WebDriverWait(driver, 15).until(EC.url_changes(current_url))\n",
    "    time.sleep(5)\n",
    "\n",
    "fillInForm(\"White\", 5, \"Black\", 3)\n",
    "link = driver.find_element(By.LINK_TEXT, 'create')\n",
    "link.click()\n",
    "fillInForm(\"Purple\", 4, \"Red\", 2)\n",
    "link = driver.find_element(By.LINK_TEXT, 'create')\n",
    "link.click()\n",
    "fillInForm(\"Green\", 5, \"Blue\", 0)\n",
    "link = driver.find_element(By.LINK_TEXT, 'create')\n",
    "link.click()\n",
    "\n",
    "time.sleep(50)\n",
    "\n",
    "driver.quit()\n",
    "EOF"
   ]
  },
  {
   "cell_type": "code",
   "execution_count": 22,
   "id": "5dcc2138-698a-42bb-aba5-67b5308e7a51",
   "metadata": {},
   "outputs": [
    {
     "name": "stdout",
     "output_type": "stream",
     "text": [
      "Traceback (most recent call last):\n",
      "  File \"/home/chris/workspace/python-course/src/53 Flask/workspace3/go.py\", line 9, in <module>\n",
      "    driver = webdriver.Firefox()\n",
      "  File \"/home/chris/.pyenv/versions/3.10.15/lib/python3.10/site-packages/selenium/webdriver/firefox/webdriver.py\", line 71, in __init__\n",
      "    super().__init__(command_executor=executor, options=options)\n",
      "  File \"/home/chris/.pyenv/versions/3.10.15/lib/python3.10/site-packages/selenium/webdriver/remote/webdriver.py\", line 241, in __init__\n",
      "    self.start_session(capabilities)\n",
      "  File \"/home/chris/.pyenv/versions/3.10.15/lib/python3.10/site-packages/selenium/webdriver/remote/webdriver.py\", line 329, in start_session\n",
      "    response = self.execute(Command.NEW_SESSION, caps)[\"value\"]\n",
      "  File \"/home/chris/.pyenv/versions/3.10.15/lib/python3.10/site-packages/selenium/webdriver/remote/webdriver.py\", line 384, in execute\n",
      "    self.error_handler.check_response(response)\n",
      "  File \"/home/chris/.pyenv/versions/3.10.15/lib/python3.10/site-packages/selenium/webdriver/remote/errorhandler.py\", line 232, in check_response\n",
      "    raise exception_class(message, screen, stacktrace)\n",
      "selenium.common.exceptions.InvalidArgumentException: Message: binary is not a Firefox executable\n",
      "\n"
     ]
    },
    {
     "ename": "",
     "evalue": "1",
     "output_type": "error",
     "traceback": []
    }
   ],
   "source": [
    "export TMPDIR=/tmp\n",
    "python go.py"
   ]
  },
  {
   "cell_type": "code",
   "execution_count": 248,
   "id": "8d479d9c-7d85-4c31-bf29-0924350965a8",
   "metadata": {},
   "outputs": [
    {
     "name": "stdout",
     "output_type": "stream",
     "text": [
      "rm: cannot remove 'workspace4': No such file or directory\n"
     ]
    },
    {
     "ename": "",
     "evalue": "1",
     "output_type": "error",
     "traceback": []
    }
   ],
   "source": [
    "cd ..\n",
    "fuser -k 7000/tcp\n",
    "rm -r workspace4"
   ]
  },
  {
   "cell_type": "markdown",
   "id": "5a8299e4-5de8-4e90-9d39-6629beb15ba7",
   "metadata": {},
   "source": [
    "Create the template.  This needs to be stored in the `template` subdirectory.  \n",
    "Note how we link to the stylesheet:  \n",
    "```    <link rel=\"stylesheet\" type= \"text/css\" href= \"{{ url_for('static',filename='styles/mystyles.css') }}\">```\n",
    "\n",
    "The above expands to:  \n",
    "```    <link rel=\"stylesheet\" type= \"text/css\" href= \"/static/styles/mystyles.css\">```"
   ]
  }
 ],
 "metadata": {
  "kernelspec": {
   "display_name": "Bash",
   "language": "bash",
   "name": "bash"
  },
  "language_info": {
   "codemirror_mode": "shell",
   "file_extension": ".sh",
   "mimetype": "text/x-sh",
   "name": "bash"
  }
 },
 "nbformat": 4,
 "nbformat_minor": 5
}
