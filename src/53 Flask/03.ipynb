{
 "cells": [
  {
   "cell_type": "code",
   "execution_count": 2,
   "id": "b76b2768-5f82-45da-8632-7130199c8c86",
   "metadata": {},
   "outputs": [],
   "source": [
    "# Flask: Using a database (sqlite3)"
   ]
  },
  {
   "cell_type": "markdown",
   "id": "e44719a5-f573-4576-8127-d8cc90ffc66d",
   "metadata": {},
   "source": [
    "First create an in memory database"
   ]
  },
  {
   "cell_type": "code",
   "execution_count": 4,
   "id": "3c9259e7-4c47-4c77-9d10-01dee11f0cb5",
   "metadata": {},
   "outputs": [],
   "source": [
    "from sqlalchemy import create_engine\n",
    "engine = create_engine(\"sqlite+pysqlite:///:memory:\", echo=True)"
   ]
  },
  {
   "cell_type": "code",
   "execution_count": 5,
   "id": "26a7ee34-afb3-45a7-abad-61a80abc92ec",
   "metadata": {},
   "outputs": [
    {
     "ename": "SyntaxError",
     "evalue": "invalid syntax (2895444600.py, line 1)",
     "output_type": "error",
     "traceback": [
      "\u001b[0;36m  Cell \u001b[0;32mIn[5], line 1\u001b[0;36m\u001b[0m\n\u001b[0;31m    tree .\u001b[0m\n\u001b[0m          ^\u001b[0m\n\u001b[0;31mSyntaxError\u001b[0m\u001b[0;31m:\u001b[0m invalid syntax\n"
     ]
    }
   ],
   "source": [
    "tree ."
   ]
  },
  {
   "cell_type": "code",
   "execution_count": 3,
   "id": "81060348-9ae4-45bc-9442-173d9533a4d7",
   "metadata": {},
   "outputs": [
    {
     "name": "stdout",
     "output_type": "stream",
     "text": [
      "2024-12-05 13:39:31,925 INFO sqlalchemy.engine.Engine BEGIN (implicit)\n",
      "2024-12-05 13:39:31,928 INFO sqlalchemy.engine.Engine select 'hello world'\n",
      "2024-12-05 13:39:31,930 INFO sqlalchemy.engine.Engine [generated in 0.00538s] ()\n",
      "[('hello world',)]\n",
      "2024-12-05 13:39:31,934 INFO sqlalchemy.engine.Engine ROLLBACK\n"
     ]
    }
   ],
   "source": [
    "from sqlalchemy import text\n",
    "\n",
    "with engine.connect() as conn:\n",
    "    result = conn.execute(text(\"select 'hello world'\"))\n",
    "    print(result.all())\n"
   ]
  },
  {
   "cell_type": "code",
   "execution_count": 4,
   "id": "5abfec10-dd4e-4557-ab03-f9e98cda9010",
   "metadata": {},
   "outputs": [
    {
     "name": "stdout",
     "output_type": "stream",
     "text": [
      "2024-12-05 13:41:08,124 INFO sqlalchemy.engine.Engine BEGIN (implicit)\n",
      "2024-12-05 13:41:08,127 INFO sqlalchemy.engine.Engine CREATE TABLE some_table (x int, y int)\n",
      "2024-12-05 13:41:08,130 INFO sqlalchemy.engine.Engine [generated in 0.00610s] ()\n",
      "2024-12-05 13:41:08,136 INFO sqlalchemy.engine.Engine INSERT INTO some_table (x, y) VALUES (?, ?)\n",
      "2024-12-05 13:41:08,138 INFO sqlalchemy.engine.Engine [generated in 0.00239s] [(1, 1), (2, 4)]\n",
      "2024-12-05 13:41:08,142 INFO sqlalchemy.engine.Engine COMMIT\n"
     ]
    }
   ],
   "source": [
    "with engine.connect() as conn:\n",
    "    conn.execute(text(\"CREATE TABLE some_table (x int, y int)\"))\n",
    "    conn.execute(\n",
    "        text(\"INSERT INTO some_table (x, y) VALUES (:x, :y)\"),\n",
    "        [{\"x\": 1, \"y\": 1}, {\"x\": 2, \"y\": 4}],\n",
    "    )\n",
    "    conn.commit()"
   ]
  },
  {
   "cell_type": "code",
   "execution_count": 5,
   "id": "624bf183-5b13-476d-a751-9ba79e023037",
   "metadata": {},
   "outputs": [
    {
     "name": "stdout",
     "output_type": "stream",
     "text": [
      "2024-12-05 13:41:43,989 INFO sqlalchemy.engine.Engine BEGIN (implicit)\n",
      "2024-12-05 13:41:43,993 INFO sqlalchemy.engine.Engine INSERT INTO some_table (x, y) VALUES (?, ?)\n",
      "2024-12-05 13:41:43,995 INFO sqlalchemy.engine.Engine [cached since 35.86s ago] [(6, 8), (9, 10)]\n",
      "2024-12-05 13:41:44,002 INFO sqlalchemy.engine.Engine COMMIT\n"
     ]
    }
   ],
   "source": [
    "with engine.begin() as conn:\n",
    "    conn.execute(\n",
    "        text(\"INSERT INTO some_table (x, y) VALUES (:x, :y)\"),\n",
    "        [{\"x\": 6, \"y\": 8}, {\"x\": 9, \"y\": 10}],\n",
    "    )"
   ]
  },
  {
   "cell_type": "code",
   "execution_count": 6,
   "id": "a7c07515-86bd-45fc-aa3b-dcdd64f4c1f1",
   "metadata": {},
   "outputs": [
    {
     "name": "stdout",
     "output_type": "stream",
     "text": [
      "2024-12-05 13:42:20,748 INFO sqlalchemy.engine.Engine BEGIN (implicit)\n",
      "2024-12-05 13:42:20,751 INFO sqlalchemy.engine.Engine SELECT x, y FROM some_table\n",
      "2024-12-05 13:42:20,754 INFO sqlalchemy.engine.Engine [generated in 0.00638s] ()\n",
      "x: 1  y: 1\n",
      "x: 2  y: 4\n",
      "x: 6  y: 8\n",
      "x: 9  y: 10\n",
      "2024-12-05 13:42:20,763 INFO sqlalchemy.engine.Engine ROLLBACK\n"
     ]
    }
   ],
   "source": [
    "with engine.connect() as conn:\n",
    "    result = conn.execute(text(\"SELECT x, y FROM some_table\"))\n",
    "    for row in result:\n",
    "        print(f\"x: {row.x}  y: {row.y}\")"
   ]
  },
  {
   "cell_type": "code",
   "execution_count": 7,
   "id": "aa884443-2b86-4836-b1e2-068273d48e92",
   "metadata": {},
   "outputs": [
    {
     "name": "stdout",
     "output_type": "stream",
     "text": [
      "2024-12-05 13:44:53,351 INFO sqlalchemy.engine.Engine BEGIN (implicit)\n",
      "2024-12-05 13:44:53,354 INFO sqlalchemy.engine.Engine SELECT x, y FROM some_table WHERE y > ?\n",
      "2024-12-05 13:44:53,356 INFO sqlalchemy.engine.Engine [generated in 0.00576s] (2,)\n",
      "x: 2  y: 4\n",
      "x: 6  y: 8\n",
      "x: 9  y: 10\n",
      "2024-12-05 13:44:53,363 INFO sqlalchemy.engine.Engine ROLLBACK\n"
     ]
    }
   ],
   "source": [
    "with engine.connect() as conn:\n",
    "    result = conn.execute(text(\"SELECT x, y FROM some_table WHERE y > :y\"), {\"y\": 2})\n",
    "    for row in result:\n",
    "        print(f\"x: {row.x}  y: {row.y}\")"
   ]
  },
  {
   "cell_type": "code",
   "execution_count": null,
   "id": "8894f97c-127f-475f-8452-2b3137afab83",
   "metadata": {},
   "outputs": [],
   "source": []
  }
 ],
 "metadata": {
  "kernelspec": {
   "display_name": "Python 3 (ipykernel)",
   "language": "python",
   "name": "python3"
  },
  "language_info": {
   "codemirror_mode": {
    "name": "ipython",
    "version": 3
   },
   "file_extension": ".py",
   "mimetype": "text/x-python",
   "name": "python",
   "nbconvert_exporter": "python",
   "pygments_lexer": "ipython3",
   "version": "3.10.15"
  }
 },
 "nbformat": 4,
 "nbformat_minor": 5
}
