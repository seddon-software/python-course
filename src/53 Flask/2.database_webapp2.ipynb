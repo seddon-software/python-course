{
 "cells": [
  {
   "cell_type": "markdown",
   "id": "8cb1869e-7d93-4181-b428-4d84c5b66670",
   "metadata": {},
   "source": [
    "# Flask: WebApp using sqlite3"
   ]
  },
  {
   "cell_type": "markdown",
   "id": "cc0b1ab0-896a-4162-9945-206f3453a24e",
   "metadata": {},
   "source": [
    "Prerequistes:\n",
    "*    pip install flask\n",
    "*    pip install flask_sqlalchemy"
   ]
  },
  {
   "cell_type": "code",
   "execution_count": 316,
   "id": "3a14c745-40ea-4054-b0f5-322aa9cccf24",
   "metadata": {},
   "outputs": [
    {
     "name": "stdout",
     "output_type": "stream",
     "text": [
      "total 76\n",
      "-rw-rw-r-- 1 chris chris  5853 Dec  5 13:45 03.ipynb\n",
      "-rw-rw-r-- 1 chris chris  8359 Dec  4 22:18 1.basic_webapp.ipynb\n",
      "-rw-rw-r-- 1 chris chris 18851 Dec  6 16:38 2.database_webapp.ipynb\n",
      "-rw-rw-r-- 1 chris chris   901 Dec  6 13:25 app.py\n",
      "-rw-rw-r-- 1 chris chris   901 Dec  6 14:48 database_app.py\n",
      "-rw-r--r-- 1 chris chris 12288 Dec  6 14:48 database.db\n",
      "drwxrwxr-x 2 chris chris  4096 Dec  6 14:48 __pycache__\n",
      "-rw-rw-r-- 1 chris chris    72 Dec  5 13:35 Untitled1.ipynb\n",
      "-rw-rw-r-- 1 chris chris    72 Dec  4 12:17 Untitled.ipynb\n",
      "drwxrwxr-x 2 chris chris  4096 Dec  6 16:39 workspace2\n",
      "total 72\n",
      "-rw-rw-r-- 1 chris chris  5853 Dec  5 13:45 03.ipynb\n",
      "-rw-rw-r-- 1 chris chris  8359 Dec  4 22:18 1.basic_webapp.ipynb\n",
      "-rw-rw-r-- 1 chris chris 18851 Dec  6 16:38 2.database_webapp.ipynb\n",
      "-rw-rw-r-- 1 chris chris   901 Dec  6 13:25 app.py\n",
      "-rw-rw-r-- 1 chris chris   901 Dec  6 14:48 database_app.py\n",
      "-rw-r--r-- 1 chris chris 12288 Dec  6 14:48 database.db\n",
      "drwxrwxr-x 2 chris chris  4096 Dec  6 14:48 __pycache__\n",
      "-rw-rw-r-- 1 chris chris    72 Dec  5 13:35 Untitled1.ipynb\n",
      "-rw-rw-r-- 1 chris chris    72 Dec  4 12:17 Untitled.ipynb\n"
     ]
    }
   ],
   "source": [
    "cd '/home/chris/workspace/python-course/Level 4/02 Flask'\n",
    "ls -l\n",
    "rm -rf workspace2\n",
    "ls -l"
   ]
  },
  {
   "cell_type": "code",
   "execution_count": 317,
   "id": "37c7075a-76e3-4f7d-9508-f74bb6eb7230",
   "metadata": {},
   "outputs": [],
   "source": [
    "stty -echo\n",
    "mkdir workspace2\n",
    "cd workspace2"
   ]
  },
  {
   "cell_type": "markdown",
   "id": "eabf9002-fe6f-4296-963e-4e21d0a1ca6d",
   "metadata": {},
   "source": [
    "Create a basic webapp"
   ]
  },
  {
   "cell_type": "code",
   "execution_count": 318,
   "id": "e1f311c5-a786-4df9-9ed2-3ae687a66192",
   "metadata": {},
   "outputs": [],
   "source": [
    "# create new app\n",
    "cat << EOF > database_app.py\n",
    "import os\n",
    "from flask import Flask, render_template, request, url_for, redirect\n",
    "from flask_sqlalchemy import SQLAlchemy\n",
    "\n",
    "from sqlalchemy.sql import func\n",
    "\n",
    "\n",
    "basedir = os.path.abspath(os.path.dirname(__file__))\n",
    "\n",
    "app = Flask(__name__)\n",
    "app.config['SQLALCHEMY_DATABASE_URI'] =\\\n",
    "        'sqlite:///' + os.path.join(basedir, 'database.db')\n",
    "app.config['SQLALCHEMY_TRACK_MODIFICATIONS'] = False\n",
    "\n",
    "db = SQLAlchemy(app)\n",
    "\n",
    "\n",
    "class Student(db.Model):\n",
    "    id = db.Column(db.Integer, primary_key=True)\n",
    "    firstname = db.Column(db.String(100), nullable=False)\n",
    "    lastname = db.Column(db.String(100), nullable=False)\n",
    "    email = db.Column(db.String(80), unique=True, nullable=False)\n",
    "    age = db.Column(db.Integer)\n",
    "    created_at = db.Column(db.DateTime(timezone=True),\n",
    "                           server_default=func.now())\n",
    "    bio = db.Column(db.Text)\n",
    "\n",
    "    def __repr__(self):\n",
    "        return f'<Student {self.firstname}>'\n",
    "\n",
    "@app.route('/')\n",
    "def index():\n",
    "    students = Student.query.all()\n",
    "    return render_template('index.html', students=students)\n",
    "\n",
    "EOF"
   ]
  },
  {
   "cell_type": "markdown",
   "id": "c080bd43-b0fa-4b06-b333-45216813f107",
   "metadata": {},
   "source": [
    "Start the Flask development server:"
   ]
  },
  {
   "cell_type": "code",
   "execution_count": 319,
   "id": "f7e87087-15eb-4890-97dd-738b9b1b2b39",
   "metadata": {},
   "outputs": [
    {
     "name": "stdout",
     "output_type": "stream",
     "text": [
      "[1] 52712\n"
     ]
    }
   ],
   "source": [
    "fuser -k 8000/tcp  # kill previous incarnations\n",
    "flask --app database_app run --host localhost --port 8000 &"
   ]
  },
  {
   "cell_type": "code",
   "execution_count": 320,
   "id": "f2352692-cc92-4bb0-b778-0d0d8c8d7c86",
   "metadata": {},
   "outputs": [
    {
     "name": "stdout",
     "output_type": "stream",
     "text": [
      " * Serving Flask app 'database_app'\n",
      " * Debug mode: off\n",
      "\u001b[31m\u001b[1mWARNING: This is a development server. Do not use it in a production deployment. Use a production WSGI server instead.\u001b[0m\n",
      " * Running on http://localhost:8000\n",
      "\u001b[33mPress CTRL+C to quit\u001b[0m\n",
      "Python 3.10.15 (main, Oct 18 2024, 15:04:49) [GCC 13.2.0] on linux\n",
      "App: database_app\n",
      "Instance: /home/chris/workspace/python-course/src/53 Flask/workspace2/instance\n",
      ">>> >>> >>> >>> >>> \n",
      "now exiting InteractiveConsole...\n"
     ]
    }
   ],
   "source": [
    "export FLASK_APP=database_app\n",
    "flask shell << EOF\n",
    "from database_app import db, Student\n",
    "db.create_all()\n",
    "db.drop_all()\n",
    "db.create_all()\n",
    "EOF"
   ]
  },
  {
   "cell_type": "code",
   "execution_count": 321,
   "id": "3652e8b8-1e98-4a86-b4d3-e9a85f03a4e3",
   "metadata": {},
   "outputs": [
    {
     "name": "stdout",
     "output_type": "stream",
     "text": [
      "Python 3.10.15 (main, Oct 18 2024, 15:04:49) [GCC 13.2.0] on linux\n",
      "App: database_app\n",
      "Instance: /home/chris/workspace/python-course/src/53 Flask/workspace2/instance\n",
      ">>> ... ... >>> ... ... ... ... >>> >>> ... ... ... ... >>> >>> >>> >>> >>> >>> [<Student john>, <Student Sammy>, <Student Carl>]\n",
      ">>> \n",
      "now exiting InteractiveConsole...\n"
     ]
    }
   ],
   "source": [
    "export FLASK_APP=database_app\n",
    "flask shell << EOF\n",
    "john = Student(firstname='john', lastname='doe',\n",
    "                       email='jd@example.com', age=23,\n",
    "                       bio='Biology student')\n",
    "sammy = Student(firstname='Sammy',\n",
    "               lastname='Shark',\n",
    "               email='sammyshark@example.com',\n",
    "               age=20,\n",
    "               bio='Marine biology student')\n",
    "\n",
    "carl = Student(firstname='Carl',\n",
    "               lastname='White',\n",
    "               email='carlwhite@example.com',\n",
    "               age=22,\n",
    "               bio='Marine geology student')\n",
    "\n",
    "db.session.add(john)\n",
    "db.session.add(sammy)\n",
    "db.session.add(carl)\n",
    "db.session.commit()\n",
    "Student.query.all()\n",
    "EOF"
   ]
  },
  {
   "cell_type": "markdown",
   "id": "5a8299e4-5de8-4e90-9d39-6629beb15ba7",
   "metadata": {},
   "source": [
    "Create the template.  This needs to be stored in the `template` subdirectory.  \n",
    "Note how we link to the stylesheet:  \n",
    "```    <link rel=\"stylesheet\" type= \"text/css\" href= \"{{ url_for('static',filename='styles/mystyles.css') }}\">```\n",
    "\n",
    "The above expands to:  \n",
    "```    <link rel=\"stylesheet\" type= \"text/css\" href= \"/static/styles/mystyles.css\">```"
   ]
  },
  {
   "cell_type": "code",
   "execution_count": 322,
   "id": "60a11d96-c862-4ea1-b6a0-5482e1350769",
   "metadata": {},
   "outputs": [],
   "source": [
    "mkdir templates\n",
    "cat << EOF > templates/base.html\n",
    "<!DOCTYPE html>\n",
    "<html lang=\"en\">\n",
    "<head>\n",
    "    <meta charset=\"UTF-8\">\n",
    "    <link rel=\"stylesheet\" type= \"text/css\" href= \"{{ url_for('static',filename='styles/mystyles.css') }}\"    \n",
    "    <title>{% block title %} {% endblock %} - FlaskApp</title>\n",
    "</head>\n",
    "<body>\n",
    "    <nav>\n",
    "        <a href=\"{{ url_for('index') }}\">FlaskApp</a>\n",
    "        <a href=\"#\">Create</a>\n",
    "        <a href=\"#\">About</a>\n",
    "    </nav>\n",
    "    <hr>\n",
    "    <div class=\"content\">\n",
    "        {% block content %} {% endblock %}\n",
    "    </div>\n",
    "</body>\n",
    "</html>\n",
    "EOF"
   ]
  },
  {
   "cell_type": "code",
   "execution_count": 323,
   "id": "cd5ee1ee-982b-49de-9f22-fdfdf5982667",
   "metadata": {},
   "outputs": [],
   "source": [
    "mkdir -p static/styles\n",
    "cat << EOF > static/styles/mystyles.css\n",
    ".title {\n",
    "    margin: 5px;\n",
    "}\n",
    "\n",
    ".content {\n",
    "    margin: 5px;\n",
    "    width: 100%;\n",
    "    display: flex;\n",
    "    flex-direction: row;\n",
    "    flex-wrap: wrap;\n",
    "}\n",
    "\n",
    ".student {\n",
    "    flex: 20%;\n",
    "    padding: 10px;\n",
    "    margin: 5px;\n",
    "    background-color: #f3f3f3;\n",
    "    inline-size: 100%;\n",
    "}\n",
    "\n",
    ".bio {\n",
    "    padding: 10px;\n",
    "    margin: 5px;\n",
    "    background-color: #ffffff;\n",
    "    color: #004835;\n",
    "}\n",
    "\n",
    ".name a {\n",
    "    color: #00a36f;\n",
    "    text-decoration: none;\n",
    "}\n",
    "\n",
    "nav a {\n",
    "    color: #d64161;\n",
    "    font-size: 3em;\n",
    "    margin-left: 50px;\n",
    "    text-decoration: none;\n",
    "}\n",
    "EOF"
   ]
  },
  {
   "cell_type": "code",
   "execution_count": 324,
   "id": "6b76a380-0d75-44c4-946b-3627855e7b2a",
   "metadata": {},
   "outputs": [],
   "source": [
    "cat << EOF > templates/index.html-\n",
    "<!DOCTYPE html>\n",
    "<html lang=\"en\">\n",
    "<head>\n",
    "    <meta charset=\"UTF-8\">\n",
    "    <title> - FlaskApp</title>\n",
    "    <link rel=\"stylesheet\" type= \"text/css\" href= \"{{ url_for('static',filename='styles/mystyles.css') }}\"    \n",
    "</head>\n",
    "<body>\n",
    "    <nav>\n",
    "        <a href=\"{{ url_for('index') }}\">FlaskApp</a>\n",
    "        <a href=\"#\">Create</a>\n",
    "        <a href=\"#\">About</a>\n",
    "    </nav>\n",
    "    <hr>\n",
    "    <h1 class=\"title\">Students</h1>\n",
    "    <div class=\"content\">\n",
    "        {% for student in students %}\n",
    "            <div class=\"student\">\n",
    "                <p><b>#{{ student.id }}</b></p>\n",
    "                <b>\n",
    "                    <p class=\"name\">{{ student.firstname }} {{ student.lastname }}</p>\n",
    "                </b>\n",
    "                <p>{{ student.email }}</p>\n",
    "                <p>{{ student.age }} years old.</p>\n",
    "                <p>Joined: {{ student.created_at }}</p>\n",
    "                <div class=\"bio\">\n",
    "                    <h4>Bio</h4>\n",
    "                    <p>{{ student.bio }}</p>\n",
    "                </div>\n",
    "            </div>\n",
    "        {% endfor %}\n",
    "    </div>\n",
    "</body>\n",
    "</html>\n",
    "EOF"
   ]
  },
  {
   "cell_type": "code",
   "execution_count": 325,
   "id": "0be5f66d-0cdc-454e-8400-f7cc050bfd19",
   "metadata": {},
   "outputs": [],
   "source": [
    "cat << EOF > templates/index.html\n",
    "{% extends 'base.html' %}\n",
    "\n",
    "{% block content %}\n",
    "    <h1 class=\"title\">{% block title %} Students {% endblock %}</h1>\n",
    "    <div class=\"content\">\n",
    "        {% for student in students %}\n",
    "            <div class=\"student\">\n",
    "                <p><b>#{{ student.id }}</b></p>\n",
    "                <b>\n",
    "                    <p class=\"name\">{{ student.firstname }} {{ student.lastname }}</p>\n",
    "                </b>\n",
    "                <p>{{ student.email }}</p>\n",
    "                <p>{{ student.age }} years old.</p>\n",
    "                <p>Joined: {{ student.created_at }}</p>\n",
    "                <div class=\"bio\">\n",
    "                    <h4>Bio</h4>\n",
    "                    <p>{{ student.bio }}</p>\n",
    "                </div>\n",
    "            </div>\n",
    "        {% endfor %}\n",
    "    </div>\n",
    "{% endblock %}\n",
    "EOF"
   ]
  },
  {
   "cell_type": "code",
   "execution_count": 326,
   "id": "a9d7b5f3-2ba7-4b94-9198-f642d6df4a5d",
   "metadata": {},
   "outputs": [],
   "source": [
    "#export FLASK_APP=database_app\n",
    "#export FLASK_ENV=development\n",
    "#flask run"
   ]
  },
  {
   "cell_type": "code",
   "execution_count": 327,
   "id": "1236bbf9-cd60-4a70-8742-02918ba180b9",
   "metadata": {},
   "outputs": [
    {
     "name": "stdout",
     "output_type": "stream",
     "text": [
      "8000/tcp:            52712\n",
      "[2] 52894\n",
      "[1]   Killed                  flask --app database_app run --host localhost --port 8000\n"
     ]
    }
   ],
   "source": [
    "fuser -k 8000/tcp  # kill previous incarnations\n",
    "flask --app database_app run --host localhost --port 8000 &"
   ]
  },
  {
   "cell_type": "markdown",
   "id": "c0d4676d-1e0b-4807-90e3-3c8ee47ee8c6",
   "metadata": {},
   "source": [
    "Now display views in firefox"
   ]
  },
  {
   "cell_type": "code",
   "execution_count": 328,
   "id": "4c76d513-adca-4ca9-b99c-6ad8ec151bc6",
   "metadata": {},
   "outputs": [
    {
     "name": "stdout",
     "output_type": "stream",
     "text": [
      " * Serving Flask app 'database_app'\n",
      " * Debug mode: off\n",
      "\u001b[31m\u001b[1mWARNING: This is a development server. Do not use it in a production deployment. Use a production WSGI server instead.\u001b[0m\n",
      " * Running on http://localhost:8000\n",
      "\u001b[33mPress CTRL+C to quit\u001b[0m\n"
     ]
    }
   ],
   "source": [
    "firefox http://localhost:8000\n",
    "#firefox --new-tab http://localhost:8000/view1\n",
    "#firefox --new-tab http://localhost:8000/view2\n",
    "#firefox --new-tab http://localhost:8000/week/7\n",
    "#firefox --new-tab http://localhost:8000/convert/23.9"
   ]
  },
  {
   "cell_type": "code",
   "execution_count": 329,
   "id": "47d83ccc-2b49-4b17-afc1-6cc03924fe79",
   "metadata": {},
   "outputs": [
    {
     "name": "stdout",
     "output_type": "stream",
     "text": [
      "127.0.0.1 - - [06/Dec/2024 16:39:53] \"GET / HTTP/1.1\" 200 -\n",
      "127.0.0.1 - - [06/Dec/2024 16:39:53] \"GET /static/styles/mystyles.css HTTP/1.1\" 200 -\n",
      "Python 3.10.15 (main, Oct 18 2024, 15:04:49) [GCC 13.2.0] on linux\n",
      "App: database_app\n",
      "Instance: /home/chris/workspace/python-course/src/53 Flask/workspace2/instance\n",
      ">>> >>> [<Student Sammy>]\n",
      ">>> <Student Sammy>\n",
      ">>> <Student Carl>\n",
      ">>> \n"
     ]
    }
   ],
   "source": [
    "flask shell << EOF\n",
    "from database_app import db, Student\n",
    "Student.query.filter_by(firstname='Sammy').all()\n",
    "Student.query.filter_by(firstname='Sammy').first()\n",
    "Student.query.get(3)\n",
    "exit()\n",
    "EOF"
   ]
  },
  {
   "cell_type": "code",
   "execution_count": 330,
   "id": "1039cb45-661e-4ec5-9e4c-866bffdf97fc",
   "metadata": {},
   "outputs": [],
   "source": [
    "cat << EOF >> database_app.py\n",
    "# ...\n",
    "\n",
    "@app.route('/<int:student_id>/')\n",
    "def student(student_id):\n",
    "    student = Student.query.get_or_404(student_id)\n",
    "    return render_template('student.html', student=student)\n",
    "EOF"
   ]
  },
  {
   "cell_type": "code",
   "execution_count": 331,
   "id": "68890428-4dc8-453b-918f-6d38a95841a6",
   "metadata": {},
   "outputs": [],
   "source": [
    "cat << EOF > templates/student.html\n",
    "{% extends 'base.html' %}\n",
    "\n",
    "{% block content %}\n",
    "    <span class=\"title\">\n",
    "        <h1>{% block title %} {{ student.firstname }} {{ student.lastname }}{% endblock %}</h1>\n",
    "    </span>\n",
    "    <div class=\"content\">\n",
    "            <div class=\"student\">\n",
    "                <p><b>#{{ student.id }}</b></p>\n",
    "                <b>\n",
    "                    <p class=\"name\">{{ student.firstname }} {{ student.lastname }}</p>\n",
    "                </b>\n",
    "                <p>{{ student.email }}</p>\n",
    "                <p>{{ student.age }} years old.</p>\n",
    "                <p>Joined: {{ student.created_at }}</p>\n",
    "                <div class=\"bio\">\n",
    "                    <h4>Bio</h4>\n",
    "                    <p>{{ student.bio }}</p>\n",
    "                </div>\n",
    "            </div>\n",
    "    </div>\n",
    "{% endblock %}\n",
    "EOF"
   ]
  },
  {
   "cell_type": "code",
   "execution_count": 333,
   "id": "7ebe9b60-5332-4a16-9181-b74e9e61c0d3",
   "metadata": {},
   "outputs": [
    {
     "name": "stdout",
     "output_type": "stream",
     "text": [
      "127.0.0.1 - - [06/Dec/2024 16:40:12] \"\u001b[33mGET /2 HTTP/1.1\u001b[0m\" 404 -\n",
      "8000/tcp:            52894\n",
      "[3] 53437\n",
      "[2]   Killed                  flask --app database_app run --host localhost --port 8000\n"
     ]
    }
   ],
   "source": [
    "fuser -k 8000/tcp  # kill previous incarnations\n",
    "flask --app database_app run --host localhost --port 8000 &"
   ]
  },
  {
   "cell_type": "code",
   "execution_count": 334,
   "id": "162165b3-c29d-4b5a-a557-46992013fc3f",
   "metadata": {},
   "outputs": [
    {
     "name": "stdout",
     "output_type": "stream",
     "text": [
      " * Serving Flask app 'database_app'\n",
      " * Debug mode: off\n",
      "\u001b[31m\u001b[1mWARNING: This is a development server. Do not use it in a production deployment. Use a production WSGI server instead.\u001b[0m\n",
      " * Running on http://localhost:8000\n",
      "\u001b[33mPress CTRL+C to quit\u001b[0m\n"
     ]
    }
   ],
   "source": [
    "firefox http://localhost:8000/2\n",
    "#firefox --new-tab http://localhost:8000/view1\n",
    "#firefox --new-tab http://localhost:8000/view2\n",
    "#firefox --new-tab http://localhost:8000/week/7\n",
    "#firefox --new-tab http://localhost:8000/convert/23.9"
   ]
  },
  {
   "cell_type": "code",
   "execution_count": 335,
   "id": "6a9b083b-ff0d-4dd9-994a-13c12834a012",
   "metadata": {},
   "outputs": [
    {
     "name": "stdout",
     "output_type": "stream",
     "text": [
      "127.0.0.1 - - [06/Dec/2024 16:40:24] \"\u001b[32mGET /2 HTTP/1.1\u001b[0m\" 308 -\n",
      "127.0.0.1 - - [06/Dec/2024 16:40:24] \"GET /2/ HTTP/1.1\" 200 -\n",
      "127.0.0.1 - - [06/Dec/2024 16:40:24] \"\u001b[36mGET /static/styles/mystyles.css HTTP/1.1\u001b[0m\" 304 -\n"
     ]
    }
   ],
   "source": [
    "cat << EOF > templates/index.html\n",
    "{% extends 'base.html' %}\n",
    "\n",
    "{% block content %}\n",
    "    <h1 class=\"title\">{% block title %} Students {% endblock %}</h1>\n",
    "    <div class=\"content\">\n",
    "{% for student in students %}\n",
    "    <div class=\"student\">\n",
    "        <p><b>#{{ student.id }}</b></p>\n",
    "        <b>\n",
    "            <p class=\"name\">\n",
    "                <a href=\"{{ url_for('student', student_id=student.id)}}\">\n",
    "                    {{ student.firstname }} {{ student.lastname }}\n",
    "                </a>\n",
    "            </p>\n",
    "        </b>\n",
    "        <p>{{ student.email }}</p>\n",
    "        <p>{{ student.age }} years old.</p>\n",
    "        <p>Joined: {{ student.created_at }}</p>\n",
    "        <div class=\"bio\">\n",
    "            <h4>Bio</h4>\n",
    "            <p>{{ student.bio }}</p>\n",
    "        </div>\n",
    "    </div>\n",
    "{% endfor %}    </div>\n",
    "{% endblock %}\n",
    "EOF"
   ]
  },
  {
   "cell_type": "code",
   "execution_count": 336,
   "id": "7f92ee12-333c-4969-9ba2-3d00f4a4cffe",
   "metadata": {},
   "outputs": [
    {
     "name": "stdout",
     "output_type": "stream",
     "text": [
      "8000/tcp:            53437\n",
      "[4] 54842\n",
      "[3]   Killed                  flask --app database_app run --host localhost --port 8000\n"
     ]
    }
   ],
   "source": [
    "fuser -k 8000/tcp  # kill previous incarnations\n",
    "flask --app database_app run --host localhost --port 8000 &"
   ]
  },
  {
   "cell_type": "code",
   "execution_count": 337,
   "id": "724858db-b643-43b1-9b68-49889c313c05",
   "metadata": {},
   "outputs": [
    {
     "name": "stdout",
     "output_type": "stream",
     "text": [
      " * Serving Flask app 'database_app'\n",
      " * Debug mode: off\n",
      "\u001b[31m\u001b[1mWARNING: This is a development server. Do not use it in a production deployment. Use a production WSGI server instead.\u001b[0m\n",
      " * Running on http://localhost:8000\n",
      "\u001b[33mPress CTRL+C to quit\u001b[0m\n"
     ]
    }
   ],
   "source": [
    "firefox http://localhost:8000/2\n",
    "#firefox --new-tab http://localhost:8000/view1\n",
    "#firefox --new-tab http://localhost:8000/view2\n",
    "#firefox --new-tab http://localhost:8000/week/7\n",
    "#firefox --new-tab http://localhost:8000/convert/23.9"
   ]
  },
  {
   "cell_type": "code",
   "execution_count": 338,
   "id": "05a04126-9bca-4b20-b4ac-3f2f4ca26fb9",
   "metadata": {},
   "outputs": [
    {
     "name": "stdout",
     "output_type": "stream",
     "text": [
      "127.0.0.1 - - [06/Dec/2024 17:04:47] \"GET /2/ HTTP/1.1\" 200 -\n",
      "127.0.0.1 - - [06/Dec/2024 17:04:47] \"\u001b[36mGET /static/styles/mystyles.css HTTP/1.1\u001b[0m\" 304 -\n"
     ]
    }
   ],
   "source": [
    "cat << EOF >> database_app.py\n",
    "\n",
    "@app.route('/create/', methods=('GET', 'POST'))\n",
    "def create():\n",
    "    return render_template('create.html')\n",
    "EOF"
   ]
  },
  {
   "cell_type": "code",
   "execution_count": 344,
   "id": "f70a3112-bd8d-4a6e-92db-58a0f4ddf365",
   "metadata": {},
   "outputs": [
    {
     "name": "stdout",
     "output_type": "stream",
     "text": [
      "[2024-12-06 17:09:10,051] ERROR in app: Exception on /create/ [GET]\n",
      "Traceback (most recent call last):\n",
      "  File \"/home/chris/.pyenv/versions/3.10.15/lib/python3.10/site-packages/flask/app.py\", line 1511, in wsgi_app\n",
      "    response = self.full_dispatch_request()\n",
      "  File \"/home/chris/.pyenv/versions/3.10.15/lib/python3.10/site-packages/flask/app.py\", line 919, in full_dispatch_request\n",
      "    rv = self.handle_user_exception(e)\n",
      "  File \"/home/chris/.pyenv/versions/3.10.15/lib/python3.10/site-packages/flask/app.py\", line 917, in full_dispatch_request\n",
      "    rv = self.dispatch_request()\n",
      "  File \"/home/chris/.pyenv/versions/3.10.15/lib/python3.10/site-packages/flask/app.py\", line 902, in dispatch_request\n",
      "    return self.ensure_sync(self.view_functions[rule.endpoint])(**view_args)  # type: ignore[no-any-return]\n",
      "  File \"/home/chris/workspace/python-course/src/53 Flask/workspace2/database_app.py\", line 44, in create\n",
      "    return render_template('create.html')\n",
      "  File \"/home/chris/.pyenv/versions/3.10.15/lib/python3.10/site-packages/flask/templating.py\", line 149, in render_template\n",
      "    template = app.jinja_env.get_or_select_template(template_name_or_list)\n",
      "  File \"/home/chris/.pyenv/versions/3.10.15/lib/python3.10/site-packages/jinja2/environment.py\", line 1084, in get_or_select_template\n",
      "    return self.get_template(template_name_or_list, parent, globals)\n",
      "  File \"/home/chris/.pyenv/versions/3.10.15/lib/python3.10/site-packages/jinja2/environment.py\", line 1013, in get_template\n",
      "    return self._load_template(name, globals)\n",
      "  File \"/home/chris/.pyenv/versions/3.10.15/lib/python3.10/site-packages/jinja2/environment.py\", line 972, in _load_template\n",
      "    template = self.loader.load(self, name, self.make_globals(globals))\n",
      "  File \"/home/chris/.pyenv/versions/3.10.15/lib/python3.10/site-packages/jinja2/loaders.py\", line 126, in load\n",
      "    source, filename, uptodate = self.get_source(environment, name)\n",
      "  File \"/home/chris/.pyenv/versions/3.10.15/lib/python3.10/site-packages/flask/templating.py\", line 65, in get_source\n",
      "    return self._get_source_fast(environment, template)\n",
      "  File \"/home/chris/.pyenv/versions/3.10.15/lib/python3.10/site-packages/flask/templating.py\", line 99, in _get_source_fast\n",
      "    raise TemplateNotFound(template)\n",
      "jinja2.exceptions.TemplateNotFound: create.html\n",
      "127.0.0.1 - - [06/Dec/2024 17:09:10] \"\u001b[35m\u001b[1mGET /create/ HTTP/1.1\u001b[0m\" 500 -\n"
     ]
    }
   ],
   "source": [
    "cat << EOF > templates/create.html\n",
    "{% extends 'base.html' %}\n",
    "\n",
    "{% block content %}\n",
    "    <h1 style=\"width: 100%\">{% block title %} Add a New Student {% endblock %}</h1>\n",
    "    <form method=\"post\">\n",
    "        <p>\n",
    "            <label for=\"firstname\">First Name</label>\n",
    "            <input type=\"text\" name=\"firstname\"\n",
    "                   placeholder=\"First name\">\n",
    "            </input>\n",
    "        </p>\n",
    "\n",
    "        <p>\n",
    "            <label for=\"lastname\">Last Name</label>\n",
    "            <input type=\"text\" name=\"lastname\"\n",
    "                   placeholder=\"Last name\">\n",
    "            </input>\n",
    "        </p>\n",
    "\n",
    "        <p>\n",
    "            <label for=\"email\">Email</label>\n",
    "            <input type=\"email\" name=\"email\"\n",
    "                   placeholder=\"Student email\">\n",
    "            </input>\n",
    "        </p>\n",
    "\n",
    "        <p>\n",
    "            <label for=\"age\">Age</label>\n",
    "            <input type=\"number\" name=\"age\"\n",
    "                   placeholder=\"Age\">\n",
    "            </input>\n",
    "        </p>\n",
    "\n",
    "        <p>\n",
    "        <label for=\"bio\">Bio</label>\n",
    "        <br>\n",
    "        <textarea name=\"bio\"\n",
    "                  placeholder=\"Bio\"\n",
    "                  rows=\"15\"\n",
    "                  cols=\"60\"\n",
    "                  ></textarea>\n",
    "        </p>\n",
    "        <p>\n",
    "            <button type=\"submit\">Submit</button>\n",
    "        </p>\n",
    "    </form>\n",
    "{% endblock %}\n",
    "EOF\n"
   ]
  },
  {
   "cell_type": "code",
   "execution_count": 345,
   "id": "409f4853-a578-41b8-afa2-c7c85c5b926c",
   "metadata": {},
   "outputs": [
    {
     "name": "stdout",
     "output_type": "stream",
     "text": [
      "8000/tcp:            55569\n",
      "[6] 56032\n",
      "[5]   Killed                  flask --app database_app run --host localhost --port 8000\n"
     ]
    }
   ],
   "source": [
    "fuser -k 8000/tcp  # kill previous incarnations\n",
    "flask --app database_app run --host localhost --port 8000 &"
   ]
  },
  {
   "cell_type": "code",
   "execution_count": 346,
   "id": "0d1ce3dd-970f-4065-9709-4f251f022351",
   "metadata": {},
   "outputs": [
    {
     "name": "stdout",
     "output_type": "stream",
     "text": [
      " * Serving Flask app 'database_app'\n",
      " * Debug mode: off\n",
      "\u001b[31m\u001b[1mWARNING: This is a development server. Do not use it in a production deployment. Use a production WSGI server instead.\u001b[0m\n",
      " * Running on http://localhost:8000\n",
      "\u001b[33mPress CTRL+C to quit\u001b[0m\n"
     ]
    }
   ],
   "source": [
    "firefox http://localhost:8000/create"
   ]
  },
  {
   "cell_type": "code",
   "execution_count": null,
   "id": "8d479d9c-7d85-4c31-bf29-0924350965a8",
   "metadata": {},
   "outputs": [],
   "source": []
  }
 ],
 "metadata": {
  "kernelspec": {
   "display_name": "Bash",
   "language": "bash",
   "name": "bash"
  },
  "language_info": {
   "codemirror_mode": "shell",
   "file_extension": ".sh",
   "mimetype": "text/x-sh",
   "name": "bash"
  }
 },
 "nbformat": 4,
 "nbformat_minor": 5
}
