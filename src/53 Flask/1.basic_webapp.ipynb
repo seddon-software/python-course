{
 "cells": [
  {
   "cell_type": "markdown",
   "id": "8cb1869e-7d93-4181-b428-4d84c5b66670",
   "metadata": {},
   "source": [
    "# Flask: Basic WebApp"
   ]
  },
  {
   "cell_type": "markdown",
   "id": "cc0b1ab0-896a-4162-9945-206f3453a24e",
   "metadata": {},
   "source": [
    "???"
   ]
  },
  {
   "cell_type": "code",
   "execution_count": 191,
   "id": "3a14c745-40ea-4054-b0f5-322aa9cccf24",
   "metadata": {},
   "outputs": [
    {
     "name": "stdout",
     "output_type": "stream",
     "text": [
      "127.0.0.1 - - [04/Dec/2024 22:05:07] \"GET /template HTTP/1.1\" 200 -\n",
      "127.0.0.1 - - [04/Dec/2024 22:05:07] \"GET /static/styles/mystyles.css HTTP/1.1\" 200 -\n",
      "/home/chris/workspace/python-course/Level 4/workspace1\n",
      "/home/chris/workspace/python-course/Level 4\n"
     ]
    }
   ],
   "source": [
    "pwd\n",
    "cd ..\n",
    "pwd\n",
    "rm -rf workspace1"
   ]
  },
  {
   "cell_type": "code",
   "execution_count": 192,
   "id": "37c7075a-76e3-4f7d-9508-f74bb6eb7230",
   "metadata": {},
   "outputs": [],
   "source": [
    "stty -echo\n",
    "mkdir workspace1\n",
    "cd workspace1"
   ]
  },
  {
   "cell_type": "markdown",
   "id": "eabf9002-fe6f-4296-963e-4e21d0a1ca6d",
   "metadata": {},
   "source": [
    "Create a basic webapp"
   ]
  },
  {
   "cell_type": "code",
   "execution_count": 193,
   "id": "e1f311c5-a786-4df9-9ed2-3ae687a66192",
   "metadata": {},
   "outputs": [],
   "source": [
    "# create new app\n",
    "cat << EOF > basic_app.py\n",
    "from flask import Flask\n",
    "app = Flask(__name__)\n",
    "\n",
    "@app.route('/')\n",
    "def hello_world():\n",
    "   return 'This is the FLASK app index page'\n",
    "\n",
    "@app.route('/view1')\n",
    "def view1():\n",
    "   return 'This is view 1'\n",
    "\n",
    "@app.route('/view2')\n",
    "def view2():\n",
    "   return 'This is view 2'\n",
    "\n",
    "# routes with parameters\n",
    "@app.route('/week/<int:n>')\n",
    "def week(n):\n",
    "   return f'This is week {n}'\n",
    "\n",
    "@app.route('/convert/<float:t>')\n",
    "def centigrade(t):\n",
    "   return f'{t} C = {t*1.8 + 32} F'\n",
    "EOF\n"
   ]
  },
  {
   "cell_type": "markdown",
   "id": "c080bd43-b0fa-4b06-b333-45216813f107",
   "metadata": {},
   "source": [
    "Start the Flask development server:"
   ]
  },
  {
   "cell_type": "code",
   "execution_count": 194,
   "id": "f7e87087-15eb-4890-97dd-738b9b1b2b39",
   "metadata": {},
   "outputs": [
    {
     "name": "stdout",
     "output_type": "stream",
     "text": [
      "8000/tcp:            47242\n",
      "[27] 47550\n",
      "[26]   Killed                  flask --app basic_app run --host localhost --port 8000\n"
     ]
    }
   ],
   "source": [
    "fuser -k 8000/tcp  # kill previous incarnations\n",
    "flask --app basic_app run --host localhost --port 8000 &"
   ]
  },
  {
   "cell_type": "markdown",
   "id": "c0d4676d-1e0b-4807-90e3-3c8ee47ee8c6",
   "metadata": {},
   "source": [
    "Now display views in firefox"
   ]
  },
  {
   "cell_type": "markdown",
   "id": "b3c73eb1",
   "metadata": {},
   "source": []
  },
  {
   "cell_type": "code",
   "execution_count": 195,
   "id": "4c76d513-adca-4ca9-b99c-6ad8ec151bc6",
   "metadata": {},
   "outputs": [],
   "source": [
    "firefox http://localhost:8000\n",
    "firefox --new-tab http://localhost:8000/view1\n",
    "firefox --new-tab http://localhost:8000/view2\n",
    "firefox --new-tab http://localhost:8000/week/7\n",
    "firefox --new-tab http://localhost:8000/convert/23.9"
   ]
  },
  {
   "cell_type": "markdown",
   "id": "144c375f-ede7-4265-8495-bd329cf66cda",
   "metadata": {},
   "source": [
    "The current views are too restrictive: they only return str.  Much better to use templates.  \n",
    "Templates must be stored in the `templates` subdirectory.  \n",
    "A view can display a template by calling `render_template`.  Furthermore, the view can pass parameters to the template.\n",
    "\n",
    "Let's append some code to our webapp:"
   ]
  },
  {
   "cell_type": "code",
   "execution_count": 196,
   "id": "e6711c6b-4d31-4f1b-9987-6af38f5c8b99",
   "metadata": {},
   "outputs": [
    {
     "name": "stdout",
     "output_type": "stream",
     "text": [
      " * Serving Flask app 'basic_app'\n",
      " * Debug mode: off\n",
      "\u001b[31m\u001b[1mWARNING: This is a development server. Do not use it in a production deployment. Use a production WSGI server instead.\u001b[0m\n",
      " * Running on http://localhost:8000\n",
      "\u001b[33mPress CTRL+C to quit\u001b[0m\n"
     ]
    }
   ],
   "source": [
    "cat << EOF >> basic_app.py\n",
    "from flask import render_template\n",
    "@app.route('/template')\n",
    "def template():\n",
    "    cities = [\"London\", \"New York\", \"Rome\", \"Paris\", \"Tokyo\"]\n",
    "    salaries = [{\"Peter\":22000, \"Ali\":41000, \"Suzi\":42000, \"Henry\":31000, \"Khalid\":27500}]\n",
    "    return render_template(\"mytemplate.html\", param1=cities, param2=salaries) \n",
    "EOF"
   ]
  },
  {
   "cell_type": "markdown",
   "id": "fbbcb33a-53dc-4359-80b7-cdd9020cbc53",
   "metadata": {},
   "source": [
    "Create the template"
   ]
  },
  {
   "cell_type": "code",
   "execution_count": 197,
   "id": "2fdd24d5-da49-43e6-924f-a75a94eb9f8f",
   "metadata": {},
   "outputs": [],
   "source": [
    "mkdir templates\n",
    "\n",
    "cat << EOF > templates/mytemplate.html\n",
    "<head>\n",
    "<link rel=\"stylesheet\" type= \"text/css\" href= \"{{ url_for('static',filename='styles/mystyles.css') }}\">\n",
    "</head>\n",
    "<body>\n",
    "<h1>CITIES</h1>\n",
    "<table>\n",
    "{% for item in param1 %}\n",
    "    <tr><td> {{item}} </td></tr>\n",
    "{% endfor %}\n",
    "</table>\n",
    "<h1>SALARIES</h1>\n",
    "<table>\n",
    "{% for dict_item in param2 %}\n",
    "    {% for key, value in dict_item.items() %}\n",
    "    <tr>\n",
    "      <td> {{key}} </td>\n",
    "      <td> {{value}} </td>\n",
    "    </tr>\n",
    "    {% endfor %}        \n",
    "{% endfor %}\n",
    "</table>\n",
    "</body>\n",
    "EOF"
   ]
  },
  {
   "cell_type": "markdown",
   "id": "d72a4caf-bda7-4b7f-95b6-fedbc091713a",
   "metadata": {},
   "source": [
    "Create the stylesheet"
   ]
  },
  {
   "cell_type": "code",
   "execution_count": 198,
   "id": "6ed4efa0-5ce8-447a-a112-6b03b62ebb41",
   "metadata": {},
   "outputs": [],
   "source": [
    "mkdir -p static/styles\n",
    "\n",
    "cat << EOF > static/styles/mystyles.css\n",
    "body {background-color: powderblue;}\n",
    "table, th, td {\n",
    "  border: 1px solid;\n",
    "}\n",
    "EOF"
   ]
  },
  {
   "cell_type": "markdown",
   "id": "e278529d-1811-45eb-8306-44fe2e23ecf2",
   "metadata": {},
   "source": [
    "Reload the server to see the changes: "
   ]
  },
  {
   "cell_type": "code",
   "execution_count": 199,
   "id": "d29f7d6b-2990-484b-b8f2-1cb11a47bfe6",
   "metadata": {},
   "outputs": [
    {
     "name": "stdout",
     "output_type": "stream",
     "text": [
      "8000/tcp:            47550\n",
      "[28] 47615\n",
      "[27]   Killed                  flask --app basic_app run --host localhost --port 8000\n"
     ]
    }
   ],
   "source": [
    "fuser -k 8000/tcp  # kill previous incarnations\n",
    "flask --app basic_app run --host localhost --port 8000 &"
   ]
  },
  {
   "cell_type": "code",
   "execution_count": 200,
   "id": "15d191a8-5473-4142-a58e-98d31b3191e2",
   "metadata": {},
   "outputs": [
    {
     "name": "stdout",
     "output_type": "stream",
     "text": [
      " * Serving Flask app 'basic_app'\n",
      " * Debug mode: off\n",
      "\u001b[31m\u001b[1mWARNING: This is a development server. Do not use it in a production deployment. Use a production WSGI server instead.\u001b[0m\n",
      " * Running on http://localhost:8000\n",
      "\u001b[33mPress CTRL+C to quit\u001b[0m\n"
     ]
    }
   ],
   "source": [
    "firefox http://localhost:8000/template"
   ]
  },
  {
   "cell_type": "code",
   "execution_count": null,
   "id": "fa54f2dc-28a8-4c05-a2f1-89f480922442",
   "metadata": {},
   "outputs": [],
   "source": []
  }
 ],
 "metadata": {
  "kernelspec": {
   "display_name": "Bash",
   "language": "bash",
   "name": "bash"
  },
  "language_info": {
   "codemirror_mode": "shell",
   "file_extension": ".sh",
   "mimetype": "text/x-sh",
   "name": "bash"
  }
 },
 "nbformat": 4,
 "nbformat_minor": 5
}
