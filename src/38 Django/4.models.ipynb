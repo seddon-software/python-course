{
 "cells": [
  {
   "cell_type": "markdown",
   "metadata": {},
   "source": [
    "# Models"
   ]
  },
  {
   "cell_type": "markdown",
   "metadata": {},
   "source": [
    "Define our project:"
   ]
  },
  {
   "cell_type": "code",
   "execution_count": 95,
   "metadata": {},
   "outputs": [],
   "source": [
    "stty -echo\n",
    "mkdir workspace4\n",
    "django-admin startproject myproject workspace4\n",
    "cd workspace4"
   ]
  },
  {
   "cell_type": "markdown",
   "metadata": {},
   "source": [
    "Create our webapp:"
   ]
  },
  {
   "cell_type": "code",
   "execution_count": 96,
   "metadata": {},
   "outputs": [],
   "source": [
    "python manage.py startapp models_app"
   ]
  },
  {
   "cell_type": "markdown",
   "metadata": {},
   "source": [
    "Django uses a Model-View architecture; we will modify `view.py` and `models.py` in this tutorial.  \n",
    "We begin by defining a model.  Django advises against using an `__init__` method, so we've created a create method instead:"
   ]
  },
  {
   "cell_type": "code",
   "execution_count": 97,
   "metadata": {},
   "outputs": [],
   "source": [
    "cat << EOF > models_app/models.py\n",
    "from django.db import models\n",
    "\n",
    "class Match(models.Model):\n",
    "    homeTeam = models.CharField(max_length=20)\n",
    "    homeScore = models.IntegerField(default=0)\n",
    "    awayTeam = models.CharField(max_length=20)\n",
    "    awayScore = models.IntegerField(default=0)\n",
    "\n",
    "    def create(self, home, score1, away, score2):\n",
    "        self.homeTeam = home\n",
    "        self.homeScore = score1\n",
    "        self.awayTeam = away\n",
    "        self.awayScore = score2\n",
    "        \n",
    "    def __str__(self):\n",
    "        return f\"{self.homeTeam} {self.homeScore}-{self.awayScore} {self.awayTeam}\"\n",
    "EOF"
   ]
  },
  {
   "cell_type": "markdown",
   "metadata": {},
   "source": [
    "Now perform migrations for the default apps"
   ]
  },
  {
   "cell_type": "code",
   "execution_count": 98,
   "metadata": {},
   "outputs": [
    {
     "name": "stdout",
     "output_type": "stream",
     "text": [
      "\u001b[36;1mOperations to perform:\u001b[0m\n",
      "\u001b[1m  Apply all migrations: \u001b[0madmin, auth, contenttypes, sessions\n",
      "\u001b[36;1mRunning migrations:\u001b[0m\n",
      "  Applying contenttypes.0001_initial...\u001b[32;1m OK\u001b[0m\n",
      "  Applying auth.0001_initial...\u001b[32;1m OK\u001b[0m\n",
      "  Applying admin.0001_initial...\u001b[32;1m OK\u001b[0m\n",
      "  Applying admin.0002_logentry_remove_auto_add...\u001b[32;1m OK\u001b[0m\n",
      "  Applying admin.0003_logentry_add_action_flag_choices...\u001b[32;1m OK\u001b[0m\n",
      "  Applying contenttypes.0002_remove_content_type_name...\u001b[32;1m OK\u001b[0m\n",
      "  Applying auth.0002_alter_permission_name_max_length...\u001b[32;1m OK\u001b[0m\n",
      "  Applying auth.0003_alter_user_email_max_length...\u001b[32;1m OK\u001b[0m\n",
      "  Applying auth.0004_alter_user_username_opts...\u001b[32;1m OK\u001b[0m\n",
      "  Applying auth.0005_alter_user_last_login_null...\u001b[32;1m OK\u001b[0m\n",
      "  Applying auth.0006_require_contenttypes_0002...\u001b[32;1m OK\u001b[0m\n",
      "  Applying auth.0007_alter_validators_add_error_messages...\u001b[32;1m OK\u001b[0m\n",
      "  Applying auth.0008_alter_user_username_max_length...\u001b[32;1m OK\u001b[0m\n",
      "  Applying auth.0009_alter_user_last_name_max_length...\u001b[32;1m OK\u001b[0m\n",
      "  Applying auth.0010_alter_group_name_max_length...\u001b[32;1m OK\u001b[0m\n",
      "  Applying auth.0011_update_proxy_permissions...\u001b[32;1m OK\u001b[0m\n",
      "  Applying auth.0012_alter_user_first_name_max_length...\u001b[32;1m OK\u001b[0m\n",
      "  Applying sessions.0001_initial...\u001b[32;1m OK\u001b[0m\n"
     ]
    }
   ],
   "source": [
    "python manage.py migrate"
   ]
  },
  {
   "cell_type": "markdown",
   "metadata": {},
   "source": [
    "The `migrate` command has created a new class in `models/apps.py` "
   ]
  },
  {
   "cell_type": "code",
   "execution_count": 99,
   "metadata": {},
   "outputs": [
    {
     "name": "stdout",
     "output_type": "stream",
     "text": [
      "from django.apps import AppConfig\n",
      "\n",
      "\n",
      "class ModelsAppConfig(AppConfig):\n",
      "    default_auto_field = 'django.db.models.BigAutoField'\n",
      "    name = 'models_app'\n"
     ]
    }
   ],
   "source": [
    "cat models_app/apps.py"
   ]
  },
  {
   "cell_type": "markdown",
   "metadata": {},
   "source": [
    "`makemigrations` basically generates the SQL commands for preinstalled apps (which can be viewed in installed apps in settings.py) and your newly created apps' model which you add in installed apps.It does not execute those commands in your database file. So tables aren't created after makemigrations.\n",
    "\n",
    "After applying makemigrations you can see those SQL commands with `sqlmigrate` which shows all the SQL commands that have been generated by makemigrations.\n",
    "\n",
    "`migrate` executes those SQL commands in database file. So after executing migrate, all the tables of your installed apps are created in your database file.  \n",
    "\n",
    "However, our model has not yet been registered, so `the table corresponding to our model has not yet been created`.  \n",
    "\n",
    "This `ModelsConfig` class has to be published in the global `project/settings.py` file.  "
   ]
  },
  {
   "cell_type": "code",
   "execution_count": 100,
   "metadata": {},
   "outputs": [],
   "source": [
    "sed -i -e \"/INSTALLED_APPS/ a \\    'models_app.apps.ModelsAppConfig',\" myproject/settings.py"
   ]
  },
  {
   "cell_type": "markdown",
   "metadata": {},
   "source": [
    "The relevant part of this file now reads:"
   ]
  },
  {
   "cell_type": "code",
   "execution_count": 101,
   "metadata": {},
   "outputs": [
    {
     "name": "stdout",
     "output_type": "stream",
     "text": [
      "INSTALLED_APPS = [\n",
      "    'models_app.apps.ModelsAppConfig',\n",
      "    'django.contrib.admin',\n",
      "    'django.contrib.auth',\n",
      "    'django.contrib.contenttypes',\n",
      "    'django.contrib.sessions',\n",
      "    'django.contrib.messages',\n",
      "    'django.contrib.staticfiles',\n",
      "]\n"
     ]
    }
   ],
   "source": [
    "sed -n '/^INSTALLED_APPS/,/^]/p' myproject/settings.py"
   ]
  },
  {
   "cell_type": "markdown",
   "metadata": {},
   "source": [
    "Now tell Django that you’ve made some changes to your models (in this case, you’ve made new ones) and that you’d like the changes to be stored as a migration:"
   ]
  },
  {
   "cell_type": "code",
   "execution_count": 102,
   "metadata": {},
   "outputs": [
    {
     "name": "stdout",
     "output_type": "stream",
     "text": [
      "\u001b[36;1mMigrations for 'models_app':\u001b[0m\n",
      "  \u001b[1mmodels_app/migrations/0001_initial.py\u001b[0m\n",
      "    + Create model Match\n"
     ]
    }
   ],
   "source": [
    "python manage.py makemigrations models_app"
   ]
  },
  {
   "cell_type": "markdown",
   "metadata": {},
   "source": [
    "Let's take a moment to see the migrations Django has created:"
   ]
  },
  {
   "cell_type": "code",
   "execution_count": 103,
   "metadata": {},
   "outputs": [
    {
     "name": "stdout",
     "output_type": "stream",
     "text": [
      "BEGIN;\n",
      "--\n",
      "-- Create model Match\n",
      "--\n",
      "CREATE TABLE \"models_app_match\" (\"id\" integer NOT NULL PRIMARY KEY AUTOINCREMENT, \"homeTeam\" varchar(20) NOT NULL, \"homeScore\" integer NOT NULL, \"awayTeam\" varchar(20) NOT NULL, \"awayScore\" integer NOT NULL);\n",
      "COMMIT;\n"
     ]
    }
   ],
   "source": [
    "python manage.py sqlmigrate models_app 0001"
   ]
  },
  {
   "cell_type": "markdown",
   "metadata": {},
   "source": [
    "Now, run migrate to create the `models_app_match` table in your database:"
   ]
  },
  {
   "cell_type": "code",
   "execution_count": 104,
   "metadata": {},
   "outputs": [
    {
     "name": "stdout",
     "output_type": "stream",
     "text": [
      "\u001b[36;1mOperations to perform:\u001b[0m\n",
      "\u001b[1m  Apply all migrations: \u001b[0madmin, auth, contenttypes, models_app, sessions\n",
      "\u001b[36;1mRunning migrations:\u001b[0m\n",
      "  Applying models_app.0001_initial...\u001b[32;1m OK\u001b[0m\n"
     ]
    }
   ],
   "source": [
    "python manage.py migrate"
   ]
  },
  {
   "cell_type": "markdown",
   "metadata": {},
   "source": [
    "Check that the new table has been created using `dbshell`:"
   ]
  },
  {
   "cell_type": "code",
   "execution_count": 105,
   "metadata": {},
   "outputs": [
    {
     "name": "stdout",
     "output_type": "stream",
     "text": [
      "models_app_match\n"
     ]
    }
   ],
   "source": [
    "python manage.py dbshell << EOF\n",
    "SELECT \n",
    "    name\n",
    "FROM \n",
    "    sqlite_schema\n",
    "WHERE \n",
    "    type ='table' AND \n",
    "    name = 'models_app_match';\n",
    "EOF"
   ]
  },
  {
   "cell_type": "markdown",
   "metadata": {},
   "source": [
    "Use django shell to add data to the `models_app_match` table"
   ]
  },
  {
   "cell_type": "code",
   "execution_count": 106,
   "metadata": {},
   "outputs": [
    {
     "name": "stdout",
     "output_type": "stream",
     "text": [
      "Red 2-1 Blue\n",
      "Green 5-0 White\n",
      "Red 3-1 Green\n"
     ]
    }
   ],
   "source": [
    "# Access model field values via Python attributes.\n",
    "python manage.py shell << EOF\n",
    "from models_app.models import Match  # Import the model classes we just wrote.\n",
    "\n",
    "m1 = Match()\n",
    "m2 = Match()\n",
    "m3 = Match()\n",
    "m1.create(\"Red\", 2, \"Blue\", 1)\n",
    "m2.create(\"Green\", 5, \"White\", 0)\n",
    "m3.create(\"Red\", 3, \"Green\", 1)\n",
    "m1.save()\n",
    "m2.save()\n",
    "m3.save()\n",
    "\n",
    "for match in Match.objects.all():\n",
    "    print(match)\n",
    "EOF"
   ]
  },
  {
   "cell_type": "markdown",
   "metadata": {},
   "source": [
    "Now use `dbshell` to see the same data:"
   ]
  },
  {
   "cell_type": "code",
   "execution_count": 107,
   "metadata": {},
   "outputs": [
    {
     "name": "stdout",
     "output_type": "stream",
     "text": [
      "1|Red|2|Blue|1\n",
      "2|Green|5|White|0\n",
      "3|Red|3|Green|1\n"
     ]
    }
   ],
   "source": [
    "python manage.py dbshell << EOF\n",
    "SELECT \n",
    "    *\n",
    "FROM \n",
    "    models_app_match\n",
    "EOF"
   ]
  },
  {
   "cell_type": "markdown",
   "metadata": {},
   "source": [
    "Now it's time to create views so that we can see our results in a browser."
   ]
  },
  {
   "cell_type": "code",
   "execution_count": 108,
   "metadata": {},
   "outputs": [],
   "source": [
    "cat << EOF >> models_app/views.py\n",
    "from models_app.models import Match\n",
    "\n",
    "\n",
    "def resultsView(request):\n",
    "    matches = []\n",
    "    try:\n",
    "        for match in Match.objects.all():\n",
    "            matches.append(match)\n",
    "    except:\n",
    "        raise Http404(\"Problems!!\")\n",
    "    \n",
    "    context = {\n",
    "        'matches':matches, \n",
    "    }\n",
    "    return render(request, \"resultsTemplate.html\", context)\n",
    "EOF"
   ]
  },
  {
   "cell_type": "markdown",
   "metadata": {},
   "source": [
    "Now create the template.  I haven't used an external stylesheet this time, but consult the previous notebook to see how to set one up."
   ]
  },
  {
   "cell_type": "code",
   "execution_count": 109,
   "metadata": {},
   "outputs": [],
   "source": [
    "mkdir -p models_app/templates\n",
    "cat << EOF > models_app/templates/resultsTemplate.html\n",
    "<style>\n",
    "body {background-color: powderblue;}\n",
    "table, th, td {\n",
    "  border: 1px solid;\n",
    "}\n",
    "</style>\n",
    "\n",
    "<h1>Results</h1>\n",
    "<table>\n",
    "{% for match in matches %}\n",
    "    <tr><td>{{ match }}</td></tr>\n",
    "{% endfor %}\n",
    "</table>\n",
    "EOF"
   ]
  },
  {
   "cell_type": "markdown",
   "metadata": {},
   "source": [
    "Set up the `urls.py` to direct us to the view:"
   ]
  },
  {
   "cell_type": "code",
   "execution_count": 110,
   "metadata": {},
   "outputs": [],
   "source": [
    "# add url pattern to point at a new view\n",
    "cat << EOF > models_app/urls.py\n",
    "from django.urls import path\n",
    "from . import views\n",
    "\n",
    "urlpatterns = [\n",
    "    path('results/', views.resultsView, name='resultsView'),\n",
    "]\n",
    "EOF"
   ]
  },
  {
   "cell_type": "markdown",
   "metadata": {},
   "source": [
    "Now modify the master urls file:"
   ]
  },
  {
   "cell_type": "code",
   "execution_count": 111,
   "metadata": {},
   "outputs": [],
   "source": [
    "cat << EOF > myproject/urls.py\n",
    "from django.contrib import admin\n",
    "from django.urls import include, path\n",
    "\n",
    "urlpatterns = [\n",
    "    path('models_app/', include('models_app.urls')),\n",
    "]\n",
    "EOF"
   ]
  },
  {
   "cell_type": "markdown",
   "metadata": {},
   "source": [
    "Let's use `firefox` to see the app:"
   ]
  },
  {
   "cell_type": "code",
   "execution_count": 112,
   "metadata": {},
   "outputs": [
    {
     "name": "stdout",
     "output_type": "stream",
     "text": [
      "[1] 98435\n"
     ]
    }
   ],
   "source": [
    "fuser -k 7000/tcp\n",
    "python manage.py runserver 7000 &"
   ]
  },
  {
   "cell_type": "code",
   "execution_count": 113,
   "metadata": {},
   "outputs": [
    {
     "name": "stdout",
     "output_type": "stream",
     "text": [
      "Watching for file changes with StatReloader\n",
      "Performing system checks...\n",
      "\n",
      "System check identified no issues (0 silenced).\n",
      "December 16, 2024 - 12:37:20\n",
      "Django version 5.1.3, using settings 'myproject.settings'\n",
      "Starting development server at http://127.0.0.1:7000/\n",
      "Quit the server with CONTROL-C.\n",
      "\n",
      "firefox http://localhost:7000/models_app/results^J\n"
     ]
    }
   ],
   "source": [
    "firefox http://localhost:7000/models_app/results"
   ]
  },
  {
   "cell_type": "markdown",
   "metadata": {},
   "source": [
    "clean up:\n",
    "* kill the server\n",
    "* remove workspace"
   ]
  },
  {
   "cell_type": "code",
   "execution_count": null,
   "metadata": {},
   "outputs": [],
   "source": [
    "cd ..\n",
    "fuser -k 7000/tcp\n",
    "rm -r workspace4"
   ]
  },
  {
   "cell_type": "code",
   "execution_count": null,
   "metadata": {},
   "outputs": [],
   "source": []
  }
 ],
 "metadata": {
  "kernelspec": {
   "display_name": "Bash",
   "language": "bash",
   "name": "bash"
  },
  "language_info": {
   "codemirror_mode": "shell",
   "file_extension": ".sh",
   "mimetype": "text/x-sh",
   "name": "bash"
  }
 },
 "nbformat": 4,
 "nbformat_minor": 4
}
