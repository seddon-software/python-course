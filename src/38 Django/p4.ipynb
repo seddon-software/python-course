{
 "cells": [
  {
   "cell_type": "markdown",
   "metadata": {},
   "source": [
    "# Django Tutorial (part 4)\n",
    "Back to the project home:"
   ]
  },
  {
   "cell_type": "code",
   "execution_count": null,
   "metadata": {},
   "outputs": [],
   "source": [
    "cd \"$HOME/workspace/python-course/Level 4/01 Django\"\n",
    "pwd"
   ]
  },
  {
   "cell_type": "code",
   "execution_count": null,
   "metadata": {},
   "outputs": [],
   "source": [
    "cd workspace/mysite\n",
    "tree -I __pycache__"
   ]
  },
  {
   "cell_type": "markdown",
   "metadata": {},
   "source": [
    "Restart the server:"
   ]
  },
  {
   "cell_type": "code",
   "execution_count": null,
   "metadata": {},
   "outputs": [],
   "source": [
    "fuser -k 7000/tcp\n",
    "python manage.py runserver 7000 &"
   ]
  },
  {
   "cell_type": "markdown",
   "metadata": {},
   "source": [
    "Add some more views:"
   ]
  },
  {
   "cell_type": "code",
   "execution_count": 91,
   "metadata": {},
   "outputs": [
    {
     "name": "stdout",
     "output_type": "stream",
     "text": [
      "[29/Nov/2024 16:24:31] \u001b[m\"GET /tennis/f3/ HTTP/1.1\" 200 127\u001b[0m\n",
      "cat << EOF > tennis/views.py\n",
      "from django.http import HttpResponse\n",
      "from django.shortcuts import render\n",
      "from .models import Match\n",
      "\n",
      "def index(request):\n",
      "    return HttpResponse(\"Tennis index\")\n",
      "    \n",
      "def filter(request, team):\n",
      "    hi = request.GET.get('hi', 'default')\n",
      "    lo = request.GET.get('lo', 'default')\n",
      "    return HttpResponse(f\"Team {team}<br>hi={hi}<br>lo={lo}\")\n",
      "\n",
      "def results(request, team):\n",
      "    response = f\"You're looking at the results for team: {team}\"\n",
      "    return HttpResponse(response)\n",
      "\n",
      "def vote(request, question_id):\n",
      "    return HttpResponse(\"You're voting on question %s.\" % question_id)\n",
      "\n",
      "def f1(request, param1, param2):\n",
      "    return HttpResponse(f\"f1 {param1} {param2}\")\n",
      "\n",
      "def f2(request):\n",
      "    return HttpResponse(f\"f2 {request.path}\")\n",
      "    \n",
      "def f3(request):\n",
      "    context = {'color':'blue', 'text': 'this is text from the context'}\n",
      "    return render(request, \"tennis/file3.html\", context)\n",
      "EOF\n"
     ]
    },
    {
     "ename": "",
     "evalue": "1",
     "output_type": "error",
     "traceback": []
    }
   ],
   "source": [
    "cat << EOF > tennis/views.py\n",
    "from django.http import HttpResponse\n",
    "from django.shortcuts import render\n",
    "from .models import Match\n",
    "\n",
    "def index(request):\n",
    "    return HttpResponse(\"Tennis index\")\n",
    "    \n",
    "def filter(request, team):\n",
    "    hi = request.GET.get('hi', 'default')\n",
    "    lo = request.GET.get('lo', 'default')\n",
    "    return HttpResponse(f\"Team {team}<br>hi={hi}<br>lo={lo}\")\n",
    "\n",
    "def results(request, team):\n",
    "    response = f\"You're looking at the results for team: {team}\"\n",
    "    return HttpResponse(response)\n",
    "\n",
    "def vote(request, question_id):\n",
    "    return HttpResponse(\"You're voting on question %s.\" % question_id)\n",
    "\n",
    "def f1(request, param1, param2):\n",
    "    return HttpResponse(f\"f1 {param1} {param2}\")\n",
    "\n",
    "def f2(request):\n",
    "    return HttpResponse(f\"f2 {request.path}\")\n",
    "    \n",
    "def f3(request):\n",
    "    context = {'color':'blue', 'text': 'this is text from the context'}\n",
    "    return render(request, \"tennis/file3.html\", context)\n",
    "EOF"
   ]
  },
  {
   "cell_type": "markdown",
   "metadata": {},
   "source": [
    "We'll investigate the `context` parameter below.  \n",
    "Wire these new views into the tennis.urls module by adding the following path() calls"
   ]
  },
  {
   "cell_type": "code",
   "execution_count": 88,
   "metadata": {},
   "outputs": [
    {
     "name": "stdout",
     "output_type": "stream",
     "text": [
      "/home/chris/workspace/python-course/src/38 Django/workspace/mysite/tennis/views.py changed, reloading.\n",
      "Watching for file changes with StatReloader\n",
      "Performing system checks...\n",
      "\n",
      "System check identified no issues (0 silenced).\n",
      "November 29, 2024 - 16:24:13\n",
      "Django version 5.1.3, using settings 'mysite.settings'\n",
      "Starting development server at http://127.0.0.1:7000/\n",
      "Quit the server with CONTROL-C.\n",
      "\n",
      "cat << EOF > tennis/urls.py^Jcat << EOF > tennis/urls.py\n",
      "from django.urls import path\n",
      "\n",
      "from . import views\n",
      "\n",
      "urlpatterns = [\n",
      "    # ex: /\n",
      "    path('', views.index, name='index'),\n",
      "    # ex: /filter/\n",
      "\n",
      "    #firefox 'http://localhost:7000/tennis/filter/Blue?a=9&b=3'\n",
      "    path('filter/<team>/', views.filter, name='filter'),\n",
      "\n",
      "    # ex: /results/\n",
      "    path('<str:team>/results/', views.results, name='results'),\n",
      "    # ex: /tennis/5/vote/\n",
      "    path('<int:question_id>/vote/', views.vote, name='vote'),\n",
      "    path('f1/<param1>/<param2>/', views.f1, name='f1'),\n",
      "\n",
      "    # firefox 'http://localhost:7000/tennis/f2/'\n",
      "    path('f2/', views.f2, name='f2'),\n",
      "    \n",
      "    # firefox 'http://localhost:7000/tennis/f3/'\n",
      "    path('f3/', views.f3, name='f3'),\n",
      "]\n",
      "EOF\n"
     ]
    },
    {
     "ename": "",
     "evalue": "1",
     "output_type": "error",
     "traceback": []
    }
   ],
   "source": [
    "cat << EOF > tennis/urls.py\n",
    "from django.urls import path\n",
    "\n",
    "from . import views\n",
    "\n",
    "urlpatterns = [\n",
    "    # ex: /\n",
    "    path('', views.index, name='index'),\n",
    "    # ex: /filter/\n",
    "\n",
    "    #firefox 'http://localhost:7000/tennis/filter/Blue?a=9&b=3'\n",
    "    path('filter/<team>/', views.filter, name='filter'),\n",
    "\n",
    "    # ex: /results/\n",
    "    path('<str:team>/results/', views.results, name='results'),\n",
    "    # ex: /tennis/5/vote/\n",
    "    path('<int:question_id>/vote/', views.vote, name='vote'),\n",
    "    path('f1/<param1>/<param2>/', views.f1, name='f1'),\n",
    "\n",
    "    # firefox 'http://localhost:7000/tennis/f2/'\n",
    "    path('f2/', views.f2, name='f2'),\n",
    "    \n",
    "    # firefox 'http://localhost:7000/tennis/f3/'\n",
    "    path('f3/', views.f3, name='f3'),\n",
    "]\n",
    "EOF"
   ]
  },
  {
   "cell_type": "markdown",
   "metadata": {},
   "source": [
    "Take a look in your browser of some urls"
   ]
  },
  {
   "cell_type": "code",
   "execution_count": null,
   "metadata": {},
   "outputs": [],
   "source": [
    "# the tennis index\n",
    "firefox http://localhost:7000/tennis"
   ]
  },
  {
   "cell_type": "code",
   "execution_count": 78,
   "metadata": {},
   "outputs": [
    {
     "name": "stdout",
     "output_type": "stream",
     "text": [
      "/home/chris/workspace/python-course/src/38 Django/workspace/mysite/tennis/urls.py changed, reloading.\n",
      "Watching for file changes with StatReloader\n",
      "Performing system checks...\n",
      "\n",
      "System check identified no issues (0 silenced).\n",
      "November 29, 2024 - 16:11:27\n",
      "Django version 5.1.3, using settings 'mysite.settings'\n",
      "Starting development server at http://127.0.0.1:7000/\n",
      "Quit the server with CONTROL-C.\n",
      "\n",
      "# using a filter with extra path info^J# using a filter with extra path info\n",
      "\u001b[A\u001b[C\u001b[C\u001b[C\u001b[C\u001b[C\u001b[C\u001b[C\u001b[C\u001b[C\u001b[C\u001b[C\u001b[C\u001b[C\u001b[C\u001b[C\u001b[C\u001b[C\u001b[C\u001b[C\u001b[C\u001b[C\u001b[C\u001b[C\u001b[C\u001b[C\u001b[C\u001b[C\u001b[C\u001b[C\u001b[C\u001b[C\u001b[C\u001b[C\u001b[C\u001b[C\u001b[C\u001b[C\u001b[C\u001b[C\u001b[C\u001b[C\u001b[C\u001b[C\u001b[C\u001b[C\u001b[C\u001b[C\u001b[C\u001b[C\u001b[C\u001b[C\u001b[C\u001b[C\u001b[C\u001b[C\u001b[C\u001b[C\u001b[C\u001b[C\u001b[C\u001b[C\u001b[C\u001b[C\u001b[C\u001b[C\u001b[C\u001b[C\u001b[C\u001b[C\u001b[C\u001b[C\u001b[C\u001b[C\u001b[C\u001b[C\u001b[C\u001b[C\u001b[C\u001b[C\u001b[K'\n"
     ]
    },
    {
     "ename": "",
     "evalue": "1",
     "output_type": "error",
     "traceback": []
    }
   ],
   "source": [
    "# using a filter with extra path info\n",
    "firefox 'http://localhost:7000/tennis/filter/Blue?hi=9&lo=3'"
   ]
  },
  {
   "cell_type": "markdown",
   "metadata": {},
   "source": [
    "add info in the request"
   ]
  },
  {
   "cell_type": "code",
   "execution_count": null,
   "metadata": {},
   "outputs": [],
   "source": [
    "firefox 'http://localhost:7000/tennis/Blue/results/'"
   ]
  },
  {
   "cell_type": "markdown",
   "metadata": {},
   "source": [
    "pass parameters in the request"
   ]
  },
  {
   "cell_type": "code",
   "execution_count": null,
   "metadata": {},
   "outputs": [],
   "source": [
    "firefox 'http://localhost:7000/tennis/f1/aaa/bbb'"
   ]
  },
  {
   "cell_type": "markdown",
   "metadata": {},
   "source": [
    "inspect the request object"
   ]
  },
  {
   "cell_type": "code",
   "execution_count": null,
   "metadata": {},
   "outputs": [],
   "source": [
    "firefox 'http://localhost:7000/tennis/f2/'"
   ]
  },
  {
   "cell_type": "markdown",
   "metadata": {},
   "source": [
    "These urls work, but coding your output in a str is very inflexible.  In practice you should use templates.  \n",
    "So first, create a template directory"
   ]
  },
  {
   "cell_type": "code",
   "execution_count": null,
   "metadata": {},
   "outputs": [],
   "source": [
    "mkdir -p tennis/templates/tennis"
   ]
  },
  {
   "cell_type": "markdown",
   "metadata": {},
   "source": [
    "You can pass information to the template from the `context` parameter of the `render`method.  \n",
    "Create a template file using a context:"
   ]
  },
  {
   "cell_type": "code",
   "execution_count": 92,
   "metadata": {},
   "outputs": [
    {
     "name": "stdout",
     "output_type": "stream",
     "text": [
      "/home/chris/workspace/python-course/src/38 Django/workspace/mysite/tennis/views.py changed, reloading.\n",
      "Watching for file changes with StatReloader\n",
      "Performing system checks...\n",
      "\n",
      "System check identified no issues (0 silenced).\n",
      "November 29, 2024 - 16:25:08\n",
      "Django version 5.1.3, using settings 'mysite.settings'\n",
      "Starting development server at http://127.0.0.1:7000/\n",
      "Quit the server with CONTROL-C.\n",
      "\n",
      "cat << EOF > tennis/templates/tennis/file3.html^Jcat << EOF > tennis/templates/tennis/file3.html\n",
      "<h1>*** This is file3.html ***</h1>\n",
      "The context contains: \n",
      "<li>color: {{ color }} </li>\n",
      "<li>text: {{ text }} </li>\n",
      "EOF\n"
     ]
    },
    {
     "ename": "",
     "evalue": "1",
     "output_type": "error",
     "traceback": []
    }
   ],
   "source": [
    "cat << EOF > tennis/templates/tennis/file3.html\n",
    "<h1>*** This is file3.html ***</h1>\n",
    "The context contains: \n",
    "<li>color: {{ color }} </li>\n",
    "<li>text: {{ text }} </li>\n",
    "EOF"
   ]
  },
  {
   "cell_type": "markdown",
   "metadata": {},
   "source": [
    "check out the template in the browser:"
   ]
  },
  {
   "cell_type": "code",
   "execution_count": 93,
   "metadata": {},
   "outputs": [
    {
     "name": "stdout",
     "output_type": "stream",
     "text": [
      "firefox 'http://localhost:7000/tennis/f3/'\n"
     ]
    },
    {
     "ename": "",
     "evalue": "1",
     "output_type": "error",
     "traceback": []
    }
   ],
   "source": [
    "firefox 'http://localhost:7000/tennis/f3/'"
   ]
  },
  {
   "cell_type": "markdown",
   "metadata": {},
   "source": [
    "<h1> DONE TO HERE !!! </h1>"
   ]
  },
  {
   "cell_type": "markdown",
   "metadata": {},
   "source": [
    "Add some error handling by modifying `detail()`:"
   ]
  },
  {
   "cell_type": "code",
   "execution_count": null,
   "metadata": {},
   "outputs": [],
   "source": [
    "cat << EOF >polls/views.py\n",
    "from django.http import Http404\n",
    "from django.http import HttpResponse\n",
    "from django.shortcuts import render\n",
    "from .models import Question\n",
    "\n",
    "def index(request):\n",
    "    latest_question_list = Question.objects.order_by('-pub_date')[:5]\n",
    "    context = {'latest_question_list': latest_question_list}\n",
    "    return render(request, 'polls/index.html', context)\n",
    "    \n",
    "def detail(request, question_id):\n",
    "    try:\n",
    "        question = Question.objects.get(pk=question_id)\n",
    "    except Question.DoesNotExist:\n",
    "        raise Http404(\"Question does not exist\")\n",
    "    return render(request, 'polls/detail.html', {'question': question})\n",
    "    \n",
    "def results(request, question_id):\n",
    "    response = \"You're looking at the results of question %s.\"\n",
    "    return HttpResponse(response % question_id)\n",
    "\n",
    "def vote(request, question_id):\n",
    "    return HttpResponse(\"You're voting on question %s.\" % question_id)    \n",
    "EOF"
   ]
  },
  {
   "cell_type": "markdown",
   "metadata": {},
   "source": [
    "Now add a template that will generate a 404: Page not found\" error"
   ]
  },
  {
   "cell_type": "code",
   "execution_count": null,
   "metadata": {},
   "outputs": [],
   "source": [
    "cat << EOF >polls/templates/polls/detail.html\n",
    "{{ question }}\n",
    "EOF"
   ]
  },
  {
   "cell_type": "markdown",
   "metadata": {},
   "source": [
    "and fire up `firefox`"
   ]
  },
  {
   "cell_type": "code",
   "execution_count": null,
   "metadata": {},
   "outputs": [],
   "source": [
    "firefox http://localhost:7000/polls/detail/34"
   ]
  },
  {
   "cell_type": "markdown",
   "metadata": {},
   "source": [
    "Add a more realistic template:"
   ]
  },
  {
   "cell_type": "code",
   "execution_count": null,
   "metadata": {},
   "outputs": [],
   "source": [
    "cat << EOF >polls/templates/polls/detail.html\n",
    "<h2>This is template 'polls/detail.html'</h2>\n",
    "<h2>{{ question.question_text }}</h2>\n",
    "<ul>\n",
    "{% for choice in question.choice_set.all %}\n",
    "    <li>{{ choice.choice_text }}</li>\n",
    "{% endfor %}\n",
    "</ul>\n",
    "EOF"
   ]
  },
  {
   "cell_type": "markdown",
   "metadata": {},
   "source": [
    "Try it out:"
   ]
  },
  {
   "cell_type": "code",
   "execution_count": null,
   "metadata": {},
   "outputs": [],
   "source": [
    "firefox http://localhost:7000/polls/"
   ]
  },
  {
   "cell_type": "markdown",
   "metadata": {},
   "source": [
    "Finally, let's take a look at our project structure:"
   ]
  },
  {
   "cell_type": "code",
   "execution_count": null,
   "metadata": {},
   "outputs": [],
   "source": [
    "tree -I __pycache__"
   ]
  },
  {
   "cell_type": "markdown",
   "metadata": {},
   "source": [
    "You can find further details on the original tutorial:  \n",
    "https://docs.djangoproject.com/en/3.2/intro/tutorial01/"
   ]
  }
 ],
 "metadata": {
  "kernelspec": {
   "display_name": "Bash",
   "language": "bash",
   "name": "bash"
  },
  "language_info": {
   "codemirror_mode": "shell",
   "file_extension": ".sh",
   "mimetype": "text/x-sh",
   "name": "bash"
  }
 },
 "nbformat": 4,
 "nbformat_minor": 4
}
