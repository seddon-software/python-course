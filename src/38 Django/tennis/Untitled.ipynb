{
 "cells": [
  {
   "cell_type": "code",
   "execution_count": null,
   "id": "96986fe4-69ea-412e-8cc2-34c90e30bc8d",
   "metadata": {},
   "outputs": [],
   "source": [
    "{% for dict_item in dict %}\n",
    "    {% for key, value in dict_item.items() %}\n",
    "        <h1>Key: {{ key }}</h1>\n",
    "        <h2>Value: {{ value }}</h2>\n",
    "    {% endfor %}        "
   ]
  }
 ],
 "metadata": {
  "kernelspec": {
   "display_name": "Bash",
   "language": "bash",
   "name": "bash"
  },
  "language_info": {
   "codemirror_mode": "shell",
   "file_extension": ".sh",
   "mimetype": "text/x-sh",
   "name": "bash"
  }
 },
 "nbformat": 4,
 "nbformat_minor": 5
}
