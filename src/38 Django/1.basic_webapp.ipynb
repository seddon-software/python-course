{
 "cells": [
  {
   "cell_type": "markdown",
   "metadata": {},
   "source": [
    "# Django: Basic Webapp"
   ]
  },
  {
   "cell_type": "markdown",
   "metadata": {},
   "source": [
    "Django uses a considerable amount of boiler plate code generation.  The first stage is to define a project using `django-admin`:"
   ]
  },
  {
   "cell_type": "code",
   "execution_count": 1,
   "metadata": {},
   "outputs": [],
   "source": [
    "mkdir workspace1\n",
    "django-admin startproject myproject workspace1\n",
    "cd workspace1"
   ]
  },
  {
   "cell_type": "markdown",
   "metadata": {},
   "source": [
    "This creates a number of files for us:"
   ]
  },
  {
   "cell_type": "code",
   "execution_count": 2,
   "metadata": {},
   "outputs": [
    {
     "name": "stdout",
     "output_type": "stream",
     "text": [
      ".\n",
      "├── manage.py\n",
      "└── myproject\n",
      "    ├── asgi.py\n",
      "    ├── __init__.py\n",
      "    ├── settings.py\n",
      "    ├── urls.py\n",
      "    └── wsgi.py\n",
      "\n",
      "2 directories, 6 files\n"
     ]
    }
   ],
   "source": [
    "tree ."
   ]
  },
  {
   "cell_type": "markdown",
   "metadata": {},
   "source": [
    "The `manage.py` script is used to create most of the important files in our project.  We create our webapp as follows:"
   ]
  },
  {
   "cell_type": "code",
   "execution_count": 3,
   "metadata": {},
   "outputs": [
    {
     "name": "stdout",
     "output_type": "stream",
     "text": [
      ".\n",
      "├── basic_app\n",
      "│   ├── admin.py\n",
      "│   ├── apps.py\n",
      "│   ├── __init__.py\n",
      "│   ├── migrations\n",
      "│   │   └── __init__.py\n",
      "│   ├── models.py\n",
      "│   ├── tests.py\n",
      "│   └── views.py\n",
      "├── manage.py\n",
      "└── myproject\n",
      "    ├── asgi.py\n",
      "    ├── __init__.py\n",
      "    ├── settings.py\n",
      "    ├── urls.py\n",
      "    └── wsgi.py\n",
      "\n",
      "4 directories, 13 files\n"
     ]
    }
   ],
   "source": [
    "python manage.py startapp basic_app\n",
    "tree -I __pycache__ ."
   ]
  },
  {
   "cell_type": "markdown",
   "metadata": {},
   "source": [
    "This has added a webapp called `basic_app`.  Django uses a Model-View architecture; we will modify `view.py` to build our webapp.  Later will we play with `models.py`.\n",
    "\n",
    "I'll be using the Unix hereis document to create files in this tutorial.  This is easier in notebook, but in practice you'd just use an editor.\n",
    "\n",
    "We begin by defining a simple view:"
   ]
  },
  {
   "cell_type": "code",
   "execution_count": 4,
   "metadata": {},
   "outputs": [],
   "source": [
    "# create new view\n",
    "cat << EOF > basic_app/views.py\n",
    "from django.http import HttpResponse\n",
    "\n",
    "def index(request):\n",
    "    return HttpResponse(\"This is the basic_app index.\")\n",
    "EOF"
   ]
  },
  {
   "cell_type": "markdown",
   "metadata": {},
   "source": [
    "The `urls.py` file is used to direct us to the view:"
   ]
  },
  {
   "cell_type": "code",
   "execution_count": 5,
   "metadata": {},
   "outputs": [],
   "source": [
    "# add url pattern to point at a new view\n",
    "cat << EOF > basic_app/urls.py\n",
    "from django.urls import path\n",
    "\n",
    "from . import views\n",
    "\n",
    "urlpatterns = [\n",
    "    path('', views.index, name='index'),\n",
    "]\n",
    "EOF"
   ]
  },
  {
   "cell_type": "markdown",
   "metadata": {},
   "source": [
    "Note that the path is blank.  We now link our local mappings to the master url file in the `myproject` folder.  This will modify the path (after editing).      \n",
    "Currently it looks like:"
   ]
  },
  {
   "cell_type": "code",
   "execution_count": 6,
   "metadata": {},
   "outputs": [
    {
     "name": "stdout",
     "output_type": "stream",
     "text": [
      "\"\"\"\n",
      "URL configuration for myproject project.\n",
      "\n",
      "The `urlpatterns` list routes URLs to views. For more information please see:\n",
      "    https://docs.djangoproject.com/en/5.1/topics/http/urls/\n",
      "Examples:\n",
      "Function views\n",
      "    1. Add an import:  from my_app import views\n",
      "    2. Add a URL to urlpatterns:  path('', views.home, name='home')\n",
      "Class-based views\n",
      "    1. Add an import:  from other_app.views import Home\n",
      "    2. Add a URL to urlpatterns:  path('', Home.as_view(), name='home')\n",
      "Including another URLconf\n",
      "    1. Import the include() function: from django.urls import include, path\n",
      "    2. Add a URL to urlpatterns:  path('blog/', include('blog.urls'))\n",
      "\"\"\"\n",
      "from django.contrib import admin\n",
      "from django.urls import path\n",
      "\n",
      "urlpatterns = [\n",
      "    path('admin/', admin.site.urls),\n",
      "]\n"
     ]
    }
   ],
   "source": [
    "cat myproject/urls.py"
   ]
  },
  {
   "cell_type": "markdown",
   "metadata": {},
   "source": [
    "We need to add an entry for our webapp.  I'll remove the comments at the same time."
   ]
  },
  {
   "cell_type": "code",
   "execution_count": 7,
   "metadata": {},
   "outputs": [],
   "source": [
    "cat << EOF > myproject/urls.py\n",
    "from django.contrib import admin\n",
    "from django.urls import include, path\n",
    "\n",
    "urlpatterns = [\n",
    "    path('basic_app/', include('basic_app.urls')),\n",
    "]\n",
    "EOF"
   ]
  },
  {
   "cell_type": "markdown",
   "metadata": {},
   "source": [
    "We should now have a trivial webapp.  Note the path mapping is:\n",
    "<pre>\n",
    "    basic_app\n",
    "</pre>\n",
    "plus our blank mapping.  \n",
    "Let's start the server on port 7000 on the localhost and check out the app (`fuser -k` kills all previous incarnations):"
   ]
  },
  {
   "cell_type": "code",
   "execution_count": 8,
   "metadata": {},
   "outputs": [
    {
     "name": "stdout",
     "output_type": "stream",
     "text": [
      "[1] 50300\n"
     ]
    }
   ],
   "source": [
    "fuser -k 7000/tcp\n",
    "python manage.py runserver 7000 &"
   ]
  },
  {
   "cell_type": "markdown",
   "metadata": {},
   "source": [
    "Let's use `firefox` to see the app:"
   ]
  },
  {
   "cell_type": "code",
   "execution_count": 9,
   "metadata": {},
   "outputs": [
    {
     "name": "stdout",
     "output_type": "stream",
     "text": [
      "Watching for file changes with StatReloader\n",
      "Performing system checks...\n",
      "\n",
      "System check identified no issues (0 silenced).\n",
      "\u001b[31m\n",
      "You have 18 unapplied migration(s). Your project may not work properly until you apply the migrations for app(s): admin, auth, contenttypes, sessions.\u001b[0m\n",
      "\u001b[31mRun 'python manage.py migrate' to apply them.\u001b[0m\n",
      "December 04, 2024 - 22:10:32\n",
      "Django version 5.1.3, using settings 'myproject.settings'\n",
      "Starting development server at http://127.0.0.1:7000/\n",
      "Quit the server with CONTROL-C.\n",
      "\n",
      "firefox http://localhost:7000/basic_app^J\n"
     ]
    }
   ],
   "source": [
    "firefox http://localhost:7000/basic_app"
   ]
  },
  {
   "cell_type": "markdown",
   "metadata": {},
   "source": [
    "Migrations are Django’s way of propagating changes you make to your models (adding a field, deleting a model, etc.) into your database schema. They’re designed to be mostly automatic, but you’ll need to know when to make migrations, when to run them, and the common problems you might run into.  \n",
    "Let's get rid of the warnings."
   ]
  },
  {
   "cell_type": "code",
   "execution_count": 10,
   "metadata": {},
   "outputs": [
    {
     "name": "stdout",
     "output_type": "stream",
     "text": [
      "[04/Dec/2024 22:10:33] \u001b[32m\"GET /basic_app HTTP/1.1\" 301 0\u001b[0m\n",
      "[04/Dec/2024 22:10:33] \u001b[m\"GET /basic_app/ HTTP/1.1\" 200 28\u001b[0m\n",
      "\u001b[36;1mOperations to perform:\u001b[0m\n",
      "\u001b[1m  Apply all migrations: \u001b[0madmin, auth, contenttypes, sessions\n",
      "\u001b[36;1mRunning migrations:\u001b[0m\n",
      "  Applying contenttypes.0001_initial...\u001b[32;1m OK\u001b[0m\n",
      "  Applying auth.0001_initial...\u001b[32;1m OK\u001b[0m\n",
      "  Applying admin.0001_initial...\u001b[32;1m OK\u001b[0m\n",
      "  Applying admin.0002_logentry_remove_auto_add...\u001b[32;1m OK\u001b[0m\n",
      "  Applying admin.0003_logentry_add_action_flag_choices...\u001b[32;1m OK\u001b[0m\n",
      "  Applying contenttypes.0002_remove_content_type_name...\u001b[32;1m OK\u001b[0m\n",
      "  Applying auth.0002_alter_permission_name_max_length...\u001b[32;1m OK\u001b[0m\n",
      "  Applying auth.0003_alter_user_email_max_length...\u001b[32;1m OK\u001b[0m\n",
      "  Applying auth.0004_alter_user_username_opts...\u001b[32;1m OK\u001b[0m\n",
      "  Applying auth.0005_alter_user_last_login_null...\u001b[32;1m OK\u001b[0m\n",
      "  Applying auth.0006_require_contenttypes_0002...\u001b[32;1m OK\u001b[0m\n",
      "  Applying auth.0007_alter_validators_add_error_messages...\u001b[32;1m OK\u001b[0m\n",
      "  Applying auth.0008_alter_user_username_max_length...\u001b[32;1m OK\u001b[0m\n",
      "  Applying auth.0009_alter_user_last_name_max_length...\u001b[32;1m OK\u001b[0m\n",
      "  Applying auth.0010_alter_group_name_max_length...\u001b[32;1m OK\u001b[0m\n",
      "  Applying auth.0011_update_proxy_permissions...\u001b[32;1m OK\u001b[0m\n",
      "  Applying auth.0012_alter_user_first_name_max_length...\u001b[32;1m OK\u001b[0m\n",
      "  Applying sessions.0001_initial...\u001b[32;1m OK\u001b[0m\n"
     ]
    }
   ],
   "source": [
    "python manage.py migrate"
   ]
  },
  {
   "cell_type": "markdown",
   "metadata": {},
   "source": [
    "Check everything is still working."
   ]
  },
  {
   "cell_type": "code",
   "execution_count": 11,
   "metadata": {},
   "outputs": [],
   "source": [
    "firefox http://localhost:7000/basic_app"
   ]
  },
  {
   "cell_type": "markdown",
   "metadata": {},
   "source": [
    "clean up:\n",
    "* kill the server\n",
    "* remove workspace"
   ]
  },
  {
   "cell_type": "code",
   "execution_count": null,
   "metadata": {},
   "outputs": [],
   "source": [
    "cd ..\n",
    "fuser -k 7000/tcp\n",
    "rm -r workspace1"
   ]
  }
 ],
 "metadata": {
  "kernelspec": {
   "display_name": "Bash",
   "language": "bash",
   "name": "bash"
  },
  "language_info": {
   "codemirror_mode": "shell",
   "file_extension": ".sh",
   "mimetype": "text/x-sh",
   "name": "bash"
  }
 },
 "nbformat": 4,
 "nbformat_minor": 4
}
