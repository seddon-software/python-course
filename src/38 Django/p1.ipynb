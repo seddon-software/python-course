{
 "cells": [
  {
   "cell_type": "markdown",
   "metadata": {},
   "source": [
    "# Django Tutorial (part 1)\n",
    "This tutorial is based on the tutorial published at:  \n",
    "https://docs.djangoproject.com/en/3.2/intro/tutorial01/  \n",
    "\n",
    "We begin this tutorial by creating a workspace for our website:"
   ]
  },
  {
   "cell_type": "code",
   "execution_count": 1,
   "metadata": {},
   "outputs": [],
   "source": [
    "projectRoot=$PWD\n",
    "rm -rf workspace\n",
    "\n",
    "# create workspace\n",
    "mkdir workspace\n",
    "cd workspace"
   ]
  },
  {
   "cell_type": "markdown",
   "metadata": {},
   "source": [
    "Django uses a considerable amount of boiler plate code generation.  The first stage is to define a project using `django-admin`:"
   ]
  },
  {
   "cell_type": "code",
   "execution_count": 2,
   "metadata": {},
   "outputs": [],
   "source": [
    "# create project\n",
    "django-admin startproject mysite\n",
    "cd mysite"
   ]
  },
  {
   "cell_type": "markdown",
   "metadata": {},
   "source": [
    "This creates a number of files for us:"
   ]
  },
  {
   "cell_type": "code",
   "execution_count": 3,
   "metadata": {},
   "outputs": [
    {
     "name": "stdout",
     "output_type": "stream",
     "text": [
      ".\n",
      "├── manage.py\n",
      "└── mysite\n",
      "    ├── asgi.py\n",
      "    ├── __init__.py\n",
      "    ├── settings.py\n",
      "    ├── urls.py\n",
      "    └── wsgi.py\n",
      "\n",
      "2 directories, 6 files\n"
     ]
    }
   ],
   "source": [
    "tree ."
   ]
  },
  {
   "cell_type": "markdown",
   "metadata": {},
   "source": [
    "The `manage.py` script is used to create most of the important files in our project.  We create our webapp as follows:"
   ]
  },
  {
   "cell_type": "code",
   "execution_count": 4,
   "metadata": {},
   "outputs": [
    {
     "name": "stdout",
     "output_type": "stream",
     "text": [
      ".\n",
      "├── manage.py\n",
      "├── mysite\n",
      "│   ├── asgi.py\n",
      "│   ├── __init__.py\n",
      "│   ├── settings.py\n",
      "│   ├── urls.py\n",
      "│   └── wsgi.py\n",
      "└── tennis\n",
      "    ├── admin.py\n",
      "    ├── apps.py\n",
      "    ├── __init__.py\n",
      "    ├── migrations\n",
      "    │   └── __init__.py\n",
      "    ├── models.py\n",
      "    ├── tests.py\n",
      "    └── views.py\n",
      "\n",
      "4 directories, 13 files\n"
     ]
    }
   ],
   "source": [
    "# create webapp\n",
    "python manage.py startapp tennis\n",
    "tree -I __pycache__ ."
   ]
  },
  {
   "cell_type": "markdown",
   "metadata": {},
   "source": [
    "This has added a webapp called `tennis`.  Django uses a Model-View architecture; we will modify `models.py` and `view.py` to build our webapp.\n",
    "\n",
    "I'll be using the Unix hereis document to create files in this tutorial.  This is easier in notebook, but in practice you'd just use an editor.\n",
    "\n",
    "The simplest thing we can do is to create a simple view:"
   ]
  },
  {
   "cell_type": "code",
   "execution_count": 5,
   "metadata": {},
   "outputs": [],
   "source": [
    "# create new view\n",
    "cat << EOF > tennis/views.py\n",
    "from django.http import HttpResponse\n",
    "\n",
    "def index(request):\n",
    "    return HttpResponse(\"Hello, world. You're at the tennis index.\")\n",
    "EOF"
   ]
  },
  {
   "cell_type": "markdown",
   "metadata": {},
   "source": [
    "Just to check, let's see how the hereis document worked:"
   ]
  },
  {
   "cell_type": "code",
   "execution_count": 6,
   "metadata": {},
   "outputs": [
    {
     "name": "stdout",
     "output_type": "stream",
     "text": [
      "from django.http import HttpResponse\n",
      "\n",
      "def index(request):\n",
      "    return HttpResponse(\"Hello, world. You're at the tennis index.\")\n"
     ]
    }
   ],
   "source": [
    "cat tennis/views.py"
   ]
  },
  {
   "cell_type": "markdown",
   "metadata": {},
   "source": [
    "The `urls.py` file is used to direct us to the view:"
   ]
  },
  {
   "cell_type": "code",
   "execution_count": 7,
   "metadata": {},
   "outputs": [
    {
     "name": "stdout",
     "output_type": "stream",
     "text": [
      "from django.urls import path\n",
      "\n",
      "from . import views\n",
      "\n",
      "urlpatterns = [\n",
      "    path('', views.index, name='index'),\n",
      "]\n"
     ]
    }
   ],
   "source": [
    "# add url pattern to point at a new view\n",
    "cat << EOF > tennis/urls.py\n",
    "from django.urls import path\n",
    "\n",
    "from . import views\n",
    "\n",
    "urlpatterns = [\n",
    "    path('', views.index, name='index'),\n",
    "]\n",
    "EOF\n",
    "\n",
    "cat tennis/urls.py"
   ]
  },
  {
   "cell_type": "markdown",
   "metadata": {},
   "source": [
    "Now we edit the master url file in the `mysite` folder.  \n",
    "Currently it looks like:"
   ]
  },
  {
   "cell_type": "code",
   "execution_count": 8,
   "metadata": {},
   "outputs": [
    {
     "name": "stdout",
     "output_type": "stream",
     "text": [
      "\"\"\"\n",
      "URL configuration for mysite project.\n",
      "\n",
      "The `urlpatterns` list routes URLs to views. For more information please see:\n",
      "    https://docs.djangoproject.com/en/5.1/topics/http/urls/\n",
      "Examples:\n",
      "Function views\n",
      "    1. Add an import:  from my_app import views\n",
      "    2. Add a URL to urlpatterns:  path('', views.home, name='home')\n",
      "Class-based views\n",
      "    1. Add an import:  from other_app.views import Home\n",
      "    2. Add a URL to urlpatterns:  path('', Home.as_view(), name='home')\n",
      "Including another URLconf\n",
      "    1. Import the include() function: from django.urls import include, path\n",
      "    2. Add a URL to urlpatterns:  path('blog/', include('blog.urls'))\n",
      "\"\"\"\n",
      "from django.contrib import admin\n",
      "from django.urls import path\n",
      "\n",
      "urlpatterns = [\n",
      "    path('admin/', admin.site.urls),\n",
      "]\n"
     ]
    }
   ],
   "source": [
    "cat mysite/urls.py"
   ]
  },
  {
   "cell_type": "markdown",
   "metadata": {},
   "source": [
    "We need to add an extra entry for our new view (and remove the comments):"
   ]
  },
  {
   "cell_type": "code",
   "execution_count": 9,
   "metadata": {},
   "outputs": [
    {
     "name": "stdout",
     "output_type": "stream",
     "text": [
      "from django.contrib import admin\n",
      "from django.urls import include, path\n",
      "\n",
      "urlpatterns = [\n",
      "    path('tennis/', include('tennis.urls')),\n",
      "    path('admin/', admin.site.urls),\n",
      "]\n"
     ]
    }
   ],
   "source": [
    "cat << EOF > mysite/urls.py\n",
    "from django.contrib import admin\n",
    "from django.urls import include, path\n",
    "\n",
    "urlpatterns = [\n",
    "    path('tennis/', include('tennis.urls')),\n",
    "    path('admin/', admin.site.urls),\n",
    "]\n",
    "EOF\n",
    "\n",
    "cat mysite/urls.py"
   ]
  },
  {
   "cell_type": "markdown",
   "metadata": {},
   "source": [
    "We should now have a trivial webapp.  Let's start the server on port 7000 on the localhost and check out the app (`fuser -k` kills all previous incarnations):"
   ]
  },
  {
   "cell_type": "code",
   "execution_count": 10,
   "metadata": {},
   "outputs": [
    {
     "name": "stdout",
     "output_type": "stream",
     "text": [
      "[1] 35884\n"
     ]
    }
   ],
   "source": [
    "# run the server\n",
    "fuser -k 7000/tcp\n",
    "python manage.py runserver 7000 &"
   ]
  },
  {
   "cell_type": "markdown",
   "metadata": {},
   "source": [
    "Let's use `firefox` to see the app:"
   ]
  },
  {
   "cell_type": "code",
   "execution_count": 11,
   "metadata": {},
   "outputs": [
    {
     "name": "stdout",
     "output_type": "stream",
     "text": [
      "Watching for file changes with StatReloader\n",
      "Performing system checks...\n",
      "\n",
      "System check identified no issues (0 silenced).\n",
      "\u001b[31m\n",
      "You have 18 unapplied migration(s). Your project may not work properly until you apply the migrations for app(s): admin, auth, contenttypes, sessions.\u001b[0m\n",
      "\u001b[31mRun 'python manage.py migrate' to apply them.\u001b[0m\n",
      "December 03, 2024 - 14:25:52\n",
      "Django version 5.1.3, using settings 'mysite.settings'\n",
      "Starting development server at http://127.0.0.1:7000/\n",
      "Quit the server with CONTROL-C.\n",
      "\n",
      "firefox http://localhost:7000/tennis^J\n"
     ]
    }
   ],
   "source": [
    "firefox http://localhost:7000/tennis"
   ]
  },
  {
   "cell_type": "markdown",
   "metadata": {},
   "source": [
    "Ignore the warning for now.  \n",
    "Not too exciting, but we do have a Django webapp!\n",
    "In the next part of the tutorial we'll add some more views.  To end this part we return to the project root:"
   ]
  },
  {
   "cell_type": "code",
   "execution_count": 12,
   "metadata": {},
   "outputs": [
    {
     "name": "stdout",
     "output_type": "stream",
     "text": [
      "[03/Dec/2024 14:25:54] \u001b[32m\"GET /tennis HTTP/1.1\" 301 0\u001b[0m\n",
      "[03/Dec/2024 14:25:54] \u001b[m\"GET /tennis/ HTTP/1.1\" 200 41\u001b[0m\n",
      "/home/chris/workspace/python-course/Level 4/01 Django\n"
     ]
    }
   ],
   "source": [
    "cd \"$projectRoot\"\n",
    "pwd"
   ]
  },
  {
   "cell_type": "code",
   "execution_count": null,
   "metadata": {},
   "outputs": [],
   "source": []
  }
 ],
 "metadata": {
  "kernelspec": {
   "display_name": "Bash",
   "language": "bash",
   "name": "bash"
  },
  "language_info": {
   "codemirror_mode": "shell",
   "file_extension": ".sh",
   "mimetype": "text/x-sh",
   "name": "bash"
  }
 },
 "nbformat": 4,
 "nbformat_minor": 4
}
