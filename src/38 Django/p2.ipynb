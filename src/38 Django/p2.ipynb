{
 "cells": [
  {
   "cell_type": "markdown",
   "metadata": {},
   "source": [
    "# Multiple Views"
   ]
  },
  {
   "cell_type": "code",
   "execution_count": 1,
   "metadata": {},
   "outputs": [
    {
     "name": "stdout",
     "output_type": "stream",
     "text": [
      "/home/chris/workspace/python-course/Level 4/01 Django\n"
     ]
    }
   ],
   "source": [
    "pwd"
   ]
  },
  {
   "cell_type": "markdown",
   "metadata": {},
   "source": [
    "Restart the server:"
   ]
  },
  {
   "cell_type": "code",
   "execution_count": 3,
   "metadata": {},
   "outputs": [
    {
     "name": "stdout",
     "output_type": "stream",
     "text": [
      "7000/tcp:            36913\n",
      "[1] 37286\n"
     ]
    }
   ],
   "source": [
    "fuser -k 7000/tcp\n",
    "python manage.py runserver 7000 &"
   ]
  },
  {
   "cell_type": "markdown",
   "metadata": {},
   "source": [
    "Now add a new model in `tennis/models.py`:"
   ]
  },
  {
   "cell_type": "code",
   "execution_count": 4,
   "metadata": {},
   "outputs": [
    {
     "name": "stdout",
     "output_type": "stream",
     "text": [
      "Watching for file changes with StatReloader\n",
      "Performing system checks...\n",
      "\n",
      "System check identified no issues (0 silenced).\n",
      "\u001b[31m\n",
      "You have 18 unapplied migration(s). Your project may not work properly until you apply the migrations for app(s): admin, auth, contenttypes, sessions.\u001b[0m\n",
      "\u001b[31mRun 'python manage.py migrate' to apply them.\u001b[0m\n",
      "November 30, 2024 - 16:21:27\n",
      "Django version 5.1.3, using settings 'mysite.settings'\n",
      "Starting development server at http://127.0.0.1:7000/\n",
      "Quit the server with CONTROL-C.\n",
      "\n",
      "cat << EOF > tennis/models.py^J\n"
     ]
    }
   ],
   "source": [
    "cat << EOF > tennis/models.py\n",
    "from django.db import models\n",
    "\n",
    "class Match(models.Model):\n",
    "    homeTeam = models.CharField(max_length=20)\n",
    "    homeScore = models.IntegerField(default=0)\n",
    "    awayTeam = models.CharField(max_length=20)\n",
    "    awayScore = models.IntegerField(default=0)\n",
    "\n",
    "    def play(self, home, score1, away, score2):\n",
    "        self.homeTeam = home\n",
    "        self.homeScore = score1\n",
    "        self.awayTeam = away\n",
    "        self.awayScore = score2\n",
    "EOF"
   ]
  },
  {
   "cell_type": "markdown",
   "metadata": {},
   "source": [
    "Now we need to create tables in our database corresponding to our new models.  To do that, run the following command:"
   ]
  },
  {
   "cell_type": "code",
   "execution_count": 5,
   "metadata": {},
   "outputs": [
    {
     "name": "stdout",
     "output_type": "stream",
     "text": [
      "\u001b[36;1mOperations to perform:\u001b[0m\n",
      "\u001b[1m  Apply all migrations: \u001b[0madmin, auth, contenttypes, sessions\n",
      "\u001b[36;1mRunning migrations:\u001b[0m\n",
      "  Applying contenttypes.0001_initial...\u001b[32;1m OK\u001b[0m\n",
      "  Applying auth.0001_initial...\u001b[32;1m OK\u001b[0m\n",
      "  Applying admin.0001_initial...\u001b[32;1m OK\u001b[0m\n",
      "  Applying admin.0002_logentry_remove_auto_add...\u001b[32;1m OK\u001b[0m\n",
      "  Applying admin.0003_logentry_add_action_flag_choices...\u001b[32;1m OK\u001b[0m\n",
      "  Applying contenttypes.0002_remove_content_type_name...\u001b[32;1m OK\u001b[0m\n",
      "  Applying auth.0002_alter_permission_name_max_length...\u001b[32;1m OK\u001b[0m\n",
      "  Applying auth.0003_alter_user_email_max_length...\u001b[32;1m OK\u001b[0m\n",
      "  Applying auth.0004_alter_user_username_opts...\u001b[32;1m OK\u001b[0m\n",
      "  Applying auth.0005_alter_user_last_login_null...\u001b[32;1m OK\u001b[0m\n",
      "  Applying auth.0006_require_contenttypes_0002...\u001b[32;1m OK\u001b[0m\n",
      "  Applying auth.0007_alter_validators_add_error_messages...\u001b[32;1m OK\u001b[0m\n",
      "  Applying auth.0008_alter_user_username_max_length...\u001b[32;1m OK\u001b[0m\n",
      "  Applying auth.0009_alter_user_last_name_max_length...\u001b[32;1m OK\u001b[0m\n",
      "  Applying auth.0010_alter_group_name_max_length...\u001b[32;1m OK\u001b[0m\n",
      "  Applying auth.0011_update_proxy_permissions...\u001b[32;1m OK\u001b[0m\n",
      "  Applying auth.0012_alter_user_first_name_max_length...\u001b[32;1m OK\u001b[0m\n",
      "  Applying sessions.0001_initial...\u001b[32;1m OK\u001b[0m\n"
     ]
    }
   ],
   "source": [
    "python manage.py migrate"
   ]
  },
  {
   "cell_type": "code",
   "execution_count": 6,
   "metadata": {},
   "outputs": [
    {
     "name": "stdout",
     "output_type": "stream",
     "text": [
      "No changes detected\n",
      "\u001b[36;1mOperations to perform:\u001b[0m\n",
      "\u001b[1m  Apply all migrations: \u001b[0madmin, auth, contenttypes, sessions\n",
      "\u001b[36;1mRunning migrations:\u001b[0m\n",
      "  No migrations to apply.\n"
     ]
    }
   ],
   "source": [
    "p manage.py makemigrations\n",
    "p manage.py migrate"
   ]
  },
  {
   "cell_type": "markdown",
   "metadata": {},
   "source": [
    "Migrations are Django’s way of propagating changes you make to your models (adding a field, deleting a model, etc.) into your database schema.\n",
    "\n",
    "Note that by default we are using the `sqlite3` database:"
   ]
  },
  {
   "cell_type": "code",
   "execution_count": 7,
   "metadata": {},
   "outputs": [
    {
     "name": "stdout",
     "output_type": "stream",
     "text": [
      "        'ENGINE': 'django.db.backends.sqlite3',\n"
     ]
    }
   ],
   "source": [
    "cat mysite/settings.py | grep ENGINE"
   ]
  },
  {
   "cell_type": "markdown",
   "metadata": {},
   "source": [
    "The `migrate` command has now created a new class in `tennis\\apps.py` "
   ]
  },
  {
   "cell_type": "code",
   "execution_count": 8,
   "metadata": {},
   "outputs": [
    {
     "name": "stdout",
     "output_type": "stream",
     "text": [
      "from django.apps import AppConfig\n",
      "\n",
      "\n",
      "class TennisConfig(AppConfig):\n",
      "    default_auto_field = 'django.db.models.BigAutoField'\n",
      "    name = 'tennis'\n"
     ]
    }
   ],
   "source": [
    "cat tennis/apps.py"
   ]
  },
  {
   "cell_type": "markdown",
   "metadata": {},
   "source": [
    "This new class has to be published in the global `mysite/settings.py` file.  \n",
    "This is a large file, but the relevent section is as follows:"
   ]
  },
  {
   "cell_type": "code",
   "execution_count": 9,
   "metadata": {},
   "outputs": [
    {
     "name": "stdout",
     "output_type": "stream",
     "text": [
      "INSTALLED_APPS = [\n",
      "    'django.contrib.admin',\n",
      "    'django.contrib.auth',\n",
      "    'django.contrib.contenttypes',\n",
      "    'django.contrib.sessions',\n",
      "    'django.contrib.messages',\n",
      "    'django.contrib.staticfiles',\n",
      "]\n"
     ]
    }
   ],
   "source": [
    "sed -n '/^INSTALLED_APPS/,/^]/p' mysite/settings.py"
   ]
  },
  {
   "cell_type": "markdown",
   "metadata": {},
   "source": [
    "Now add our `tennis.apps.TennisConfig` class to this list:"
   ]
  },
  {
   "cell_type": "code",
   "execution_count": 10,
   "metadata": {},
   "outputs": [],
   "source": [
    "sed -i -e \"/INSTALLED_APPS/ a \\    'tennis.apps.TennisConfig',\" mysite/settings.py"
   ]
  },
  {
   "cell_type": "markdown",
   "metadata": {},
   "source": [
    "The relevant part of this file now reads:"
   ]
  },
  {
   "cell_type": "code",
   "execution_count": 11,
   "metadata": {
    "jupyter": {
     "source_hidden": true
    }
   },
   "outputs": [
    {
     "name": "stdout",
     "output_type": "stream",
     "text": [
      "/home/chris/workspace/python-course/src/38 Django/workspace/mysite/mysite/settings.py changed, reloading.\n",
      "Watching for file changes with StatReloader\n",
      "Performing system checks...\n",
      "\n",
      "System check identified no issues (0 silenced).\n",
      "November 30, 2024 - 16:21:46\n",
      "Django version 5.1.3, using settings 'mysite.settings'\n",
      "Starting development server at http://127.0.0.1:7000/\n",
      "Quit the server with CONTROL-C.\n",
      "\n",
      "sed -n '/^INSTALLED_APPS/,/^]/p' mysite/settings.py^JINSTALLED_APPS = [\n",
      "    'tennis.apps.TennisConfig',\n",
      "    'django.contrib.admin',\n",
      "    'django.contrib.auth',\n",
      "    'django.contrib.contenttypes',\n",
      "    'django.contrib.sessions',\n",
      "    'django.contrib.messages',\n",
      "    'django.contrib.staticfiles',\n",
      "]\n"
     ]
    }
   ],
   "source": [
    "sed -n '/^INSTALLED_APPS/,/^]/p' mysite/settings.py"
   ]
  },
  {
   "cell_type": "markdown",
   "metadata": {},
   "source": [
    "Now tell Django that you’ve made some changes to your models (in this case, you’ve made new ones) and that you’d like the changes to be stored as a migration:"
   ]
  },
  {
   "cell_type": "code",
   "execution_count": 12,
   "metadata": {},
   "outputs": [
    {
     "name": "stdout",
     "output_type": "stream",
     "text": [
      "\u001b[36;1mMigrations for 'tennis':\u001b[0m\n",
      "  \u001b[1mtennis/migrations/0001_initial.py\u001b[0m\n",
      "    + Create model Match\n"
     ]
    }
   ],
   "source": [
    "python manage.py makemigrations tennis"
   ]
  },
  {
   "cell_type": "markdown",
   "metadata": {},
   "source": [
    "Let's take a moment to see the migrations Django has created:"
   ]
  },
  {
   "cell_type": "code",
   "execution_count": 13,
   "metadata": {},
   "outputs": [
    {
     "name": "stdout",
     "output_type": "stream",
     "text": [
      "BEGIN;\n",
      "--\n",
      "-- Create model Match\n",
      "--\n",
      "CREATE TABLE \"tennis_match\" (\"id\" integer NOT NULL PRIMARY KEY AUTOINCREMENT, \"homeTeam\" varchar(20) NOT NULL, \"homeScore\" integer NOT NULL, \"awayTeam\" varchar(20) NOT NULL, \"awayScore\" integer NOT NULL);\n",
      "COMMIT;\n"
     ]
    }
   ],
   "source": [
    "python manage.py sqlmigrate tennis 0001"
   ]
  },
  {
   "cell_type": "markdown",
   "metadata": {},
   "source": [
    "Now, run migrate again to create those model tables in your database:"
   ]
  },
  {
   "cell_type": "code",
   "execution_count": 14,
   "metadata": {},
   "outputs": [
    {
     "name": "stdout",
     "output_type": "stream",
     "text": [
      "[2] 37667\n"
     ]
    }
   ],
   "source": [
    "python manage.py migrate &"
   ]
  },
  {
   "cell_type": "markdown",
   "metadata": {},
   "source": [
    "Before we use these new classes, let's check our webapp is still working:"
   ]
  },
  {
   "cell_type": "code",
   "execution_count": 15,
   "metadata": {},
   "outputs": [
    {
     "name": "stdout",
     "output_type": "stream",
     "text": [
      "\u001b[36;1mOperations to perform:\u001b[0m\n",
      "\u001b[1m  Apply all migrations: \u001b[0madmin, auth, contenttypes, sessions, tennis\n",
      "\u001b[36;1mRunning migrations:\u001b[0m\n",
      "  Applying tennis.0001_initial...\u001b[32;1m OK\u001b[0m\n",
      "[3] 37725\n",
      "[2]   Done                    python manage.py migrate\n"
     ]
    }
   ],
   "source": [
    "firefox http:localhost:7000/tennis &"
   ]
  },
  {
   "cell_type": "markdown",
   "metadata": {},
   "source": [
    "Now return to the project root"
   ]
  },
  {
   "cell_type": "code",
   "execution_count": 16,
   "metadata": {},
   "outputs": [
    {
     "name": "stdout",
     "output_type": "stream",
     "text": [
      "[30/Nov/2024 16:22:04] \u001b[m\"GET /tennis/ HTTP/1.1\" 200 41\u001b[0m\n",
      "Not Found: /favicon.ico\n",
      "[3]+  Done                    firefox http:localhost:7000/tennis\n",
      "/home/chris/workspace/python-course/Level 4/01 Django/workspace/mysite\n"
     ]
    }
   ],
   "source": [
    "cd \"$projectRoot\"\n",
    "pwd"
   ]
  },
  {
   "cell_type": "code",
   "execution_count": null,
   "metadata": {},
   "outputs": [],
   "source": []
  }
 ],
 "metadata": {
  "kernelspec": {
   "display_name": "Bash",
   "language": "bash",
   "name": "bash"
  },
  "language_info": {
   "codemirror_mode": "shell",
   "file_extension": ".sh",
   "mimetype": "text/x-sh",
   "name": "bash"
  }
 },
 "nbformat": 4,
 "nbformat_minor": 4
}
