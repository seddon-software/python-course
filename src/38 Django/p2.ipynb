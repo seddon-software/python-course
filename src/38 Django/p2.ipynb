{
 "cells": [
  {
   "cell_type": "markdown",
   "metadata": {},
   "source": [
    "# Multiple Views"
   ]
  },
  {
   "cell_type": "markdown",
   "metadata": {},
   "source": [
    "Restart the server:"
   ]
  },
  {
   "cell_type": "code",
   "execution_count": 5,
   "metadata": {},
   "outputs": [
    {
     "name": "stdout",
     "output_type": "stream",
     "text": [
      "7000/tcp:            35940\n",
      "[1] 36226\n"
     ]
    }
   ],
   "source": [
    "fuser -k 7000/tcp\n",
    "python manage.py runserver 7000 &"
   ]
  },
  {
   "cell_type": "markdown",
   "metadata": {},
   "source": [
    "Now add a new model in `tennis/models.py`:"
   ]
  },
  {
   "cell_type": "code",
   "execution_count": 6,
   "metadata": {},
   "outputs": [
    {
     "name": "stdout",
     "output_type": "stream",
     "text": [
      "Traceback (most recent call last):\n",
      "  File \"/home/chris/.pyenv/versions/3.10.15/lib/python3.10/site-packages/django/core/management/base.py\", line 413, in run_from_argv\n",
      "    self.execute(*args, **cmd_options)\n",
      "  File \"/home/chris/.pyenv/versions/3.10.15/lib/python3.10/site-packages/django/core/management/commands/runserver.py\", line 75, in execute\n",
      "    super().execute(*args, **options)\n",
      "  File \"/home/chris/.pyenv/versions/3.10.15/lib/python3.10/site-packages/django/core/management/base.py\", line 459, in execute\n",
      "    output = self.handle(*args, **options)\n",
      "  File \"/home/chris/.pyenv/versions/3.10.15/lib/python3.10/site-packages/django/core/management/commands/runserver.py\", line 82, in handle\n",
      "    if not settings.DEBUG and not settings.ALLOWED_HOSTS:\n",
      "  File \"/home/chris/.pyenv/versions/3.10.15/lib/python3.10/site-packages/django/conf/__init__.py\", line 81, in __getattr__\n",
      "    self._setup(name)\n",
      "  File \"/home/chris/.pyenv/versions/3.10.15/lib/python3.10/site-packages/django/conf/__init__.py\", line 68, in _setup\n",
      "    self._wrapped = Settings(settings_module)\n",
      "  File \"/home/chris/.pyenv/versions/3.10.15/lib/python3.10/site-packages/django/conf/__init__.py\", line 166, in __init__\n",
      "    mod = importlib.import_module(self.SETTINGS_MODULE)\n",
      "  File \"/home/chris/.pyenv/versions/3.10.15/lib/python3.10/importlib/__init__.py\", line 126, in import_module\n",
      "    return _bootstrap._gcd_import(name[level:], package, level)\n",
      "  File \"<frozen importlib._bootstrap>\", line 1050, in _gcd_import\n",
      "  File \"<frozen importlib._bootstrap>\", line 1027, in _find_and_load\n",
      "  File \"<frozen importlib._bootstrap>\", line 992, in _find_and_load_unlocked\n",
      "  File \"<frozen importlib._bootstrap>\", line 241, in _call_with_frames_removed\n",
      "  File \"<frozen importlib._bootstrap>\", line 1050, in _gcd_import\n",
      "  File \"<frozen importlib._bootstrap>\", line 1027, in _find_and_load\n",
      "  File \"<frozen importlib._bootstrap>\", line 1004, in _find_and_load_unlocked\n",
      "ModuleNotFoundError: No module named 'myproject'\n",
      "\n",
      "During handling of the above exception, another exception occurred:\n",
      "\n",
      "Traceback (most recent call last):\n",
      "  File \"/home/chris/workspace/python-course/src/38 Django/manage.py\", line 22, in <module>\n",
      "    main()\n",
      "  File \"/home/chris/workspace/python-course/src/38 Django/manage.py\", line 18, in main\n",
      "    execute_from_command_line(sys.argv)\n",
      "  File \"/home/chris/.pyenv/versions/3.10.15/lib/python3.10/site-packages/django/core/management/__init__.py\", line 442, in execute_from_command_line\n",
      "    utility.execute()\n",
      "  File \"/home/chris/.pyenv/versions/3.10.15/lib/python3.10/site-packages/django/core/management/__init__.py\", line 436, in execute\n",
      "    self.fetch_command(subcommand).run_from_argv(self.argv)\n",
      "  File \"/home/chris/.pyenv/versions/3.10.15/lib/python3.10/site-packages/django/core/management/base.py\", line 426, in run_from_argv\n",
      "    connections.close_all()\n",
      "  File \"/home/chris/.pyenv/versions/3.10.15/lib/python3.10/site-packages/django/utils/connection.py\", line 84, in close_all\n",
      "    for conn in self.all(initialized_only=True):\n",
      "  File \"/home/chris/.pyenv/versions/3.10.15/lib/python3.10/site-packages/django/utils/connection.py\", line 76, in all\n",
      "    return [\n",
      "  File \"/home/chris/.pyenv/versions/3.10.15/lib/python3.10/site-packages/django/utils/connection.py\", line 73, in __iter__\n",
      "    return iter(self.settings)\n",
      "  File \"/home/chris/.pyenv/versions/3.10.15/lib/python3.10/site-packages/django/utils/functional.py\", line 47, in __get__\n",
      "    res = instance.__dict__[self.name] = self.func(instance)\n",
      "  File \"/home/chris/.pyenv/versions/3.10.15/lib/python3.10/site-packages/django/utils/connection.py\", line 45, in settings\n",
      "    self._settings = self.configure_settings(self._settings)\n",
      "  File \"/home/chris/.pyenv/versions/3.10.15/lib/python3.10/site-packages/django/db/utils.py\", line 148, in configure_settings\n",
      "    databases = super().configure_settings(databases)\n",
      "  File \"/home/chris/.pyenv/versions/3.10.15/lib/python3.10/site-packages/django/utils/connection.py\", line 50, in configure_settings\n",
      "    settings = getattr(django_settings, self.settings_name)\n",
      "  File \"/home/chris/.pyenv/versions/3.10.15/lib/python3.10/site-packages/django/conf/__init__.py\", line 81, in __getattr__\n",
      "    self._setup(name)\n",
      "  File \"/home/chris/.pyenv/versions/3.10.15/lib/python3.10/site-packages/django/conf/__init__.py\", line 68, in _setup\n",
      "    self._wrapped = Settings(settings_module)\n",
      "  File \"/home/chris/.pyenv/versions/3.10.15/lib/python3.10/site-packages/django/conf/__init__.py\", line 166, in __init__\n",
      "    mod = importlib.import_module(self.SETTINGS_MODULE)\n",
      "  File \"/home/chris/.pyenv/versions/3.10.15/lib/python3.10/importlib/__init__.py\", line 126, in import_module\n",
      "    return _bootstrap._gcd_import(name[level:], package, level)\n",
      "  File \"<frozen importlib._bootstrap>\", line 1050, in _gcd_import\n",
      "  File \"<frozen importlib._bootstrap>\", line 1027, in _find_and_load\n",
      "  File \"<frozen importlib._bootstrap>\", line 992, in _find_and_load_unlocked\n",
      "  File \"<frozen importlib._bootstrap>\", line 241, in _call_with_frames_removed\n",
      "  File \"<frozen importlib._bootstrap>\", line 1050, in _gcd_import\n",
      "  File \"<frozen importlib._bootstrap>\", line 1027, in _find_and_load\n",
      "  File \"<frozen importlib._bootstrap>\", line 1004, in _find_and_load_unlocked\n",
      "ModuleNotFoundError: No module named 'myproject'\n",
      "[1]+  Exit 1                  python manage.py runserver 7000\n"
     ]
    }
   ],
   "source": [
    "cat << EOF > tennis/models.py\n",
    "from django.db import models\n",
    "\n",
    "class Match(models.Model):\n",
    "    homeTeam = models.CharField(max_length=20)\n",
    "    homeScore = models.IntegerField(default=0)\n",
    "    awayTeam = models.CharField(max_length=20)\n",
    "    awayScore = models.IntegerField(default=0)\n",
    "\n",
    "    def play(self, home, score1, away, score2):\n",
    "        self.homeTeam = home\n",
    "        self.homeScore = score1\n",
    "        self.awayTeam = away\n",
    "        self.awayScore = score2\n",
    "EOF"
   ]
  },
  {
   "cell_type": "markdown",
   "metadata": {},
   "source": [
    "Now we need to create tables in our database corresponding to our new models.  To do that, run the following command:"
   ]
  },
  {
   "cell_type": "code",
   "execution_count": 4,
   "metadata": {},
   "outputs": [
    {
     "name": "stdout",
     "output_type": "stream",
     "text": [
      "Traceback (most recent call last):\n",
      "  File \"/home/chris/workspace/python-course/src/38 Django/manage.py\", line 22, in <module>\n",
      "    main()\n",
      "  File \"/home/chris/workspace/python-course/src/38 Django/manage.py\", line 18, in main\n",
      "    execute_from_command_line(sys.argv)\n",
      "  File \"/home/chris/.pyenv/versions/3.10.15/lib/python3.10/site-packages/django/core/management/__init__.py\", line 442, in execute_from_command_line\n",
      "    utility.execute()\n",
      "  File \"/home/chris/.pyenv/versions/3.10.15/lib/python3.10/site-packages/django/core/management/__init__.py\", line 436, in execute\n",
      "    self.fetch_command(subcommand).run_from_argv(self.argv)\n",
      "  File \"/home/chris/.pyenv/versions/3.10.15/lib/python3.10/site-packages/django/core/management/base.py\", line 405, in run_from_argv\n",
      "    parser = self.create_parser(argv[0], argv[1])\n",
      "  File \"/home/chris/.pyenv/versions/3.10.15/lib/python3.10/site-packages/django/core/management/base.py\", line 368, in create_parser\n",
      "    self.add_arguments(parser)\n",
      "  File \"/home/chris/.pyenv/versions/3.10.15/lib/python3.10/site-packages/django/core/management/commands/migrate.py\", line 50, in add_arguments\n",
      "    choices=tuple(connections),\n",
      "  File \"/home/chris/.pyenv/versions/3.10.15/lib/python3.10/site-packages/django/utils/connection.py\", line 73, in __iter__\n",
      "    return iter(self.settings)\n",
      "  File \"/home/chris/.pyenv/versions/3.10.15/lib/python3.10/site-packages/django/utils/functional.py\", line 47, in __get__\n",
      "    res = instance.__dict__[self.name] = self.func(instance)\n",
      "  File \"/home/chris/.pyenv/versions/3.10.15/lib/python3.10/site-packages/django/utils/connection.py\", line 45, in settings\n",
      "    self._settings = self.configure_settings(self._settings)\n",
      "  File \"/home/chris/.pyenv/versions/3.10.15/lib/python3.10/site-packages/django/db/utils.py\", line 148, in configure_settings\n",
      "    databases = super().configure_settings(databases)\n",
      "  File \"/home/chris/.pyenv/versions/3.10.15/lib/python3.10/site-packages/django/utils/connection.py\", line 50, in configure_settings\n",
      "    settings = getattr(django_settings, self.settings_name)\n",
      "  File \"/home/chris/.pyenv/versions/3.10.15/lib/python3.10/site-packages/django/conf/__init__.py\", line 81, in __getattr__\n",
      "    self._setup(name)\n",
      "  File \"/home/chris/.pyenv/versions/3.10.15/lib/python3.10/site-packages/django/conf/__init__.py\", line 68, in _setup\n",
      "    self._wrapped = Settings(settings_module)\n",
      "  File \"/home/chris/.pyenv/versions/3.10.15/lib/python3.10/site-packages/django/conf/__init__.py\", line 166, in __init__\n",
      "    mod = importlib.import_module(self.SETTINGS_MODULE)\n",
      "  File \"/home/chris/.pyenv/versions/3.10.15/lib/python3.10/importlib/__init__.py\", line 126, in import_module\n",
      "    return _bootstrap._gcd_import(name[level:], package, level)\n",
      "  File \"<frozen importlib._bootstrap>\", line 1050, in _gcd_import\n",
      "  File \"<frozen importlib._bootstrap>\", line 1027, in _find_and_load\n",
      "  File \"<frozen importlib._bootstrap>\", line 992, in _find_and_load_unlocked\n",
      "  File \"<frozen importlib._bootstrap>\", line 241, in _call_with_frames_removed\n",
      "  File \"<frozen importlib._bootstrap>\", line 1050, in _gcd_import\n",
      "  File \"<frozen importlib._bootstrap>\", line 1027, in _find_and_load\n",
      "  File \"<frozen importlib._bootstrap>\", line 1004, in _find_and_load_unlocked\n",
      "ModuleNotFoundError: No module named 'myproject'\n"
     ]
    },
    {
     "ename": "",
     "evalue": "1",
     "output_type": "error",
     "traceback": []
    }
   ],
   "source": [
    "python manage.py migrate"
   ]
  },
  {
   "cell_type": "code",
   "execution_count": null,
   "metadata": {},
   "outputs": [],
   "source": [
    "p manage.py makemigrations\n",
    "p manage.py migrate"
   ]
  },
  {
   "cell_type": "markdown",
   "metadata": {},
   "source": [
    "Migrations are Django’s way of propagating changes you make to your models (adding a field, deleting a model, etc.) into your database schema.\n",
    "\n",
    "Note that by default we are using the `sqlite3` database:"
   ]
  },
  {
   "cell_type": "code",
   "execution_count": null,
   "metadata": {},
   "outputs": [],
   "source": [
    "cat mysite/settings.py | grep ENGINE"
   ]
  },
  {
   "cell_type": "markdown",
   "metadata": {},
   "source": [
    "The `migrate` command has now created a new class in `tennis\\apps.py` "
   ]
  },
  {
   "cell_type": "code",
   "execution_count": null,
   "metadata": {},
   "outputs": [],
   "source": [
    "cat tennis/apps.py"
   ]
  },
  {
   "cell_type": "markdown",
   "metadata": {},
   "source": [
    "This new class has to be published in the global `mysite/settings.py` file.  \n",
    "This is a large file, but the relevent section is as follows:"
   ]
  },
  {
   "cell_type": "code",
   "execution_count": null,
   "metadata": {},
   "outputs": [],
   "source": [
    "sed -n '/^INSTALLED_APPS/,/^]/p' mysite/settings.py"
   ]
  },
  {
   "cell_type": "markdown",
   "metadata": {},
   "source": [
    "Now add our `tennis.apps.TennisConfig` class to this list:"
   ]
  },
  {
   "cell_type": "code",
   "execution_count": null,
   "metadata": {},
   "outputs": [],
   "source": [
    "sed -i -e \"/INSTALLED_APPS/ a \\    'tennis.apps.TennisConfig',\" mysite/settings.py"
   ]
  },
  {
   "cell_type": "markdown",
   "metadata": {},
   "source": [
    "The relevant part of this file now reads:"
   ]
  },
  {
   "cell_type": "code",
   "execution_count": null,
   "metadata": {
    "jupyter": {
     "source_hidden": true
    }
   },
   "outputs": [],
   "source": [
    "sed -n '/^INSTALLED_APPS/,/^]/p' mysite/settings.py"
   ]
  },
  {
   "cell_type": "markdown",
   "metadata": {},
   "source": [
    "Now tell Django that you’ve made some changes to your models (in this case, you’ve made new ones) and that you’d like the changes to be stored as a migration:"
   ]
  },
  {
   "cell_type": "code",
   "execution_count": null,
   "metadata": {},
   "outputs": [],
   "source": [
    "python manage.py makemigrations tennis"
   ]
  },
  {
   "cell_type": "markdown",
   "metadata": {},
   "source": [
    "Let's take a moment to see the migrations Django has created:"
   ]
  },
  {
   "cell_type": "code",
   "execution_count": null,
   "metadata": {},
   "outputs": [],
   "source": [
    "python manage.py sqlmigrate tennis 0001"
   ]
  },
  {
   "cell_type": "markdown",
   "metadata": {},
   "source": [
    "Now, run migrate again to create those model tables in your database:"
   ]
  },
  {
   "cell_type": "code",
   "execution_count": null,
   "metadata": {},
   "outputs": [],
   "source": [
    "python manage.py migrate &"
   ]
  },
  {
   "cell_type": "markdown",
   "metadata": {},
   "source": [
    "Before we use these new classes, let's check our webapp is still working:"
   ]
  },
  {
   "cell_type": "code",
   "execution_count": null,
   "metadata": {},
   "outputs": [],
   "source": [
    "firefox http:localhost:7000/tennis &"
   ]
  },
  {
   "cell_type": "markdown",
   "metadata": {},
   "source": [
    "Now return to the project root"
   ]
  },
  {
   "cell_type": "code",
   "execution_count": null,
   "metadata": {},
   "outputs": [],
   "source": [
    "cd \"$projectRoot\"\n",
    "pwd"
   ]
  },
  {
   "cell_type": "code",
   "execution_count": null,
   "metadata": {},
   "outputs": [],
   "source": []
  }
 ],
 "metadata": {
  "kernelspec": {
   "display_name": "Bash",
   "language": "bash",
   "name": "bash"
  },
  "language_info": {
   "codemirror_mode": "shell",
   "file_extension": ".sh",
   "mimetype": "text/x-sh",
   "name": "bash"
  }
 },
 "nbformat": 4,
 "nbformat_minor": 4
}
