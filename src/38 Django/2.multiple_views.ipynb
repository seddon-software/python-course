{
 "cells": [
  {
   "cell_type": "markdown",
   "metadata": {},
   "source": [
    "# Multiple Views"
   ]
  },
  {
   "cell_type": "markdown",
   "metadata": {},
   "source": [
    "Create our project"
   ]
  },
  {
   "cell_type": "code",
   "execution_count": 3,
   "metadata": {},
   "outputs": [],
   "source": [
    "# create project\n",
    "mkdir workspace2\n",
    "django-admin startproject myproject workspace2\n",
    "cd workspace2"
   ]
  },
  {
   "cell_type": "markdown",
   "metadata": {},
   "source": [
    "This time we create a webapp with multiple views.  We will leave using models until the next tutorial.  \n",
    "First create a new webapp:"
   ]
  },
  {
   "cell_type": "code",
   "execution_count": 4,
   "metadata": {},
   "outputs": [
    {
     "name": "stdout",
     "output_type": "stream",
     "text": [
      ".\n",
      "├── manage.py\n",
      "├── multiple_views\n",
      "│   ├── admin.py\n",
      "│   ├── apps.py\n",
      "│   ├── __init__.py\n",
      "│   ├── migrations\n",
      "│   │   └── __init__.py\n",
      "│   ├── models.py\n",
      "│   ├── tests.py\n",
      "│   └── views.py\n",
      "└── myproject\n",
      "    ├── asgi.py\n",
      "    ├── __init__.py\n",
      "    ├── settings.py\n",
      "    ├── urls.py\n",
      "    └── wsgi.py\n",
      "\n",
      "4 directories, 13 files\n"
     ]
    }
   ],
   "source": [
    "python manage.py startapp multiple_views\n",
    "tree -I __pycache__ ."
   ]
  },
  {
   "cell_type": "markdown",
   "metadata": {},
   "source": [
    "Now register our app in the master settings.py file.  \n",
    "This file is quite long, but the relevant part is at present:"
   ]
  },
  {
   "cell_type": "code",
   "execution_count": 5,
   "metadata": {},
   "outputs": [
    {
     "name": "stdout",
     "output_type": "stream",
     "text": [
      "INSTALLED_APPS = [\n",
      "    'django.contrib.admin',\n",
      "    'django.contrib.auth',\n",
      "    'django.contrib.contenttypes',\n",
      "    'django.contrib.sessions',\n",
      "    'django.contrib.messages',\n",
      "    'django.contrib.staticfiles',\n",
      "]\n"
     ]
    }
   ],
   "source": [
    "sed -n '/^INSTALLED_APPS/,/^]/p' myproject/settings.py"
   ]
  },
  {
   "cell_type": "markdown",
   "metadata": {},
   "source": [
    "Update the installed apps:"
   ]
  },
  {
   "cell_type": "code",
   "execution_count": 6,
   "metadata": {},
   "outputs": [
    {
     "name": "stdout",
     "output_type": "stream",
     "text": [
      "INSTALLED_APPS = [\n",
      "    'multiple_views',\n",
      "    'django.contrib.admin',\n",
      "    'django.contrib.auth',\n",
      "    'django.contrib.contenttypes',\n",
      "    'django.contrib.sessions',\n",
      "    'django.contrib.messages',\n",
      "    'django.contrib.staticfiles',\n",
      "]\n"
     ]
    }
   ],
   "source": [
    "sed -i -e \"/INSTALLED_APPS/ a \\    'multiple_views',\" myproject/settings.py\n",
    "sed -n '/^INSTALLED_APPS/,/^]/p' myproject/settings.py"
   ]
  },
  {
   "cell_type": "markdown",
   "metadata": {},
   "source": [
    "This has registered the webapp called `multiple_views`.  \n",
    "Let's create several views for our app:"
   ]
  },
  {
   "cell_type": "code",
   "execution_count": 7,
   "metadata": {},
   "outputs": [],
   "source": [
    "cat << EOF > multiple_views/views.py\n",
    "from django.http import HttpResponse\n",
    "from django.shortcuts import render\n",
    "\n",
    "\n",
    "# Create your views here.\n",
    "def index(request):\n",
    "    return HttpResponse(\"The index\")\n",
    "\n",
    "def view1(request):\n",
    "    return HttpResponse(f\"This is view1\")\n",
    "\n",
    "def view2(request, param1, param2):\n",
    "    return HttpResponse(f\"view2: param1 = {param1}, param2 = {param2}\")\n",
    "\n",
    "def view3(request):\n",
    "    return HttpResponse(f\"This will use a template\")\n",
    "EOF"
   ]
  },
  {
   "cell_type": "markdown",
   "metadata": {},
   "source": [
    "Now create the local url mappings"
   ]
  },
  {
   "cell_type": "code",
   "execution_count": 8,
   "metadata": {},
   "outputs": [],
   "source": [
    "cat << EOF > multiple_views/urls.py\n",
    "from django.urls import path\n",
    "\n",
    "from . import views\n",
    "\n",
    "urlpatterns = [\n",
    "    # firefox 'http://localhost:7000/multiple_views'\n",
    "    path('', views.index, name='index'),\n",
    "\n",
    "    #firefox 'http://localhost:7000/multiple_views/view1'\n",
    "    path('view1/', views.view1, name='view1'),\n",
    "\n",
    "    #firefox 'http://localhost:7000/multiple_views/view2/abc/def'\n",
    "    path('view2/<param1>/<param2>/', views.view2, name='view2'),\n",
    "\n",
    "    #firefox 'http://localhost:7000/multiple_views/view3'\n",
    "    path('view3/', views.view3, name='view3'),\n",
    "]\n",
    "EOF"
   ]
  },
  {
   "cell_type": "markdown",
   "metadata": {},
   "source": [
    "Link our mappings to the master url file in the `myproject` folder"
   ]
  },
  {
   "cell_type": "code",
   "execution_count": 9,
   "metadata": {},
   "outputs": [],
   "source": [
    "cat << EOF > myproject/urls.py\n",
    "from django.contrib import admin\n",
    "from django.urls import include, path\n",
    "\n",
    "urlpatterns = [\n",
    "    path('admin/', admin.site.urls),\n",
    "    path('multiple_views/', include('multiple_views.urls')),\n",
    "]\n",
    "EOF"
   ]
  },
  {
   "cell_type": "markdown",
   "metadata": {},
   "source": [
    "We should now have our webapp active.  Let's perform migrations and start the server on port 7000 of the localhost."
   ]
  },
  {
   "cell_type": "code",
   "execution_count": 10,
   "metadata": {},
   "outputs": [
    {
     "name": "stdout",
     "output_type": "stream",
     "text": [
      "\u001b[36;1mOperations to perform:\u001b[0m\n",
      "\u001b[1m  Apply all migrations: \u001b[0madmin, auth, contenttypes, sessions\n",
      "\u001b[36;1mRunning migrations:\u001b[0m\n",
      "  Applying contenttypes.0001_initial...\u001b[32;1m OK\u001b[0m\n",
      "  Applying auth.0001_initial...\u001b[32;1m OK\u001b[0m\n",
      "  Applying admin.0001_initial...\u001b[32;1m OK\u001b[0m\n",
      "  Applying admin.0002_logentry_remove_auto_add...\u001b[32;1m OK\u001b[0m\n",
      "  Applying admin.0003_logentry_add_action_flag_choices...\u001b[32;1m OK\u001b[0m\n",
      "  Applying contenttypes.0002_remove_content_type_name...\u001b[32;1m OK\u001b[0m\n",
      "  Applying auth.0002_alter_permission_name_max_length...\u001b[32;1m OK\u001b[0m\n",
      "  Applying auth.0003_alter_user_email_max_length...\u001b[32;1m OK\u001b[0m\n",
      "  Applying auth.0004_alter_user_username_opts...\u001b[32;1m OK\u001b[0m\n",
      "  Applying auth.0005_alter_user_last_login_null...\u001b[32;1m OK\u001b[0m\n",
      "  Applying auth.0006_require_contenttypes_0002...\u001b[32;1m OK\u001b[0m\n",
      "  Applying auth.0007_alter_validators_add_error_messages...\u001b[32;1m OK\u001b[0m\n",
      "  Applying auth.0008_alter_user_username_max_length...\u001b[32;1m OK\u001b[0m\n",
      "  Applying auth.0009_alter_user_last_name_max_length...\u001b[32;1m OK\u001b[0m\n",
      "  Applying auth.0010_alter_group_name_max_length...\u001b[32;1m OK\u001b[0m\n",
      "  Applying auth.0011_update_proxy_permissions...\u001b[32;1m OK\u001b[0m\n",
      "  Applying auth.0012_alter_user_first_name_max_length...\u001b[32;1m OK\u001b[0m\n",
      "  Applying sessions.0001_initial...\u001b[32;1m OK\u001b[0m\n",
      "[1] 51325\n"
     ]
    }
   ],
   "source": [
    "python manage.py migrate\n",
    "fuser -k 7000/tcp\n",
    "python manage.py runserver 7000 &"
   ]
  },
  {
   "cell_type": "markdown",
   "metadata": {},
   "source": [
    "Let's use `firefox` to see the app:"
   ]
  },
  {
   "cell_type": "code",
   "execution_count": 12,
   "metadata": {},
   "outputs": [
    {
     "name": "stdout",
     "output_type": "stream",
     "text": [
      "[04/Dec/2024 22:12:01] \u001b[32m\"GET /multiple_views HTTP/1.1\" 301 0\u001b[0m\n",
      "[04/Dec/2024 22:12:01] \u001b[m\"GET /multiple_views/ HTTP/1.1\" 200 9\u001b[0m\n",
      "firefox http://localhost:7000/multiple_views\n",
      "\u001b[A\u001b[C\u001b[C\u001b[C\u001b[C\u001b[C\u001b[C\u001b[C\u001b[C\u001b[C\u001b[C\u001b[C\u001b[C\u001b[C\u001b[C\u001b[C\u001b[C\u001b[C\u001b[C\u001b[C\u001b[C\u001b[C\u001b[C\u001b[C\u001b[C\u001b[C\u001b[C\u001b[C\u001b[C\u001b[C\u001b[C\u001b[C\u001b[C\u001b[C\u001b[C\u001b[C\u001b[C\u001b[C\u001b[C\u001b[C\u001b[C\u001b[C\u001b[C\u001b[C\u001b[C\u001b[C\u001b[C\u001b[C\u001b[C\u001b[C\u001b[C\u001b[C\u001b[C\u001b[C\u001b[C\u001b[C\u001b[C\u001b[C\u001b[C\u001b[C\u001b[C\u001b[C\u001b[C\u001b[C\u001b[C\u001b[C\u001b[C\u001b[C\u001b[C\u001b[C\u001b[C\u001b[C\u001b[C\u001b[C\u001b[C\u001b[C\u001b[C\u001b[C\u001b[C\u001b[C\u001b[K1\n",
      "[04/Dec/2024 22:13:42] \u001b[m\"GET /multiple_views/ HTTP/1.1\" 200 9\u001b[0m\n",
      "[04/Dec/2024 22:13:43] \u001b[32m\"GET /multiple_views/view1 HTTP/1.1\" 301 0\u001b[0m\n",
      "firefox --new-tab http://localhost:7000/multiple_views/view2/abc/def\n",
      "[04/Dec/2024 22:13:43] \u001b[m\"GET /multiple_views/view1/ HTTP/1.1\" 200 13\u001b[0m\n"
     ]
    },
    {
     "ename": "",
     "evalue": "1",
     "output_type": "error",
     "traceback": []
    }
   ],
   "source": [
    "firefox http://localhost:7000/multiple_views\n",
    "firefox --new-tab http://localhost:7000/multiple_views/view1\n",
    "firefox --new-tab http://localhost:7000/multiple_views/view2/abc/def"
   ]
  },
  {
   "cell_type": "markdown",
   "metadata": {},
   "source": [
    "These views return a str; this is far too restrictive.  In practice we should use a template to return a complete page. To set up the template we first create a folder for the template:"
   ]
  },
  {
   "cell_type": "code",
   "execution_count": 13,
   "metadata": {},
   "outputs": [
    {
     "name": "stdout",
     "output_type": "stream",
     "text": [
      "mkdir -p multiple_views/templates\n"
     ]
    },
    {
     "ename": "",
     "evalue": "1",
     "output_type": "error",
     "traceback": []
    }
   ],
   "source": [
    "mkdir -p multiple_views/templates"
   ]
  },
  {
   "cell_type": "markdown",
   "metadata": {},
   "source": [
    "Now create the template"
   ]
  },
  {
   "cell_type": "code",
   "execution_count": 14,
   "metadata": {},
   "outputs": [
    {
     "name": "stdout",
     "output_type": "stream",
     "text": [
      "cat << EOF > multiple_views/templates/mytemplate.html\n",
      "mytemplate.html<br>\n",
      "First Name: {{ first_name }} <br>\n",
      "Last Name: {{ last_name }} <br>\n",
      "EOF\n"
     ]
    },
    {
     "ename": "",
     "evalue": "1",
     "output_type": "error",
     "traceback": []
    }
   ],
   "source": [
    "cat << EOF > multiple_views/templates/mytemplate.html\n",
    "mytemplate.html<br>\n",
    "First Name: {{ first_name }} <br>\n",
    "Last Name: {{ last_name }} <br>\n",
    "EOF"
   ]
  },
  {
   "cell_type": "markdown",
   "metadata": {},
   "source": [
    "This creates the structure:"
   ]
  },
  {
   "cell_type": "code",
   "execution_count": 15,
   "metadata": {},
   "outputs": [
    {
     "name": "stdout",
     "output_type": "stream",
     "text": [
      "tree -I __pycache__ multiple_views\n",
      "multiple_views\n",
      "├── admin.py\n",
      "├── apps.py\n",
      "├── __init__.py\n",
      "├── migrations\n",
      "│   └── __init__.py\n",
      "├── models.py\n",
      "├── templates\n",
      "│   └── mytemplate.html\n",
      "├── tests.py\n",
      "├── urls.py\n",
      "└── views.py\n",
      "\n",
      "3 directories, 9 files\n"
     ]
    },
    {
     "ename": "",
     "evalue": "1",
     "output_type": "error",
     "traceback": []
    }
   ],
   "source": [
    "tree -I __pycache__ multiple_views"
   ]
  },
  {
   "cell_type": "markdown",
   "metadata": {},
   "source": [
    "We can rewrite `view3` to use the template:"
   ]
  },
  {
   "cell_type": "code",
   "execution_count": 16,
   "metadata": {},
   "outputs": [
    {
     "name": "stdout",
     "output_type": "stream",
     "text": [
      "cat << EOF >> multiple_views/views.py\n",
      "def view3(request):\n",
      "    context = {\n",
      "        'first_name':'Chris', \n",
      "        'last_name': 'Seddon'\n",
      "    }\n",
      "    return render(request, \"mytemplate.html\", context)\n",
      "EOF\n"
     ]
    },
    {
     "ename": "",
     "evalue": "1",
     "output_type": "error",
     "traceback": []
    }
   ],
   "source": [
    "cat << EOF >> multiple_views/views.py\n",
    "def view3(request):\n",
    "    context = {\n",
    "        'first_name':'Chris', \n",
    "        'last_name': 'Seddon'\n",
    "    }\n",
    "    return render(request, \"mytemplate.html\", context)\n",
    "EOF"
   ]
  },
  {
   "cell_type": "markdown",
   "metadata": {},
   "source": [
    "Now view the template in the browser"
   ]
  },
  {
   "cell_type": "code",
   "execution_count": 17,
   "metadata": {},
   "outputs": [
    {
     "name": "stdout",
     "output_type": "stream",
     "text": [
      "/home/chris/workspace/python-course/src/38 Django/workspace2/multiple_views/views.py changed, reloading.\n",
      "Watching for file changes with StatReloader\n",
      "Performing system checks...\n",
      "\n",
      "System check identified no issues (0 silenced).\n",
      "December 04, 2024 - 22:14:20\n",
      "Django version 5.1.3, using settings 'myproject.settings'\n",
      "Starting development server at http://127.0.0.1:7000/\n",
      "Quit the server with CONTROL-C.\n",
      "\n",
      "firefox http://localhost:7000/multiple_views/view3^Jfirefox http://localhost:7000/multiple_views/view3\n"
     ]
    },
    {
     "ename": "",
     "evalue": "1",
     "output_type": "error",
     "traceback": []
    }
   ],
   "source": [
    "firefox http://localhost:7000/multiple_views/view3"
   ]
  },
  {
   "cell_type": "markdown",
   "metadata": {},
   "source": [
    "clean up:\n",
    "* kill the server\n",
    "* remove workspace"
   ]
  },
  {
   "cell_type": "code",
   "execution_count": 18,
   "metadata": {},
   "outputs": [
    {
     "name": "stdout",
     "output_type": "stream",
     "text": [
      "[04/Dec/2024 22:14:25] \u001b[32m\"GET /multiple_views/view3 HTTP/1.1\" 301 0\u001b[0m\n",
      "[04/Dec/2024 22:14:25] \u001b[m\"GET /multiple_views/view3/ HTTP/1.1\" 200 66\u001b[0m\n",
      "cd ..\n",
      "fuser -k 7000/tcp\n",
      "7000/tcp:            52569\n",
      "rm -r workspace2\n"
     ]
    },
    {
     "ename": "",
     "evalue": "1",
     "output_type": "error",
     "traceback": []
    }
   ],
   "source": [
    "cd ..\n",
    "fuser -k 7000/tcp\n",
    "rm -r workspace2"
   ]
  },
  {
   "cell_type": "code",
   "execution_count": null,
   "metadata": {},
   "outputs": [],
   "source": []
  }
 ],
 "metadata": {
  "kernelspec": {
   "display_name": "Bash",
   "language": "bash",
   "name": "bash"
  },
  "language_info": {
   "codemirror_mode": "shell",
   "file_extension": ".sh",
   "mimetype": "text/x-sh",
   "name": "bash"
  }
 },
 "nbformat": 4,
 "nbformat_minor": 4
}
