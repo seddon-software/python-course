{
 "cells": [
  {
   "cell_type": "markdown",
   "metadata": {},
   "source": [
    "# Multiple Views"
   ]
  },
  {
   "cell_type": "markdown",
   "metadata": {},
   "source": [
    "Create our project"
   ]
  },
  {
   "cell_type": "code",
   "execution_count": null,
   "metadata": {},
   "outputs": [],
   "source": [
    "# create project\n",
    "mkdir workspace2\n",
    "django-admin startproject myproject workspace2\n",
    "cd workspace2"
   ]
  },
  {
   "cell_type": "markdown",
   "metadata": {},
   "source": [
    "This time we create a webapp with multiple views.  We will leave using models until the next tutorial.  \n",
    "First create a new webapp:"
   ]
  },
  {
   "cell_type": "code",
   "execution_count": null,
   "metadata": {},
   "outputs": [],
   "source": [
    "python manage.py startapp multiple_views\n",
    "tree -I __pycache__ ."
   ]
  },
  {
   "cell_type": "markdown",
   "metadata": {},
   "source": [
    "Now register our app in the master settings.py file.  \n",
    "This file is quite long, but the relevant part is at present:"
   ]
  },
  {
   "cell_type": "code",
   "execution_count": null,
   "metadata": {},
   "outputs": [],
   "source": [
    "sed -n '/^INSTALLED_APPS/,/^]/p' myproject/settings.py"
   ]
  },
  {
   "cell_type": "markdown",
   "metadata": {},
   "source": [
    "Update the installed apps:"
   ]
  },
  {
   "cell_type": "code",
   "execution_count": null,
   "metadata": {},
   "outputs": [],
   "source": [
    "sed -i -e \"/INSTALLED_APPS/ a \\    'multiple_views',\" myproject/settings.py\n",
    "sed -n '/^INSTALLED_APPS/,/^]/p' myproject/settings.py"
   ]
  },
  {
   "cell_type": "markdown",
   "metadata": {},
   "source": [
    "This has registered the webapp called `multiple_views`.  \n",
    "Let's create several views for our app:"
   ]
  },
  {
   "cell_type": "code",
   "execution_count": null,
   "metadata": {},
   "outputs": [],
   "source": [
    "cat << EOF > multiple_views/views.py\n",
    "from django.http import HttpResponse\n",
    "from django.shortcuts import render\n",
    "\n",
    "\n",
    "# Create your views here.\n",
    "def index(request):\n",
    "    return HttpResponse(\"The index\")\n",
    "\n",
    "def view1(request):\n",
    "    return HttpResponse(f\"This is view1\")\n",
    "\n",
    "def view2(request, param1, param2):\n",
    "    return HttpResponse(f\"view2: param1 = {param1}, param2 = {param2}\")\n",
    "\n",
    "def view3(request):\n",
    "    return HttpResponse(f\"This will use a template\")\n",
    "EOF"
   ]
  },
  {
   "cell_type": "markdown",
   "metadata": {},
   "source": [
    "Now create the local url mappings"
   ]
  },
  {
   "cell_type": "code",
   "execution_count": null,
   "metadata": {},
   "outputs": [],
   "source": [
    "cat << EOF > multiple_views/urls.py\n",
    "from django.urls import path\n",
    "\n",
    "from . import views\n",
    "\n",
    "urlpatterns = [\n",
    "    # firefox 'http://localhost:7000/multiple_views'\n",
    "    path('', views.index, name='index'),\n",
    "\n",
    "    #firefox 'http://localhost:7000/multiple_views/view1'\n",
    "    path('view1/', views.view1, name='view1'),\n",
    "\n",
    "    #firefox 'http://localhost:7000/multiple_views/view2/abc/def'\n",
    "    path('view2/<param1>/<param2>/', views.view2, name='view2'),\n",
    "\n",
    "    #firefox 'http://localhost:7000/multiple_views/view3'\n",
    "    path('view3/', views.view3, name='view3'),\n",
    "]\n",
    "EOF"
   ]
  },
  {
   "cell_type": "markdown",
   "metadata": {},
   "source": [
    "Link our mappings to the master url file in the `myproject` folder"
   ]
  },
  {
   "cell_type": "code",
   "execution_count": null,
   "metadata": {},
   "outputs": [],
   "source": [
    "cat << EOF > myproject/urls.py\n",
    "from django.contrib import admin\n",
    "from django.urls import include, path\n",
    "\n",
    "urlpatterns = [\n",
    "    path('admin/', admin.site.urls),\n",
    "    path('multiple_views/', include('multiple_views.urls')),\n",
    "]\n",
    "EOF"
   ]
  },
  {
   "cell_type": "markdown",
   "metadata": {},
   "source": [
    "We should now have our webapp active.  Let's perform migrations and start the server on port 7000 of the localhost."
   ]
  },
  {
   "cell_type": "code",
   "execution_count": null,
   "metadata": {},
   "outputs": [],
   "source": [
    "python manage.py migrate\n",
    "fuser -k 7000/tcp\n",
    "python manage.py runserver 7000 &"
   ]
  },
  {
   "cell_type": "markdown",
   "metadata": {},
   "source": [
    "Let's use `firefox` to see the app:"
   ]
  },
  {
   "cell_type": "code",
   "execution_count": null,
   "metadata": {},
   "outputs": [],
   "source": [
    "firefox http://localhost:7000/multiple_views"
   ]
  },
  {
   "cell_type": "code",
   "execution_count": null,
   "metadata": {},
   "outputs": [],
   "source": [
    "firefox http://localhost:7000/multiple_views/view1"
   ]
  },
  {
   "cell_type": "code",
   "execution_count": null,
   "metadata": {},
   "outputs": [],
   "source": [
    "firefox http://localhost:7000/multiple_views/view2/abc/def"
   ]
  },
  {
   "cell_type": "markdown",
   "metadata": {},
   "source": [
    "These views return a str; this is far too restrictive.  In practice we should use a template to return a complete page. To set up the template we first create a folder for the template:"
   ]
  },
  {
   "cell_type": "code",
   "execution_count": null,
   "metadata": {},
   "outputs": [],
   "source": [
    "mkdir -p multiple_views/templates"
   ]
  },
  {
   "cell_type": "markdown",
   "metadata": {},
   "source": [
    "Now create the template"
   ]
  },
  {
   "cell_type": "code",
   "execution_count": null,
   "metadata": {},
   "outputs": [],
   "source": [
    "cat << EOF > multiple_views/templates/mytemplate.html\n",
    "mytemplate.html<br>\n",
    "First Name: {{ first_name }} <br>\n",
    "Last Name: {{ last_name }} <br>\n",
    "EOF"
   ]
  },
  {
   "cell_type": "markdown",
   "metadata": {},
   "source": [
    "This creates the structure:"
   ]
  },
  {
   "cell_type": "code",
   "execution_count": null,
   "metadata": {},
   "outputs": [],
   "source": [
    "tree -I __pycache__ multiple_views"
   ]
  },
  {
   "cell_type": "markdown",
   "metadata": {},
   "source": [
    "We can rewrite `view3` to use the template:"
   ]
  },
  {
   "cell_type": "code",
   "execution_count": null,
   "metadata": {},
   "outputs": [],
   "source": [
    "cat << EOF >> multiple_views/views.py\n",
    "def view3(request):\n",
    "    context = {\n",
    "        'first_name':'Chris', \n",
    "        'last_name': 'Seddon'\n",
    "    }\n",
    "    return render(request, \"mytemplate.html\", context)\n",
    "EOF"
   ]
  },
  {
   "cell_type": "markdown",
   "metadata": {},
   "source": [
    "Now view the template in the browser"
   ]
  },
  {
   "cell_type": "code",
   "execution_count": null,
   "metadata": {},
   "outputs": [],
   "source": [
    "firefox http://localhost:7000/multiple_views/view3"
   ]
  },
  {
   "cell_type": "markdown",
   "metadata": {},
   "source": [
    "clean up:\n",
    "* kill the server\n",
    "* remove workspace"
   ]
  },
  {
   "cell_type": "code",
   "execution_count": null,
   "metadata": {},
   "outputs": [],
   "source": [
    "cd ..\n",
    "fuser -k 7000/tcp\n",
    "rm -r workspace2"
   ]
  }
 ],
 "metadata": {
  "kernelspec": {
   "display_name": "Bash",
   "language": "bash",
   "name": "bash"
  },
  "language_info": {
   "codemirror_mode": "shell",
   "file_extension": ".sh",
   "mimetype": "text/x-sh",
   "name": "bash"
  }
 },
 "nbformat": 4,
 "nbformat_minor": 4
}
