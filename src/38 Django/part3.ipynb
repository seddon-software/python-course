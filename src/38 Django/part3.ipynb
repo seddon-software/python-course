{
 "cells": [
  {
   "cell_type": "markdown",
   "metadata": {},
   "source": [
    "# Django Tutorial (part 3)\n",
    "Back the project root:"
   ]
  },
  {
   "cell_type": "code",
   "execution_count": null,
   "metadata": {},
   "outputs": [],
   "source": [
    "cd myworkspace/mysite\n",
    "tree -I __pycache__"
   ]
  },
  {
   "cell_type": "markdown",
   "metadata": {},
   "source": [
    "Restart the server"
   ]
  },
  {
   "cell_type": "code",
   "execution_count": null,
   "metadata": {},
   "outputs": [],
   "source": [
    "fuser -k 7000/tcp\n",
    "python manage.py runserver 7000 &"
   ]
  },
  {
   "cell_type": "markdown",
   "metadata": {},
   "source": [
    "Django has an interactive Python shell which we can use to add data to `sqlite`.  Again, we'll use Unix hereis documents to controll the shell.  Of course, in reality, you would just use the command line."
   ]
  },
  {
   "cell_type": "code",
   "execution_count": null,
   "metadata": {},
   "outputs": [],
   "source": [
    "python manage.py shell << EOF &\n",
    "from polls.models import Choice, Question  # Import the model classes we just wrote.\n",
    "print(Question.objects.all())\n",
    "EOF"
   ]
  },
  {
   "cell_type": "markdown",
   "metadata": {},
   "source": [
    "We can now create data for a new Question:"
   ]
  },
  {
   "cell_type": "code",
   "execution_count": null,
   "metadata": {},
   "outputs": [],
   "source": [
    "python manage.py shell << EOF\n",
    "from polls.models import Choice, Question  # Import the model classes we just wrote.\n",
    "from django.utils import timezone\n",
    "q = Question(question_text=\"What's new?\", pub_date=timezone.now())\n",
    "\n",
    "# Save the object into the database. You have to call save() explicitly.\n",
    "q.save()\n",
    "print(q.id)\n",
    "EOF"
   ]
  },
  {
   "cell_type": "markdown",
   "metadata": {},
   "source": [
    "We can inspect the question text and publication date with a slightly modified script:"
   ]
  },
  {
   "cell_type": "code",
   "execution_count": null,
   "metadata": {},
   "outputs": [],
   "source": [
    "# Access model field values via Python attributes.\n",
    "python manage.py shell << EOF\n",
    "from polls.models import Choice, Question  # Import the model classes we just wrote.\n",
    "from django.utils import timezone\n",
    "\n",
    "print(Question.objects.all())\n",
    "q = Question.objects.all()[0]\n",
    "print(q)\n",
    "print(q.question_text)\n",
    "print(q.pub_date)\n",
    "EOF"
   ]
  },
  {
   "cell_type": "markdown",
   "metadata": {},
   "source": [
    "That's a bit cryptic.  We can improve the print out by changing the model slightly.\n",
    "The current model looks like:"
   ]
  },
  {
   "cell_type": "code",
   "execution_count": null,
   "metadata": {},
   "outputs": [],
   "source": [
    "cat polls/models.py"
   ]
  },
  {
   "cell_type": "markdown",
   "metadata": {},
   "source": [
    "Change the `Question` and `Choice` classes by adding `__str__` methods:"
   ]
  },
  {
   "cell_type": "code",
   "execution_count": null,
   "metadata": {},
   "outputs": [],
   "source": [
    "cat << EOF > polls/models.py\n",
    "from django.db import models\n",
    "from django.utils import timezone\n",
    "import datetime\n",
    "\n",
    "class Question(models.Model):\n",
    "    def __str__(self):\n",
    "         return self.question_text\n",
    "         \n",
    "    def was_published_recently(self):\n",
    "         return self.pub_date >= timezone.now() - datetime.timedelta(days=1)\n",
    "\n",
    "    question_text = models.CharField(max_length=200)\n",
    "    pub_date = models.DateTimeField('date published')\n",
    "\n",
    "\n",
    "class Choice(models.Model):\n",
    "    def __str__(self):\n",
    "         return self.choice_text\n",
    "\n",
    "    question = models.ForeignKey(Question, on_delete=models.CASCADE)\n",
    "    choice_text = models.CharField(max_length=200)\n",
    "    votes = models.IntegerField(default=0)\n",
    "EOF\n",
    "\n",
    "#python manage.py migrate"
   ]
  },
  {
   "cell_type": "markdown",
   "metadata": {},
   "source": [
    "Now run the queries again (to see text printed):"
   ]
  },
  {
   "cell_type": "code",
   "execution_count": null,
   "metadata": {},
   "outputs": [],
   "source": [
    "# Access model field values via Python attributes.\n",
    "python manage.py shell << EOF\n",
    "from polls.models import Choice, Question  # Import the model classes we just wrote.\n",
    "from django.utils import timezone\n",
    "\n",
    "print(Question.objects.all())\n",
    "q = Question.objects.all()[0]\n",
    "print(q)\n",
    "print(q.question_text)\n",
    "print(q.pub_date)\n",
    "EOF"
   ]
  },
  {
   "cell_type": "markdown",
   "metadata": {},
   "source": [
    "Other things you can do in the shell:"
   ]
  },
  {
   "cell_type": "code",
   "execution_count": null,
   "metadata": {},
   "outputs": [],
   "source": [
    "python manage.py shell << EOF\n",
    "from polls.models import Choice, Question\n",
    "from django.utils import timezone\n",
    "print(Question.objects.all())\n",
    "q = Question.objects.all()[0]\n",
    "print(q.question_text)\n",
    "print(q.pub_date)\n",
    "print(q.id)\n",
    "print(q.was_published_recently())\n",
    "\n",
    "print(Question.objects.filter(id=q.id))\n",
    "\n",
    "EOF"
   ]
  },
  {
   "cell_type": "markdown",
   "metadata": {},
   "source": [
    "Give the `Question` a couple of `Choices`.  At present there are no choices:"
   ]
  },
  {
   "cell_type": "code",
   "execution_count": null,
   "metadata": {},
   "outputs": [],
   "source": [
    "python manage.py shell << EOF\n",
    "from polls.models import Choice, Question\n",
    "q = Question.objects.all()[0]\n",
    "print(q.choice_set.all())\n",
    "EOF"
   ]
  },
  {
   "cell_type": "markdown",
   "metadata": {},
   "source": [
    "Use `create` to create choices:"
   ]
  },
  {
   "cell_type": "code",
   "execution_count": null,
   "metadata": {},
   "outputs": [],
   "source": [
    "python manage.py shell << EOF\n",
    "from polls.models import Choice, Question\n",
    "# Create three choices.\n",
    "q = Question.objects.all()[0]\n",
    "q.choice_set.create(choice_text='Not much', votes=0)\n",
    "q.choice_set.create(choice_text='The sky', votes=0)\n",
    "c = q.choice_set.create(choice_text='Just hacking again', votes=0)\n",
    "print(f\"original question: {c.question}\")\n",
    "print(f\"choices: {q.choice_set.all()}\")\n",
    "print(f\"count of choices: {q.choice_set.count()}\")\n",
    "EOF"
   ]
  },
  {
   "cell_type": "markdown",
   "metadata": {},
   "source": [
    "The API automatically follows relationships as far as you need.\n",
    "Use double underscores to separate relationships.\n",
    "This works as many levels deep as you want; there's no limit.\n",
    "\n",
    "Find all Choices for any question whose pub_date is in this year\n",
    "(reusing the 'current_year' variable we created above)."
   ]
  },
  {
   "cell_type": "code",
   "execution_count": null,
   "metadata": {},
   "outputs": [],
   "source": [
    "python manage.py shell << EOF\n",
    "from polls.models import Choice, Question\n",
    "from django.utils import timezone\n",
    "current_year = timezone.now().year\n",
    "print(Choice.objects.filter(question__pub_date__year=current_year))\n",
    "\n",
    "\n",
    "q = Question.objects.all()[0]\n",
    "c = q.choice_set.filter(choice_text__startswith='Just hacking')\n",
    "print(q.choice_set.all())\n",
    "EOF"
   ]
  },
  {
   "cell_type": "markdown",
   "metadata": {},
   "source": [
    "Let's delete one of the choices using delete():"
   ]
  },
  {
   "cell_type": "code",
   "execution_count": null,
   "metadata": {},
   "outputs": [],
   "source": [
    "python manage.py shell << EOF\n",
    "from polls.models import Choice, Question\n",
    "from django.utils import timezone\n",
    "current_year = timezone.now().year\n",
    "q = Question.objects.all()[0]\n",
    "c = q.choice_set.filter(choice_text__startswith='Just hacking')\n",
    "c.delete()\n",
    "print(q.choice_set.all())\n",
    "EOF"
   ]
  },
  {
   "cell_type": "markdown",
   "metadata": {},
   "source": [
    "We can use a webapp to see all of the above.  First create superuser for Django Admin by\n",
    "running the following command in xterm:"
   ]
  },
  {
   "cell_type": "code",
   "execution_count": null,
   "metadata": {},
   "outputs": [],
   "source": [
    "xterm -fg black -bg white -fa 'Monospace' -fs 14 -e 'python manage.py createsuperuser' &"
   ]
  },
  {
   "cell_type": "markdown",
   "metadata": {},
   "source": [
    "Register the `Question` with the app:"
   ]
  },
  {
   "cell_type": "code",
   "execution_count": null,
   "metadata": {},
   "outputs": [],
   "source": [
    "cat << EOF > polls/admin.py\n",
    "from django.contrib import admin\n",
    "from .models import Question\n",
    "admin.site.register(Question)\n",
    "\n",
    "EOF"
   ]
  },
  {
   "cell_type": "markdown",
   "metadata": {},
   "source": [
    "Check the registration worked:"
   ]
  },
  {
   "cell_type": "code",
   "execution_count": null,
   "metadata": {},
   "outputs": [],
   "source": [
    "cat polls/admin.py"
   ]
  },
  {
   "cell_type": "markdown",
   "metadata": {},
   "source": [
    "Now fire up the admin app and login as the superuser.  You can now investigate all the `Questions` and `Choices`."
   ]
  },
  {
   "cell_type": "code",
   "execution_count": null,
   "metadata": {},
   "outputs": [],
   "source": [
    "firefox http://127.0.0.1:7000/admin/ &"
   ]
  },
  {
   "cell_type": "code",
   "execution_count": null,
   "metadata": {},
   "outputs": [],
   "source": []
  }
 ],
 "metadata": {
  "kernelspec": {
   "display_name": "Bash",
   "language": "bash",
   "name": "bash"
  },
  "language_info": {
   "codemirror_mode": "shell",
   "file_extension": ".sh",
   "mimetype": "text/x-sh",
   "name": "bash"
  }
 },
 "nbformat": 4,
 "nbformat_minor": 4
}
