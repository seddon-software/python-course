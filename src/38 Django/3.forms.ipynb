{
 "cells": [
  {
   "cell_type": "markdown",
   "metadata": {},
   "source": [
    "# Forms"
   ]
  },
  {
   "cell_type": "markdown",
   "metadata": {},
   "source": [
    "Django has support for designing forms containing user input.  Let's make a start by creating a new project:"
   ]
  },
  {
   "cell_type": "code",
   "execution_count": 2,
   "metadata": {},
   "outputs": [
    {
     "name": "stdout",
     "output_type": "stream",
     "text": [
      ".\n",
      "├── manage.py\n",
      "└── myproject\n",
      "    ├── asgi.py\n",
      "    ├── __init__.py\n",
      "    ├── settings.py\n",
      "    ├── urls.py\n",
      "    └── wsgi.py\n",
      "\n",
      "2 directories, 6 files\n"
     ]
    }
   ],
   "source": [
    "mkdir workspace3\n",
    "django-admin startproject myproject workspace3\n",
    "cd workspace3\n",
    "tree ."
   ]
  },
  {
   "cell_type": "markdown",
   "metadata": {},
   "source": [
    "Now create our webapp:"
   ]
  },
  {
   "cell_type": "code",
   "execution_count": 3,
   "metadata": {},
   "outputs": [
    {
     "name": "stdout",
     "output_type": "stream",
     "text": [
      ".\n",
      "├── forms\n",
      "│   ├── admin.py\n",
      "│   ├── apps.py\n",
      "│   ├── __init__.py\n",
      "│   ├── migrations\n",
      "│   │   └── __init__.py\n",
      "│   ├── models.py\n",
      "│   ├── tests.py\n",
      "│   └── views.py\n",
      "├── manage.py\n",
      "└── myproject\n",
      "    ├── asgi.py\n",
      "    ├── __init__.py\n",
      "    ├── settings.py\n",
      "    ├── urls.py\n",
      "    └── wsgi.py\n",
      "\n",
      "4 directories, 13 files\n"
     ]
    }
   ],
   "source": [
    "python manage.py startapp forms\n",
    "tree -I __pycache__ ."
   ]
  },
  {
   "cell_type": "markdown",
   "metadata": {},
   "source": [
    "Register our app"
   ]
  },
  {
   "cell_type": "code",
   "execution_count": 4,
   "metadata": {},
   "outputs": [
    {
     "name": "stdout",
     "output_type": "stream",
     "text": [
      "INSTALLED_APPS = [\n",
      "    'forms',\n",
      "    'django.contrib.admin',\n",
      "    'django.contrib.auth',\n",
      "    'django.contrib.contenttypes',\n",
      "    'django.contrib.sessions',\n",
      "    'django.contrib.messages',\n",
      "    'django.contrib.staticfiles',\n",
      "]\n"
     ]
    }
   ],
   "source": [
    "sed -i -e \"/INSTALLED_APPS/ a \\    'forms',\" myproject/settings.py\n",
    "sed -n '/^INSTALLED_APPS/,/^]/p' myproject/settings.py"
   ]
  },
  {
   "cell_type": "markdown",
   "metadata": {},
   "source": [
    "We begin by defining a form:"
   ]
  },
  {
   "cell_type": "code",
   "execution_count": 5,
   "metadata": {},
   "outputs": [
    {
     "name": "stdout",
     "output_type": "stream",
     "text": [
      "\n",
      "forms/     manage.py  myproject/ \n"
     ]
    }
   ],
   "source": [
    "cat << EOF > forms/forms.py\n",
    "from django import forms\n",
    "\n",
    "# creating a form \n",
    "class InputForm(forms.Form):\n",
    "    first_name = forms.CharField(max_length = 200, initial=\"Chris\")\n",
    "    last_name = forms.CharField(max_length = 200, initial=\"Seddon\")\n",
    "    city = forms.CharField(max_length = 200, initial=\"London\")\n",
    "    country = forms.CharField(max_length = 200, initial=\"UK\")\n",
    "    roll_number = forms.IntegerField(\n",
    "\t\thelp_text = \"Enter 6 digit roll number\",\n",
    "        initial=523681\n",
    "\t)\n",
    "EOF"
   ]
  },
  {
   "cell_type": "markdown",
   "metadata": {},
   "source": [
    "Now create our view:"
   ]
  },
  {
   "cell_type": "code",
   "execution_count": 6,
   "metadata": {},
   "outputs": [],
   "source": [
    "cat << EOF > forms/views.py\n",
    "from django.http import HttpResponse\n",
    "from django.shortcuts import render\n",
    "from .forms import InputForm\n",
    "\n",
    "# Create your views here.\n",
    "def homeView(request):\n",
    "    context = {}\n",
    "    context['form']= InputForm()\n",
    "    return render(request, \"home.html\", context)\n",
    "\n",
    "def printResults(request):\n",
    "    context = {\n",
    "        'first_name':  request.POST.get('first_name'), \n",
    "        'last_name':   request.POST.get('last_name'),\n",
    "        'city':        request.POST.get('city'),\n",
    "        'country':     request.POST.get('country'),\n",
    "        'roll_number': request.POST.get('roll_number'),\n",
    "    }\n",
    "    return render(request, \"mytemplate.html\", context)\n",
    "EOF"
   ]
  },
  {
   "cell_type": "markdown",
   "metadata": {},
   "source": [
    "Now set up urls:"
   ]
  },
  {
   "cell_type": "code",
   "execution_count": 7,
   "metadata": {},
   "outputs": [],
   "source": [
    "cat << EOF > forms/urls.py\n",
    "from django.urls import path\n",
    "\n",
    "from . import views\n",
    "\n",
    "urlpatterns = [\n",
    "    # called from the template: action = /forms/printResults/'\n",
    "    path('printResults/', views.printResults, name='printResults'),\n",
    "\n",
    "    # firefox 'http://localhost:7000/forms/home/'\n",
    "    path('home/', views.homeView, name='homeView'),\n",
    "]\n",
    "EOF"
   ]
  },
  {
   "cell_type": "markdown",
   "metadata": {},
   "source": [
    "Update the project urls."
   ]
  },
  {
   "cell_type": "code",
   "execution_count": 8,
   "metadata": {},
   "outputs": [],
   "source": [
    "cat << EOF > myproject/urls.py\n",
    "from django.contrib import admin\n",
    "from django.urls import include, path\n",
    "\n",
    "urlpatterns = [\n",
    "    path('forms/', include('forms.urls')),\n",
    "]\n",
    "EOF"
   ]
  },
  {
   "cell_type": "markdown",
   "metadata": {},
   "source": [
    "The template for the form.  Note you need to use a Cross-site request forgery token to prove the target of the POST is genuine.  \n",
    "https://stackoverflow.com/questions/7064745/how-to-include-external-css-image-etc-in-django-template"
   ]
  },
  {
   "cell_type": "code",
   "execution_count": 9,
   "metadata": {},
   "outputs": [],
   "source": [
    "mkdir -p forms/templates\n",
    "cat << EOF > forms/templates/home.html\n",
    "<!DOCTYPE html>\n",
    "<html>\n",
    "<head>\n",
    "<link rel=\"stylesheet\" type= \"text/css\" href= \"{{ url_for('static',filename='styles/mystyles.css') }}\">\n",
    "</head>\n",
    "<body>\n",
    "<form action = \"/forms/printResults/\" method = \"post\">\n",
    "    {% csrf_token %}\n",
    "    {{form }}\n",
    "\t<input type=\"submit\" value=Submit>\n",
    "</form>\n",
    "</body>\n",
    "EOF"
   ]
  },
  {
   "cell_type": "markdown",
   "metadata": {},
   "source": [
    "Create the stylesheet"
   ]
  },
  {
   "cell_type": "code",
   "execution_count": 10,
   "metadata": {},
   "outputs": [],
   "source": [
    "mkdir -p static/styles\n",
    "\n",
    "cat << EOF > static/styles/mystyles.css\n",
    "body {background-color: powderblue;}\n",
    "table, th, td {\n",
    "  border: 1px solid;\n",
    "}\n",
    "EOF"
   ]
  },
  {
   "cell_type": "markdown",
   "metadata": {},
   "source": [
    "The template for results:"
   ]
  },
  {
   "cell_type": "code",
   "execution_count": 11,
   "metadata": {},
   "outputs": [],
   "source": [
    "cat << EOF > forms/templates/mytemplate.html\n",
    "<!DOCTYPE html>\n",
    "<html>\n",
    "<head>\n",
    "<link rel=\"stylesheet\" type= \"text/css\" href= \"{{ url_for('static',filename='styles/mystyles.css') }}\">\n",
    "</head>\n",
    "\n",
    "<h1>Results</h1>\n",
    "\n",
    "<table>\n",
    "    <tr><td>First Name</td>  <td>{{ first_name }}</td></tr>\n",
    "    <tr><td>Last Name</td>   <td>{{ last_name }}</td></tr>\n",
    "    <tr><td>City</td>        <td>{{ city }}</td></tr>\n",
    "    <tr><td>Country</td>     <td>{{ country }}</td></tr>\n",
    "    <tr><td>Roll Number</td> <td>{{ roll_number }}</td></tr>\n",
    "</table>\n",
    "EOF"
   ]
  },
  {
   "cell_type": "markdown",
   "metadata": {},
   "source": [
    "The file structure is now:"
   ]
  },
  {
   "cell_type": "code",
   "execution_count": 12,
   "metadata": {},
   "outputs": [
    {
     "name": "stdout",
     "output_type": "stream",
     "text": [
      ".\n",
      "├── forms\n",
      "│   ├── admin.py\n",
      "│   ├── apps.py\n",
      "│   ├── forms.py\n",
      "│   ├── __init__.py\n",
      "│   ├── migrations\n",
      "│   │   └── __init__.py\n",
      "│   ├── models.py\n",
      "│   ├── templates\n",
      "│   │   ├── home.html\n",
      "│   │   └── mytemplate.html\n",
      "│   ├── tests.py\n",
      "│   ├── urls.py\n",
      "│   └── views.py\n",
      "├── manage.py\n",
      "├── myproject\n",
      "│   ├── asgi.py\n",
      "│   ├── __init__.py\n",
      "│   ├── settings.py\n",
      "│   ├── urls.py\n",
      "│   └── wsgi.py\n",
      "└── static\n",
      "    └── styles\n",
      "        └── mystyles.css\n",
      "\n",
      "7 directories, 18 files\n"
     ]
    }
   ],
   "source": [
    "tree -I __pycache__ ."
   ]
  },
  {
   "cell_type": "markdown",
   "metadata": {},
   "source": [
    "Perform migrations"
   ]
  },
  {
   "cell_type": "code",
   "execution_count": 13,
   "metadata": {},
   "outputs": [
    {
     "name": "stdout",
     "output_type": "stream",
     "text": [
      "\u001b[36;1mOperations to perform:\u001b[0m\n",
      "\u001b[1m  Apply all migrations: \u001b[0madmin, auth, contenttypes, sessions\n",
      "\u001b[36;1mRunning migrations:\u001b[0m\n",
      "  Applying contenttypes.0001_initial...\u001b[32;1m OK\u001b[0m\n",
      "  Applying auth.0001_initial...\u001b[32;1m OK\u001b[0m\n",
      "  Applying admin.0001_initial...\u001b[32;1m OK\u001b[0m\n",
      "  Applying admin.0002_logentry_remove_auto_add...\u001b[32;1m OK\u001b[0m\n",
      "  Applying admin.0003_logentry_add_action_flag_choices...\u001b[32;1m OK\u001b[0m\n",
      "  Applying contenttypes.0002_remove_content_type_name...\u001b[32;1m OK\u001b[0m\n",
      "  Applying auth.0002_alter_permission_name_max_length...\u001b[32;1m OK\u001b[0m\n",
      "  Applying auth.0003_alter_user_email_max_length...\u001b[32;1m OK\u001b[0m\n",
      "  Applying auth.0004_alter_user_username_opts...\u001b[32;1m OK\u001b[0m\n",
      "  Applying auth.0005_alter_user_last_login_null...\u001b[32;1m OK\u001b[0m\n",
      "  Applying auth.0006_require_contenttypes_0002...\u001b[32;1m OK\u001b[0m\n",
      "  Applying auth.0007_alter_validators_add_error_messages...\u001b[32;1m OK\u001b[0m\n",
      "  Applying auth.0008_alter_user_username_max_length...\u001b[32;1m OK\u001b[0m\n",
      "  Applying auth.0009_alter_user_last_name_max_length...\u001b[32;1m OK\u001b[0m\n",
      "  Applying auth.0010_alter_group_name_max_length...\u001b[32;1m OK\u001b[0m\n",
      "  Applying auth.0011_update_proxy_permissions...\u001b[32;1m OK\u001b[0m\n",
      "  Applying auth.0012_alter_user_first_name_max_length...\u001b[32;1m OK\u001b[0m\n",
      "  Applying sessions.0001_initial...\u001b[32;1m OK\u001b[0m\n"
     ]
    }
   ],
   "source": [
    "python manage.py migrate"
   ]
  },
  {
   "cell_type": "markdown",
   "metadata": {},
   "source": [
    "Start the server"
   ]
  },
  {
   "cell_type": "code",
   "execution_count": 14,
   "metadata": {},
   "outputs": [
    {
     "name": "stdout",
     "output_type": "stream",
     "text": [
      "[1] 55343\n"
     ]
    }
   ],
   "source": [
    "fuser -k 7000/tcp\n",
    "python manage.py runserver 7000 &"
   ]
  },
  {
   "cell_type": "markdown",
   "metadata": {},
   "source": [
    "Use 'touch' to get Django to reload the view.  If we don't do this the template engine gets confused and will fail to locate our templates."
   ]
  },
  {
   "cell_type": "code",
   "execution_count": 15,
   "metadata": {},
   "outputs": [
    {
     "name": "stdout",
     "output_type": "stream",
     "text": [
      "Watching for file changes with StatReloader\n",
      "Performing system checks...\n",
      "\n",
      "System check identified no issues (0 silenced).\n",
      "December 04, 2024 - 22:22:42\n",
      "Django version 5.1.3, using settings 'myproject.settings'\n",
      "Starting development server at http://127.0.0.1:7000/\n",
      "Quit the server with CONTROL-C.\n",
      "\n",
      "touch forms/views.py^J\n"
     ]
    }
   ],
   "source": [
    "touch forms/views.py"
   ]
  },
  {
   "cell_type": "markdown",
   "metadata": {},
   "source": [
    "Fire up `firefox` to see the app:"
   ]
  },
  {
   "cell_type": "code",
   "execution_count": 16,
   "metadata": {},
   "outputs": [
    {
     "name": "stdout",
     "output_type": "stream",
     "text": [
      "/home/chris/workspace/python-course/src/workspace3/forms/views.py changed, reloading.\n",
      "Watching for file changes with StatReloader\n",
      "Performing system checks...\n",
      "\n",
      "System check identified no issues (0 silenced).\n",
      "December 04, 2024 - 22:22:45\n",
      "Django version 5.1.3, using settings 'myproject.settings'\n",
      "Starting development server at http://127.0.0.1:7000/\n",
      "Quit the server with CONTROL-C.\n",
      "\n",
      "firefox http://localhost:7000/forms/home^J\n"
     ]
    }
   ],
   "source": [
    "firefox http://localhost:7000/forms/home"
   ]
  },
  {
   "cell_type": "markdown",
   "metadata": {},
   "source": [
    "clean up:\n",
    "* kill the server\n",
    "* remove workspace"
   ]
  },
  {
   "cell_type": "code",
   "execution_count": 1,
   "metadata": {},
   "outputs": [
    {
     "name": "stdout",
     "output_type": "stream",
     "text": [
      "rm: cannot remove 'workspace3': No such file or directory\n"
     ]
    },
    {
     "ename": "",
     "evalue": "1",
     "output_type": "error",
     "traceback": []
    }
   ],
   "source": [
    "cd ..\n",
    "fuser -k 7000/tcp\n",
    "rm -r workspace3"
   ]
  },
  {
   "cell_type": "code",
   "execution_count": null,
   "metadata": {},
   "outputs": [],
   "source": []
  }
 ],
 "metadata": {
  "kernelspec": {
   "display_name": "Bash",
   "language": "bash",
   "name": "bash"
  },
  "language_info": {
   "codemirror_mode": "shell",
   "file_extension": ".sh",
   "mimetype": "text/x-sh",
   "name": "bash"
  }
 },
 "nbformat": 4,
 "nbformat_minor": 4
}
