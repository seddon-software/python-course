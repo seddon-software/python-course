{
 "cells": [
  {
   "cell_type": "markdown",
   "metadata": {},
   "source": [
    "# Forms"
   ]
  },
  {
   "cell_type": "markdown",
   "metadata": {},
   "source": [
    "Django has support for designing forms containing user input.  Let's make a start by creating a new project:"
   ]
  },
  {
   "cell_type": "code",
   "execution_count": null,
   "metadata": {},
   "outputs": [],
   "source": [
    "mkdir workspace3\n",
    "django-admin startproject myproject workspace3\n",
    "cd workspace3\n",
    "tree ."
   ]
  },
  {
   "cell_type": "markdown",
   "metadata": {},
   "source": [
    "Now create our webapp:"
   ]
  },
  {
   "cell_type": "code",
   "execution_count": null,
   "metadata": {},
   "outputs": [],
   "source": [
    "python manage.py startapp forms\n",
    "tree -I __pycache__ ."
   ]
  },
  {
   "cell_type": "markdown",
   "metadata": {},
   "source": [
    "Register our app"
   ]
  },
  {
   "cell_type": "code",
   "execution_count": null,
   "metadata": {},
   "outputs": [],
   "source": [
    "sed -i -e \"/INSTALLED_APPS/ a \\    'forms',\" myproject/settings.py\n",
    "sed -n '/^INSTALLED_APPS/,/^]/p' myproject/settings.py"
   ]
  },
  {
   "cell_type": "markdown",
   "metadata": {},
   "source": [
    "We begin by defining a form:"
   ]
  },
  {
   "cell_type": "code",
   "execution_count": null,
   "metadata": {},
   "outputs": [],
   "source": [
    "cat << EOF > forms/forms.py\n",
    "from django import forms\n",
    "\n",
    "# creating a form \n",
    "class InputForm(forms.Form):\n",
    "    first_name = forms.CharField(max_length = 200, initial=\"Chris\")\n",
    "    last_name = forms.CharField(max_length = 200, initial=\"Seddon\")\n",
    "    city = forms.CharField(max_length = 200, initial=\"London\")\n",
    "    country = forms.CharField(max_length = 200, initial=\"UK\")\n",
    "    roll_number = forms.IntegerField(\n",
    "\t\thelp_text = \"Enter 6 digit roll number\",\n",
    "        initial=523681\n",
    "\t)\n",
    "EOF"
   ]
  },
  {
   "cell_type": "markdown",
   "metadata": {},
   "source": [
    "Now create our view:"
   ]
  },
  {
   "cell_type": "code",
   "execution_count": null,
   "metadata": {},
   "outputs": [],
   "source": [
    "cat << EOF > forms/views.py\n",
    "from django.http import HttpResponse\n",
    "from django.shortcuts import render\n",
    "from .forms import InputForm\n",
    "\n",
    "# Create your views here.\n",
    "def homeView(request):\n",
    "    context = {}\n",
    "    context['form']= InputForm()\n",
    "    return render(request, \"home.html\", context)\n",
    "\n",
    "def printResults(request):\n",
    "    context = {\n",
    "        'first_name':  request.POST.get('first_name'), \n",
    "        'last_name':   request.POST.get('last_name'),\n",
    "        'city':        request.POST.get('city'),\n",
    "        'country':     request.POST.get('country'),\n",
    "        'roll_number': request.POST.get('roll_number'),\n",
    "    }\n",
    "    return render(request, \"mytemplate.html\", context)\n",
    "EOF"
   ]
  },
  {
   "cell_type": "markdown",
   "metadata": {},
   "source": [
    "Now set up urls:"
   ]
  },
  {
   "cell_type": "code",
   "execution_count": null,
   "metadata": {},
   "outputs": [],
   "source": [
    "cat << EOF > forms/urls.py\n",
    "from django.urls import path\n",
    "\n",
    "from . import views\n",
    "\n",
    "urlpatterns = [\n",
    "    # called from the template: action = /forms/printResults/'\n",
    "    path('printResults/', views.printResults, name='printResults'),\n",
    "\n",
    "    # firefox 'http://localhost:7000/forms/home/'\n",
    "    path('home/', views.homeView, name='homeView'),\n",
    "]\n",
    "EOF"
   ]
  },
  {
   "cell_type": "markdown",
   "metadata": {},
   "source": [
    "Update the project urls."
   ]
  },
  {
   "cell_type": "code",
   "execution_count": null,
   "metadata": {},
   "outputs": [],
   "source": [
    "cat << EOF > myproject/urls.py\n",
    "from django.contrib import admin\n",
    "from django.urls import include, path\n",
    "\n",
    "urlpatterns = [\n",
    "    path('forms/', include('forms.urls')),\n",
    "]\n",
    "EOF"
   ]
  },
  {
   "cell_type": "markdown",
   "metadata": {},
   "source": [
    "The template for the form.  Note you need to use a Cross-site request forgery token to prove the target of the POST is genuine."
   ]
  },
  {
   "cell_type": "code",
   "execution_count": null,
   "metadata": {},
   "outputs": [],
   "source": [
    "mkdir -p forms/templates\n",
    "cat << EOF > forms/templates/home.html\n",
    "<!DOCTYPE html>\n",
    "<html>\n",
    "<head>\n",
    "<style>\n",
    "body {background-color: powderblue;}\n",
    "form   {color: blue;}\n",
    "tr     {background-color: red;}\n",
    "</style>\n",
    "</head>\n",
    "<body>\n",
    "<form action = \"/forms/printResults/\" method = \"post\">\n",
    "    {% csrf_token %}\n",
    "    {{form }}\n",
    "\t<input type=\"submit\" value=Submit>\n",
    "</form>\n",
    "</body>\n",
    "EOF"
   ]
  },
  {
   "cell_type": "markdown",
   "metadata": {},
   "source": [
    "The template for results:"
   ]
  },
  {
   "cell_type": "code",
   "execution_count": null,
   "metadata": {},
   "outputs": [],
   "source": [
    "cat << EOF > forms/templates/mytemplate.html\n",
    "<!DOCTYPE html>\n",
    "<html>\n",
    "<head>\n",
    "<style>\n",
    "body {background-color: powderblue;}\n",
    "table, th, td {\n",
    "  border: 1px solid;\n",
    "}\n",
    "td    {color: red;}\n",
    "</style>\n",
    "</head>\n",
    "\n",
    "<h1>Results</h1>\n",
    "\n",
    "<table>\n",
    "    <tr><td>First Name</td>  <td>{{ first_name }}</td></tr>\n",
    "    <tr><td>Last Name</td>   <td>{{ last_name }}</td></tr>\n",
    "    <tr><td>City</td>        <td>{{ city }}</td></tr>\n",
    "    <tr><td>Country</td>     <td>{{ country }}</td></tr>\n",
    "    <tr><td>Roll Number</td> <td>{{ roll_number }}</td></tr>\n",
    "</table>\n",
    "EOF"
   ]
  },
  {
   "cell_type": "markdown",
   "metadata": {},
   "source": [
    "The file structure is now:"
   ]
  },
  {
   "cell_type": "code",
   "execution_count": null,
   "metadata": {},
   "outputs": [],
   "source": [
    "tree -I __pycache__ ."
   ]
  },
  {
   "cell_type": "markdown",
   "metadata": {},
   "source": [
    "Perform migrations"
   ]
  },
  {
   "cell_type": "code",
   "execution_count": null,
   "metadata": {},
   "outputs": [],
   "source": [
    "python manage.py migrate"
   ]
  },
  {
   "cell_type": "markdown",
   "metadata": {},
   "source": [
    "Start the server"
   ]
  },
  {
   "cell_type": "code",
   "execution_count": null,
   "metadata": {},
   "outputs": [],
   "source": [
    "fuser -k 7000/tcp\n",
    "python manage.py runserver 7000 &"
   ]
  },
  {
   "cell_type": "markdown",
   "metadata": {},
   "source": [
    "Use 'touch' to get Django to reload the view.  If we don't do this the template engine gets confused and will fail to locate our templates."
   ]
  },
  {
   "cell_type": "code",
   "execution_count": null,
   "metadata": {},
   "outputs": [],
   "source": [
    "touch forms/views.py"
   ]
  },
  {
   "cell_type": "markdown",
   "metadata": {},
   "source": [
    "Fire up `firefox` to see the app:"
   ]
  },
  {
   "cell_type": "code",
   "execution_count": null,
   "metadata": {},
   "outputs": [],
   "source": [
    "firefox http://localhost:7000/forms/home"
   ]
  },
  {
   "cell_type": "markdown",
   "metadata": {},
   "source": [
    "clean up:\n",
    "* kill the server\n",
    "* remove workspace"
   ]
  },
  {
   "cell_type": "code",
   "execution_count": null,
   "metadata": {},
   "outputs": [],
   "source": [
    "cd ..\n",
    "fuser -k 7000/tcp\n",
    "rm -r workspace3"
   ]
  }
 ],
 "metadata": {
  "kernelspec": {
   "display_name": "Bash",
   "language": "bash",
   "name": "bash"
  },
  "language_info": {
   "codemirror_mode": "shell",
   "file_extension": ".sh",
   "mimetype": "text/x-sh",
   "name": "bash"
  }
 },
 "nbformat": 4,
 "nbformat_minor": 4
}
