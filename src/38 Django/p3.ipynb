{
 "cells": [
  {
   "cell_type": "markdown",
   "metadata": {},
   "source": [
    "# Django Tutorial (part 3)\n",
    "We should be at the project root:"
   ]
  },
  {
   "cell_type": "code",
   "execution_count": 1,
   "metadata": {},
   "outputs": [
    {
     "name": "stdout",
     "output_type": "stream",
     "text": [
      "/home/chris/workspace/python-course/Level 4/01 Django\n"
     ]
    }
   ],
   "source": [
    "cd \"$HOME/workspace/python-course/Level 4/01 Django\"\n",
    "pwd"
   ]
  },
  {
   "cell_type": "code",
   "execution_count": 2,
   "metadata": {},
   "outputs": [
    {
     "name": "stdout",
     "output_type": "stream",
     "text": [
      "/home/chris/workspace/python-course/Level 4/01 Django/workspace/mysite\n",
      "├── db.sqlite3\n",
      "├── manage.py\n",
      "├── mysite\n",
      "│   ├── asgi.py\n",
      "│   ├── __init__.py\n",
      "│   ├── settings.py\n",
      "│   ├── urls.py\n",
      "│   └── wsgi.py\n",
      "└── tennis\n",
      "    ├── admin.py\n",
      "    ├── apps.py\n",
      "    ├── forms.py\n",
      "    ├── __init__.py\n",
      "    ├── migrations\n",
      "    │   ├── 0001_initial.py\n",
      "    │   └── __init__.py\n",
      "    ├── models.py\n",
      "    ├── templates\n",
      "    │   ├── home.html\n",
      "    │   └── tennis\n",
      "    │       └── file3.html\n",
      "    ├── tests.py\n",
      "    ├── urls.py\n",
      "    └── views.py\n",
      "\n",
      "6 directories, 19 files\n"
     ]
    }
   ],
   "source": [
    "cd workspace/mysite\n",
    "tree -I __pycache__ \"$PWD\""
   ]
  },
  {
   "cell_type": "markdown",
   "metadata": {},
   "source": [
    "Restart the server"
   ]
  },
  {
   "cell_type": "code",
   "execution_count": 3,
   "metadata": {},
   "outputs": [
    {
     "name": "stdout",
     "output_type": "stream",
     "text": [
      "[1] 28022\n"
     ]
    }
   ],
   "source": [
    "fuser -k 7000/tcp\n",
    "python manage.py runserver 7000 &"
   ]
  },
  {
   "cell_type": "markdown",
   "metadata": {},
   "source": [
    "Django has an interactive Python shell which we can use to add data to `sqlite`.  Again, we'll use Unix hereis documents to controll the shell.  Of course, in practice, you would just use the command line."
   ]
  },
  {
   "cell_type": "code",
   "execution_count": 4,
   "metadata": {},
   "outputs": [
    {
     "name": "stdout",
     "output_type": "stream",
     "text": [
      "Watching for file changes with StatReloader\n",
      "Performing system checks...\n",
      "\n",
      "System check identified no issues (0 silenced).\n",
      "December 03, 2024 - 13:10:30\n",
      "Django version 5.1.3, using settings 'mysite.settings'\n",
      "Starting development server at http://127.0.0.1:7000/\n",
      "Quit the server with CONTROL-C.\n",
      "\n",
      "python manage.py shell << EOF &^J\n",
      "[2] 28086\n"
     ]
    }
   ],
   "source": [
    "python manage.py shell << EOF &\n",
    "from tennis.models import Match  # Import the model classes we just wrote\n",
    "print(Match.objects.all())\n",
    "EOF"
   ]
  },
  {
   "cell_type": "markdown",
   "metadata": {},
   "source": [
    "We can now create data for a new Match:"
   ]
  },
  {
   "cell_type": "code",
   "execution_count": 5,
   "metadata": {},
   "outputs": [
    {
     "name": "stdout",
     "output_type": "stream",
     "text": [
      "<QuerySet [<Match: Blue 2-7 Green>, <Match: Blue 6-3 Red>, <Match: Green 4-0 Purple>, <Match: Purple 1-2 Blue>]>\n",
      "[2]+  Done                    python manage.py shell <<EOF\n",
      "from tennis.models import Match  # Import the model classes we just wrote\n",
      "print(Match.objects.all())\n",
      "EOF\n",
      "\n"
     ]
    }
   ],
   "source": [
    "python manage.py shell << EOF\n",
    "from tennis.models import Match # Import the model classes we just wrote.\n",
    "\n",
    "def createMatch(home, score1, away, score2):\n",
    "    m = Match()\n",
    "    m.play(home, score1, away, score2)\n",
    "    # Save the objects into the database. You have to call save() explicitly.\n",
    "    m.save()\n",
    "    \n",
    "createMatch(\"Blue\", 2, \"Green\", 7)\n",
    "createMatch(\"Blue\", 6, \"Red\", 3)\n",
    "createMatch(\"Green\", 4, \"Purple\", 0)\n",
    "createMatch(\"Purple\", 1, \"Blue\", 2)\n",
    "\n",
    "EOF"
   ]
  },
  {
   "cell_type": "markdown",
   "metadata": {},
   "source": [
    "We can add some more matches:"
   ]
  },
  {
   "cell_type": "code",
   "execution_count": 6,
   "metadata": {},
   "outputs": [
    {
     "name": "stdout",
     "output_type": "stream",
     "text": [
      "<QuerySet [<Match: Blue 2-7 Green>, <Match: Blue 6-3 Red>, <Match: Green 4-0 Purple>, <Match: Purple 1-2 Blue>, <Match: Blue 2-7 Green>, <Match: Blue 6-3 Red>, <Match: Green 4-0 Purple>, <Match: Purple 1-2 Blue>]>\n",
      "Red 5-5 Purple\n"
     ]
    }
   ],
   "source": [
    "# Access model field values via Python attributes.\n",
    "python manage.py shell << EOF\n",
    "from tennis.models import Match # Import the model classes we just wrote.\n",
    "\n",
    "\n",
    "print(Match.objects.all())\n",
    "m = Match.objects.all()[0]\n",
    "m.play(\"Blue\", 5, \"Red\", 3)\n",
    "m.play(\"Blue\", 2, \"Green\", 7)\n",
    "m.play(\"Red\", 5, \"Purple\", 5)\n",
    "m.play(\"Red\", 5, \"Purple\", 5)\n",
    "\n",
    "print(m)\n",
    "EOF"
   ]
  },
  {
   "cell_type": "markdown",
   "metadata": {},
   "source": [
    "That's a bit cryptic.  We can improve the print out by changing the model slightly.\n",
    "The current model looks like:"
   ]
  },
  {
   "cell_type": "code",
   "execution_count": 7,
   "metadata": {},
   "outputs": [
    {
     "name": "stdout",
     "output_type": "stream",
     "text": [
      "from django.db import models\n",
      "\n",
      "class Match(models.Model):\n",
      "    homeTeam = models.CharField(max_length=20)\n",
      "    homeScore = models.IntegerField(default=0)\n",
      "    awayTeam = models.CharField(max_length=20)\n",
      "    awayScore = models.IntegerField(default=0)\n",
      "\n",
      "    def play(self, home, score1, away, score2):\n",
      "        self.homeTeam = home\n",
      "        self.homeScore = score1\n",
      "        self.awayTeam = away\n",
      "        self.awayScore = score2\n",
      "    def __str__(self):\n",
      "         return f\"{self.homeTeam} {self.homeScore}-{self.awayScore} {self.awayTeam}\"\n"
     ]
    }
   ],
   "source": [
    "cat tennis/models.py"
   ]
  },
  {
   "cell_type": "markdown",
   "metadata": {},
   "source": [
    "Change the `Match` class by adding `__str__` methods:"
   ]
  },
  {
   "cell_type": "code",
   "execution_count": 8,
   "metadata": {},
   "outputs": [
    {
     "name": "stdout",
     "output_type": "stream",
     "text": [
      "/home/chris/workspace/python-course/src/38 Django/workspace/mysite/tennis/models.py changed, reloading.\n",
      "\u001b[36;1mOperations to perform:\u001b[0m\n",
      "\u001b[1m  Apply all migrations: \u001b[0madmin, auth, contenttypes, sessions, tennis\n",
      "\u001b[36;1mRunning migrations:\u001b[0m\n",
      "  No migrations to apply.\n"
     ]
    }
   ],
   "source": [
    "cat << EOF > tennis/models.py\n",
    "from django.db import models\n",
    "\n",
    "class Match(models.Model):\n",
    "    homeTeam = models.CharField(max_length=20)\n",
    "    homeScore = models.IntegerField(default=0)\n",
    "    awayTeam = models.CharField(max_length=20)\n",
    "    awayScore = models.IntegerField(default=0)\n",
    "\n",
    "    def play(self, home, score1, away, score2):\n",
    "        self.homeTeam = home\n",
    "        self.homeScore = score1\n",
    "        self.awayTeam = away\n",
    "        self.awayScore = score2\n",
    "    def __str__(self):\n",
    "         return f\"{self.homeTeam} {self.homeScore}-{self.awayScore} {self.awayTeam}\"\n",
    "EOF\n",
    "\n",
    "python manage.py migrate"
   ]
  },
  {
   "cell_type": "markdown",
   "metadata": {},
   "source": [
    "Now run the queries again (to see text printed):"
   ]
  },
  {
   "cell_type": "code",
   "execution_count": 9,
   "metadata": {},
   "outputs": [
    {
     "name": "stdout",
     "output_type": "stream",
     "text": [
      "Watching for file changes with StatReloader\n",
      "Performing system checks...\n",
      "\n",
      "System check identified no issues (0 silenced).\n",
      "December 03, 2024 - 13:11:09\n",
      "Django version 5.1.3, using settings 'mysite.settings'\n",
      "Starting development server at http://127.0.0.1:7000/\n",
      "Quit the server with CONTROL-C.\n",
      "\n",
      "# Access model field values via Python attributes.^J\n",
      "Blue 2-7 Green\n",
      "Blue 6-3 Red\n",
      "Green 4-0 Purple\n",
      "Purple 1-2 Blue\n",
      "Blue 2-7 Green\n",
      "Blue 6-3 Red\n",
      "Green 4-0 Purple\n",
      "Purple 1-2 Blue\n"
     ]
    }
   ],
   "source": [
    "# Access model field values via Python attributes.\n",
    "python manage.py shell << EOF\n",
    "from tennis.models import Match  # Import the model classes we just wrote.\n",
    "\n",
    "for match in Match.objects.all():\n",
    "    print(match)\n",
    "EOF"
   ]
  },
  {
   "cell_type": "markdown",
   "metadata": {},
   "source": [
    "Other things you can do in the shell:"
   ]
  },
  {
   "cell_type": "markdown",
   "metadata": {},
   "source": [
    "Find all the results for the \"Blue\" team:"
   ]
  },
  {
   "cell_type": "code",
   "execution_count": 10,
   "metadata": {},
   "outputs": [
    {
     "name": "stdout",
     "output_type": "stream",
     "text": [
      "python manage.py shell << EOF\n",
      "from tennis.models import Match\n",
      "print(Match.objects.filter(homeTeam=\"Blue\"))\n",
      "EOF\n",
      "<QuerySet [<Match: Blue 2-7 Green>, <Match: Blue 6-3 Red>]>\n"
     ]
    },
    {
     "ename": "",
     "evalue": "1",
     "output_type": "error",
     "traceback": []
    }
   ],
   "source": [
    "python manage.py shell << EOF\n",
    "from tennis.models import Match\n",
    "print(Match.objects.filter(homeTeam=\"Blue\"))\n",
    "EOF"
   ]
  },
  {
   "cell_type": "markdown",
   "metadata": {},
   "source": [
    "Let's delete one of the mathes using delete():"
   ]
  },
  {
   "cell_type": "code",
   "execution_count": 11,
   "metadata": {},
   "outputs": [
    {
     "name": "stdout",
     "output_type": "stream",
     "text": [
      "python manage.py shell << EOF\n",
      "from tennis.models import Match\n",
      "m = Match.objects.filter(awayTeam=\"Green\")\n",
      "m.delete()\n",
      "\n",
      "for match in Match.objects.all():\n",
      "    print(match)\n",
      "EOF\n",
      "Blue 6-3 Red\n",
      "Green 4-0 Purple\n",
      "Purple 1-2 Blue\n"
     ]
    },
    {
     "ename": "",
     "evalue": "1",
     "output_type": "error",
     "traceback": []
    }
   ],
   "source": [
    "python manage.py shell << EOF\n",
    "from tennis.models import Match\n",
    "m = Match.objects.filter(awayTeam=\"Green\")\n",
    "m.delete()\n",
    "\n",
    "for match in Match.objects.all():\n",
    "    print(match)\n",
    "EOF"
   ]
  },
  {
   "cell_type": "markdown",
   "metadata": {},
   "source": [
    "We can use a webapp to see all of the above.  First create superuser for Django Admin by\n",
    "running the following command in xterm (name and password of your choice):"
   ]
  },
  {
   "cell_type": "code",
   "execution_count": 16,
   "metadata": {},
   "outputs": [
    {
     "name": "stdout",
     "output_type": "stream",
     "text": [
      "[29/Nov/2024 12:45:48] \u001b[32m\"GET /admin/ HTTP/1.1\" 302 0\u001b[0m\n",
      "[29/Nov/2024 12:45:48] \u001b[m\"GET /admin/login/?next=/admin/ HTTP/1.1\" 200 4160\u001b[0m\n",
      "[29/Nov/2024 12:45:48] \u001b[m\"GET /static/admin/js/theme.js HTTP/1.1\" 200 1653\u001b[0m\n",
      "[29/Nov/2024 12:45:48] \u001b[m\"GET /static/admin/js/nav_sidebar.js HTTP/1.1\" 200 3063\u001b[0m\n",
      "[29/Nov/2024 12:45:48] \u001b[m\"GET /static/admin/css/dark_mode.css HTTP/1.1\" 200 2804\u001b[0m\n",
      "[29/Nov/2024 12:45:48] \u001b[m\"GET /static/admin/css/login.css HTTP/1.1\" 200 951\u001b[0m\n",
      "[29/Nov/2024 12:45:48] \u001b[m\"GET /static/admin/css/nav_sidebar.css HTTP/1.1\" 200 2810\u001b[0m\n",
      "[29/Nov/2024 12:45:48] \u001b[m\"GET /static/admin/css/responsive.css HTTP/1.1\" 200 17972\u001b[0m\n",
      "[29/Nov/2024 12:45:48] \u001b[m\"GET /static/admin/css/base.css HTTP/1.1\" 200 22092\u001b[0m\n",
      "Not Found: /favicon.ico\n",
      "[29/Nov/2024 12:45:48] \u001b[33m\"GET /favicon.ico HTTP/1.1\" 404 2358\u001b[0m\n",
      "[29/Nov/2024 12:46:13] \u001b[m\"POST /admin/login/?next=/admin/ HTTP/1.1\" 200 4327\u001b[0m\n",
      "[29/Nov/2024 12:46:34] \u001b[m\"POST /admin/login/?next=/admin/ HTTP/1.1\" 200 4327\u001b[0m\n",
      "xterm -fg black -bg white -fa 'Monospace' -fs 14 -e 'python manage.py createsuperuser' &\n",
      "[3] 17262\n",
      "[2]   Done                    firefox http://127.0.0.1:7000/admin/\n"
     ]
    },
    {
     "ename": "",
     "evalue": "1",
     "output_type": "error",
     "traceback": []
    }
   ],
   "source": [
    "xterm -fg black -bg white -fa 'Monospace' -fs 14 -e 'python manage.py createsuperuser' &"
   ]
  },
  {
   "cell_type": "markdown",
   "metadata": {},
   "source": [
    "Register the `Match` class with the admin app:"
   ]
  },
  {
   "cell_type": "code",
   "execution_count": 17,
   "metadata": {},
   "outputs": [
    {
     "name": "stdout",
     "output_type": "stream",
     "text": [
      "cat << EOF > tennis/admin.py\n",
      "from django.contrib import admin\n",
      "from .models import Match\n",
      "admin.site.register(Match)\n",
      "EOF\n",
      "[3]+  Done                    xterm -fg black -bg white -fa 'Monospace' -fs 14 -e 'python manage.py createsuperuser'\n"
     ]
    },
    {
     "ename": "",
     "evalue": "1",
     "output_type": "error",
     "traceback": []
    }
   ],
   "source": [
    "cat << EOF > tennis/admin.py\n",
    "from django.contrib import admin\n",
    "from .models import Match\n",
    "admin.site.register(Match)\n",
    "EOF"
   ]
  },
  {
   "cell_type": "markdown",
   "metadata": {},
   "source": [
    "Check the registration worked:"
   ]
  },
  {
   "cell_type": "code",
   "execution_count": 18,
   "metadata": {},
   "outputs": [
    {
     "name": "stdout",
     "output_type": "stream",
     "text": [
      "/home/chris/workspace/python-course/src/38 Django/workspace/mysite/tennis/admin.py changed, reloading.\n",
      "Watching for file changes with StatReloader\n",
      "Performing system checks...\n",
      "\n",
      "System check identified no issues (0 silenced).\n",
      "November 29, 2024 - 12:47:42\n",
      "Django version 5.1.3, using settings 'mysite.settings'\n",
      "Starting development server at http://127.0.0.1:7000/\n",
      "Quit the server with CONTROL-C.\n",
      "\n",
      "cat tennis/admin.py^Jcat tennis/admin.py\n",
      "from django.contrib import admin\n",
      "from .models import Match\n",
      "admin.site.register(Match)\n"
     ]
    },
    {
     "ename": "",
     "evalue": "1",
     "output_type": "error",
     "traceback": []
    }
   ],
   "source": [
    "cat tennis/admin.py"
   ]
  },
  {
   "cell_type": "markdown",
   "metadata": {},
   "source": [
    "Now fire up the admin app and login as the superuser.  You can now investigate all the `Match` results."
   ]
  },
  {
   "cell_type": "code",
   "execution_count": 19,
   "metadata": {},
   "outputs": [
    {
     "name": "stdout",
     "output_type": "stream",
     "text": [
      "firefox http://127.0.0.1:7000/admin/ &\n",
      "[2] 17376\n"
     ]
    },
    {
     "ename": "",
     "evalue": "1",
     "output_type": "error",
     "traceback": []
    }
   ],
   "source": [
    "firefox http://127.0.0.1:7000/admin/ &"
   ]
  },
  {
   "cell_type": "code",
   "execution_count": null,
   "metadata": {},
   "outputs": [],
   "source": []
  }
 ],
 "metadata": {
  "kernelspec": {
   "display_name": "Bash",
   "language": "bash",
   "name": "bash"
  },
  "language_info": {
   "codemirror_mode": "shell",
   "file_extension": ".sh",
   "mimetype": "text/x-sh",
   "name": "bash"
  }
 },
 "nbformat": 4,
 "nbformat_minor": 4
}
