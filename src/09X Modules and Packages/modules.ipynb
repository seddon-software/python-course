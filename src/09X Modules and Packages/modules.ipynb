{
 "cells": [
  {
   "cell_type": "markdown",
   "metadata": {},
   "source": [
    "<div style=\"color:red;background-color:black\">\n",
    "Diamond Light Source\n",
    "<br style=\"color:red;background-color:antiquewhite\"><h1>Python Language: Modules</h1>  \n",
    "\n",
    "©2000-20 Chris Seddon \n",
    "</div>"
   ]
  },
  {
   "cell_type": "markdown",
   "metadata": {},
   "source": [
    "## 1\n",
    "In this tutorial we will be investigating importing a library into our Python program.  There are a huge number of libraries available, but here will create our own simple library to illustrate concepts.  \n",
    "\n",
    "Note that although Jupyter notebook is a fantastic product, it does have some limitations.  Unfortunately, not all Python code produces the correct output in notebook.  Code will work fine on the command line or in Eclipse or PyCharm, but some output will be lost in notebook.  So, in this tutorial we will have to perform some workarounds.  I'll let you know when we do this and hopefully this won't obscure what we are trying to achieve. \n",
    "\n",
    "Normally libraries will reside in a different directory from our code, so we will create a new directory for the library:"
   ]
  },
  {
   "cell_type": "code",
   "execution_count": null,
   "metadata": {},
   "outputs": [],
   "source": [
    "%%bash\n",
    "mkdir -p resources/libs"
   ]
  },
  {
   "cell_type": "markdown",
   "metadata": {},
   "source": [
    "## 2\n",
    "To begin with, we will create a library and store it in the \"libs\" directory.  Libraries consisting of a single file are called \"modules\", multi-file libraries are called \"packages\".  Both modules and packages work in similar ways.  But, to keep things we'll just work with a module.  \n",
    "\n",
    "We could write classes and functions in our module, but to keep things simple we will just define 4 one-line functions."
   ]
  },
  {
   "cell_type": "code",
   "execution_count": null,
   "metadata": {},
   "outputs": [],
   "source": [
    "def f1():\n",
    "    print(\"f1\")\n",
    "def f2():\n",
    "    print(\"f2\")\n",
    "def f3():\n",
    "    print(\"f3\")\n",
    "def f4():\n",
    "    print(\"f4\")"
   ]
  },
  {
   "cell_type": "markdown",
   "metadata": {},
   "source": [
    "## 3 \n",
    "Sometimes when people write libraries they include some test code in the library.  This can cause problems for users of the library.  To see what can happen, we will add some code to the library to simulate testing the library code.  Rather than writing real testing code we will just call each of the functions once.  That will be enough to produce the desired effect.  \n",
    "\n",
    "In order to use this module we'll need to write it to disk. We'll use the %%writefile magic command to do the writing."
   ]
  },
  {
   "cell_type": "code",
   "execution_count": null,
   "metadata": {},
   "outputs": [],
   "source": [
    "%%writefile resources/libs/mylib.py\n",
    "def f1():\n",
    "    print(\"f1\")\n",
    "def f2():\n",
    "    print(\"f2\")\n",
    "def f3():\n",
    "    print(\"f3\")\n",
    "def f4():\n",
    "    print(\"f4\")\n",
    "\n",
    "# testing code\n",
    "f1()\n",
    "f2()\n",
    "f3()\n",
    "f4()"
   ]
  },
  {
   "cell_type": "markdown",
   "metadata": {},
   "source": [
    "## 4\n",
    "Now will import the library code into our own code and try to call the 4 functions.  Normally to call library function you need to prepend the function name with the module name as in:\n",
    "<pre>\n",
    "mylib.f1()\n",
    "</pre>"
   ]
  },
  {
   "cell_type": "code",
   "execution_count": null,
   "metadata": {
    "slideshow": {
     "slide_type": "slide"
    },
    "tags": []
   },
   "outputs": [],
   "source": [
    "import mylib\n",
    "\n",
    "mylib.f1()\n",
    "mylib.f2()\n",
    "mylib.f3()\n",
    "mylib.f4()"
   ]
  },
  {
   "cell_type": "markdown",
   "metadata": {},
   "source": [
    "## 5\n",
    "Well this hasn't worked; Python can't find the library.  \n",
    "\n",
    "This is to be expected because we intentially placed the library in a different directory to our code.  Python locates libraries using a similar mechanism to how \"bash\" locates commands in Linux.  Python uses the environment variable PYTHONPATH to locate Python libraries (\"bash\" uses the PATH environment variable to locate commands; PATH contains a set of directories, each separated by a colon, to be searched).  \n",
    "\n",
    "The PYTHONPATH is normally set up using <pre>module load python</pre>but can be modified on the command line or preferably inside our code.  \n",
    "\n",
    "To modify the PYTHONPATH inside our code we can write <pre>import sys\n",
    "sys.path.insert(0, \"resources/libs\")</pre>\n",
    "\"sys.path\" represents the PYTHONPATH in program code.  \n",
    "\n",
    "\"insert\" prepends the directory \"libs\" to the PYTHONPATH.  Changing the PYTHONPATH inside our code only changes the PYTHONPATH for this program.  Other programs will be unaffected.  \n",
    "\n",
    "Let's try again:"
   ]
  },
  {
   "cell_type": "markdown",
   "metadata": {},
   "source": [
    "Sometimes Jupyter notebook caches information and changes don't work.  To make sure we don't run into problems clear the cache by<br/> \n",
    "<font color=red>\n",
    "restarting the kernel before executing the next cell.\n",
    "</font>"
   ]
  },
  {
   "cell_type": "code",
   "execution_count": null,
   "metadata": {
    "slideshow": {
     "slide_type": "slide"
    }
   },
   "outputs": [],
   "source": [
    "import sys\n",
    "sys.path.append(\"resources/libs\")\n",
    "import mylib\n",
    "mylib.f1()\n",
    "mylib.f2()\n",
    "mylib.f3()\n",
    "mylib.f4()"
   ]
  },
  {
   "cell_type": "markdown",
   "metadata": {},
   "source": [
    "## 6\n",
    "The above code produces the correct output.  \n",
    "\n",
    "We can see from the above that import executes all the code in the imported module before continuing with our code.  Notice how the functions are all called twice: once because of the tests inside the module and once because we called the functions from our code.  \n",
    "\n",
    "Question is: how do we stop the tests running when we import the module, but still let the tests execute when the module is run on its own.  \n",
    "\n",
    "The answer to this question revolves around the module name.  Every Python file has a module name that is its filename minus the \"py\" extension.  So with our module stored in \"mylib.py\", its module name is:<pre>mylib</pre>\n",
    "\n",
    "The one exception is that the module name is always replaced by \"\\__main__\" for the first file to be executed.  Thus if we only run \"mylib.py\", its module name will be \"\\__main__\".  But if we import the module it will not be the first file to run and its normal module name (\"mylib\") will be used.  \n",
    "Python stores the module name in the special global variable:\n",
    "<pre>__name__</pre>\n",
    "\n",
    "We can make use of this in the imported module:\n",
    "<pre>if __name__ == \"__main__\":\n",
    "    ...\n",
    "</pre>\n",
    "This will be true if the module is executed on its own, but false if we run it by importing the module.  Here is the new module:"
   ]
  },
  {
   "cell_type": "code",
   "execution_count": null,
   "metadata": {},
   "outputs": [],
   "source": [
    "%%writefile resources/libs/mylib.py\n",
    "def f1():\n",
    "    print(\"f1\")\n",
    "def f2():\n",
    "    print(\"f2\")\n",
    "def f3():\n",
    "    print(\"f3\")\n",
    "def f4():\n",
    "    print(\"f4\")\n",
    "\n",
    "# testing code\n",
    "if __name__ == \"__main__\":\n",
    "    f1()\n",
    "    f2()\n",
    "    f3()\n",
    "    f4()"
   ]
  },
  {
   "cell_type": "markdown",
   "metadata": {},
   "source": [
    "## 7\n",
    "Now the module will work correctly (see below).  It won't output anything when imported, but will run the tests when run in isolation.  Since the module doesn't produce any output when imported, we can remove the magic command.  The following code will now produce the same output as when run elsewhere.  \n",
    "\n",
    "You'll often see this if statment in library modules.  You can use it in your own code if you think your code might be made into a module some time in the future."
   ]
  },
  {
   "cell_type": "code",
   "execution_count": null,
   "metadata": {
    "slideshow": {
     "slide_type": "slide"
    }
   },
   "outputs": [],
   "source": [
    "import sys\n",
    "sys.path.insert(0, \"resources/libs\")\n",
    "\n",
    "import mylib\n",
    "mylib.f1()\n",
    "mylib.f2()\n",
    "mylib.f3()\n",
    "mylib.f4()"
   ]
  },
  {
   "cell_type": "markdown",
   "metadata": {},
   "source": [
    "## 8\n",
    "The following diagram shows what is happening in memory.  Each file has a symbol table that is a dictionary of all the global symbols in the file.  The \"mylib\" module has 4 global symbols: each of the function pointers.  Our code has only one global symbol (in the import statement): \"mylib\"\n",
    "\n",
    "<img src=\"resources/Slide1.jpg\"/>\n",
    "\n",
    "f.o. stands for function object."
   ]
  },
  {
   "cell_type": "markdown",
   "metadata": {
    "slideshow": {
     "slide_type": "subslide"
    }
   },
   "source": [
    "## 9\n",
    "It's common to abbreviate module names when they are imported.  In our case, the module name is quite short in any case by other modules have longer names.  To use an alias we use:\n",
    "<pre>import mylib as m</pre>\n",
    "As another example, when using \"matplotlib\" it is conventional to use:\n",
    "<pre>import matplotli.pyplot as plt</pre>\n",
    "\n",
    "Our code changes to:"
   ]
  },
  {
   "cell_type": "code",
   "execution_count": null,
   "metadata": {
    "slideshow": {
     "slide_type": "slide"
    }
   },
   "outputs": [],
   "source": [
    "import sys\n",
    "sys.path.insert(0, \"resources/libs\")\n",
    "\n",
    "import mylib as m\n",
    "m.f1()\n",
    "m.f2()\n",
    "m.f3()\n",
    "m.f4()"
   ]
  },
  {
   "cell_type": "markdown",
   "metadata": {
    "slideshow": {
     "slide_type": "subslide"
    }
   },
   "source": [
    "## 10\n",
    "The alias modifies our diagram slightly.  Our symbol table now contains \"m\" rather than \"mylib\":\n",
    "\n",
    "<img src=\"resources/Slide2.jpg\"/>"
   ]
  },
  {
   "cell_type": "markdown",
   "metadata": {
    "slideshow": {
     "slide_type": "slide"
    }
   },
   "source": [
    "## 11\n",
    "An alternative to importing directly is to use the \"from\" construct.  \"from\" will import symbols from a module into our symbol table.\n",
    "<pre>from mylib import *</pre>\n",
    "imports all the symbols from the module into our symbol table.  When using \"from\" it's as if we have defined the functions locally and we do not supply a module name in the calls."
   ]
  },
  {
   "cell_type": "code",
   "execution_count": null,
   "metadata": {
    "slideshow": {
     "slide_type": "slide"
    }
   },
   "outputs": [],
   "source": [
    "import sys\n",
    "sys.path.insert(0, \"resources/libs\")\n",
    "\n",
    "from mylib import *\n",
    "f1()\n",
    "f2()\n",
    "f3()\n",
    "f4()"
   ]
  },
  {
   "cell_type": "markdown",
   "metadata": {},
   "source": [
    "## 12\n",
    "The memory diagram now looks like:\n",
    "\n",
    "<img src=\"resources/Slide3.jpg\"/>"
   ]
  },
  {
   "cell_type": "markdown",
   "metadata": {},
   "source": [
    "## 13\n",
    "Note that using * imports the entire symbol table from \"mylib\" and this is regarded as bad practice because you are importing an unknown set of symbols.  Its much better to be specific:"
   ]
  },
  {
   "cell_type": "code",
   "execution_count": null,
   "metadata": {},
   "outputs": [],
   "source": [
    "import sys\n",
    "sys.path.insert(0, \"libs\")\n",
    "\n",
    "from mylib import f1, f2, f3, f4\n",
    "f1()\n",
    "f2()\n",
    "f3()\n",
    "f4()"
   ]
  },
  {
   "cell_type": "markdown",
   "metadata": {},
   "source": [
    "## 14\n",
    "Sometime there is a name clash between remote and local functions.  In that case the latest definition wins.  So, for example, if we define a local \"f1\" in code below the \"from\" import then the local definition will appear in our symbol table and hence the local \"f1\" will be called:"
   ]
  },
  {
   "cell_type": "code",
   "execution_count": null,
   "metadata": {},
   "outputs": [],
   "source": [
    "import sys\n",
    "sys.path.insert(0, \"resources/libs\")\n",
    "\n",
    "from mylib import f1, f2, f3, f4\n",
    "\n",
    "def f1():\n",
    "    print(\"local f1\")\n",
    "f1()\n",
    "f2()\n",
    "f3()\n",
    "f4()"
   ]
  },
  {
   "cell_type": "markdown",
   "metadata": {},
   "source": [
    "## 15\n",
    "If the \"from\" statement comes after the local definition, it effectively masks the local function and the remote function will be called:"
   ]
  },
  {
   "cell_type": "code",
   "execution_count": null,
   "metadata": {},
   "outputs": [],
   "source": [
    "import sys\n",
    "sys.path.insert(0, \"resources/libs\")\n",
    "\n",
    "def f1():\n",
    "    print(\"local f1\")\n",
    "\n",
    "from mylib import f1, f2, f3, f4\n",
    "f1()\n",
    "f2()\n",
    "f3()\n",
    "f4()"
   ]
  },
  {
   "cell_type": "markdown",
   "metadata": {},
   "source": [
    "## 16\n",
    "Note you can use aliases with \"from\" as we could with the \"import\" statemet.  In the example below the remote \"f1\" function is imported into our local symbol table as \"ff1\" and now both the local and remote \"f1\" calls can be made:"
   ]
  },
  {
   "cell_type": "code",
   "execution_count": null,
   "metadata": {},
   "outputs": [],
   "source": [
    "import sys\n",
    "sys.path.insert(0, \"resources/libs\")\n",
    "\n",
    "def f1():\n",
    "    print(\"local f1\")\n",
    "\n",
    "from mylib import f2, f3, f4\n",
    "from mylib import f1 as ff1\n",
    "f1()\n",
    "ff1()\n",
    "f2()\n",
    "f3()\n",
    "f4()"
   ]
  },
  {
   "cell_type": "markdown",
   "metadata": {},
   "source": [
    "## 17\n",
    "Using function aliases is probably a bad idea - its confusing,  But, class aliases seem to work very well in practice, whether they are used with \"import\" or \"from\".  \n",
    "\n",
    "So which is best, \"import\" or \"from\".  I personally prefer \"import\" because if you encounter a problem in a library method after importing several modules, you can tell immediately which library is causing the problem.  If, on the other hand, you import everthing into your local symbol table you have no idea which library is causing the problem.  Furthermore, the is a possibility that one library will overwrite the symbols of a library you previously imported - no such problems exist when using \"import\"\n",
    "\n",
    "As a final note, you can use both mechanisms at once.  I don't recommend it, but the code will look like:\n"
   ]
  },
  {
   "cell_type": "code",
   "execution_count": null,
   "metadata": {},
   "outputs": [],
   "source": [
    "import sys\n",
    "sys.path.insert(0, \"libs\")\n",
    "\n",
    "import mylib as m\n",
    "\n",
    "def f1():\n",
    "    print(\"local f1\")\n",
    "\n",
    "from mylib import f2, f3, f4\n",
    "from mylib import f1 as ff1\n",
    "f1()\n",
    "ff1()\n",
    "f2()\n",
    "f3()\n",
    "f4()\n",
    "m.f1()\n",
    "m.f2()\n",
    "m.f3()\n",
    "m.f4()"
   ]
  }
 ],
 "metadata": {
  "kernelspec": {
   "display_name": "Python 3 (ipykernel)",
   "language": "python",
   "name": "python3"
  },
  "language_info": {
   "codemirror_mode": {
    "name": "ipython",
    "version": 3
   },
   "file_extension": ".py",
   "mimetype": "text/x-python",
   "name": "python",
   "nbconvert_exporter": "python",
   "pygments_lexer": "ipython3",
   "version": "3.9.12"
  },
  "vscode": {
   "interpreter": {
    "hash": "64bcadabe4cd61f3d117ba0da9d14bf2f8e35582ff79e821f2e71056f2723d1e"
   }
  }
 },
 "nbformat": 4,
 "nbformat_minor": 4
}
