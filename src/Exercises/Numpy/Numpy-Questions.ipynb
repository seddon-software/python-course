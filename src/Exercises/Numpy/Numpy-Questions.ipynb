{
 "cells": [
  {
   "cell_type": "markdown",
   "metadata": {},
   "source": [
    "# Numpy Questions"
   ]
  },
  {
   "cell_type": "markdown",
   "metadata": {},
   "source": [
    "## Q1\n",
    "Create 4x6 array of floats between 3.5 and 5.5.  Display the results to 3 decimal \n",
    "places using `set_printoptions`."
   ]
  },
  {
   "cell_type": "code",
   "execution_count": null,
   "metadata": {},
   "outputs": [],
   "source": []
  },
  {
   "cell_type": "markdown",
   "metadata": {},
   "source": [
    "## Q2\n",
    "Create a 4x6 array of random ints between 10 and 100."
   ]
  },
  {
   "cell_type": "code",
   "execution_count": null,
   "metadata": {},
   "outputs": [],
   "source": []
  },
  {
   "cell_type": "markdown",
   "metadata": {},
   "source": [
    "## Q3\n",
    "Create another 4x6 array of random ints between 10 and 100.  Then set all the even\n",
    "numbers to 100."
   ]
  },
  {
   "cell_type": "code",
   "execution_count": null,
   "metadata": {},
   "outputs": [],
   "source": []
  },
  {
   "cell_type": "markdown",
   "metadata": {},
   "source": [
    "## Q4\n",
    "Create another 4x6 array of random ints between 10 and 100.  Create a new 1D array\n",
    "with all the numbers in the first array that are less than 50."
   ]
  },
  {
   "cell_type": "code",
   "execution_count": null,
   "metadata": {},
   "outputs": [],
   "source": []
  },
  {
   "cell_type": "markdown",
   "metadata": {},
   "source": [
    "## Q5\n",
    "Create a 4x6 array of random integers between 10 and 100.\n",
    "Create a new 4x3 array of the lowest 50% of the original array whilst \n",
    "preserving order."
   ]
  },
  {
   "cell_type": "code",
   "execution_count": null,
   "metadata": {},
   "outputs": [],
   "source": []
  },
  {
   "cell_type": "markdown",
   "metadata": {},
   "source": [
    "## Q6\n",
    "Create a 4x6 array of random integers between 10 and 100.\n",
    "Set the lowest 50% of the array to 0."
   ]
  },
  {
   "cell_type": "code",
   "execution_count": null,
   "metadata": {},
   "outputs": [],
   "source": []
  },
  {
   "cell_type": "markdown",
   "metadata": {},
   "source": [
    "## Q7\n",
    "Create a 6x4 array of ints where the first row is filled\n",
    "with 10, the second with 11, the third with 12 and the last with 13."
   ]
  },
  {
   "cell_type": "code",
   "execution_count": null,
   "metadata": {},
   "outputs": [],
   "source": []
  },
  {
   "cell_type": "markdown",
   "metadata": {},
   "source": [
    "## Q8\n",
    "Create a 8x5 array of ints using the \"tile\" method so that each successive row is rotated left.  The solution should look like:\n",
    "\n",
    "    [[10 11 12 13 10]\n",
    "     [11 12 13 10 11]\n",
    "     [12 13 ... \n",
    "           ... 11 12]\n",
    "     [13 10 11 12 13]]"
   ]
  },
  {
   "cell_type": "code",
   "execution_count": null,
   "metadata": {},
   "outputs": [],
   "source": []
  },
  {
   "cell_type": "markdown",
   "metadata": {},
   "source": [
    "## Q9\n",
    "Create a 4x6 array of ints.  Then create a new array with columns 2 and 4 of the original array swapped."
   ]
  },
  {
   "cell_type": "code",
   "execution_count": null,
   "metadata": {},
   "outputs": [],
   "source": []
  },
  {
   "cell_type": "markdown",
   "metadata": {},
   "source": [
    "## Q10\n",
    "Create a 3x10 array.  Use the `rot90` method to rotate the array by 90 degrees.  Repeat this 4 times, so you get back\n",
    "to the original array, printing the contents of the array on each step."
   ]
  },
  {
   "cell_type": "code",
   "execution_count": null,
   "metadata": {},
   "outputs": [],
   "source": []
  },
  {
   "cell_type": "markdown",
   "metadata": {},
   "source": [
    "## Q11\n",
    "Find the common elements of two 1D arrays below using the `intersect1d` method. \n",
    "<pre>\n",
    "a = np.array([5,6,1,5,0,4,6,10,11,2,3])\n",
    "b = np.array([6,2,10,9,4,9,3,2,1])\n",
    "</pre>"
   ]
  },
  {
   "cell_type": "code",
   "execution_count": null,
   "metadata": {},
   "outputs": [],
   "source": []
  },
  {
   "cell_type": "markdown",
   "metadata": {},
   "source": [
    "## Q12\n",
    "Create two 1D int arrays of equal size.  Then create a new array of the same size, selecting elements from the first array when the element in this array is even, and selecting elements from the second array \n",
    "when the element in the first array is odd.  \n",
    "Use the following arrays as sample data:\n",
    "<pre>\n",
    "a = np.arange(10,50,3)\n",
    "b = np.arange(100,114)\n",
    "</pre>"
   ]
  },
  {
   "cell_type": "code",
   "execution_count": null,
   "metadata": {},
   "outputs": [],
   "source": []
  },
  {
   "cell_type": "markdown",
   "metadata": {},
   "source": [
    "## Q13\n",
    "Create a 4x6 array of random ints between 10 and 100.  Use the Numpy documentation to see what it means to define a masked array and then create a masked array where all values in the original array that are less than 50 are masked out."
   ]
  },
  {
   "cell_type": "code",
   "execution_count": null,
   "metadata": {},
   "outputs": [],
   "source": []
  },
  {
   "cell_type": "markdown",
   "metadata": {},
   "source": [
    "## Q14\n",
    "Create a 4x6 array of random ints between 10 and 100.  \n",
    "Filter this array to produce a new 1D array consisting of only the numbers divisible by 3 in the original array."
   ]
  },
  {
   "cell_type": "code",
   "execution_count": null,
   "metadata": {},
   "outputs": [],
   "source": []
  },
  {
   "cell_type": "markdown",
   "metadata": {},
   "source": [
    "## Q15\n",
    "Create a 4x6 array of random ints between 10 and 100.  Then create a 4x6 array of indices of representing rankings of the first array.\n",
    "\n",
    "For example the 2x3 array\n",
    "<pre>\n",
    "    [[49 56 61]\n",
    "     [63 39 97]]\n",
    "</pre>\n",
    "yields the rankings\n",
    "<pre>\n",
    "    [[4 0 1]\n",
    "     [2 3 5]]\n",
    "</pre>"
   ]
  },
  {
   "cell_type": "code",
   "execution_count": null,
   "metadata": {},
   "outputs": [],
   "source": []
  },
  {
   "cell_type": "markdown",
   "metadata": {},
   "source": [
    "## Q16\n",
    "Create a 1D array of random ints of size (30,) containing only the numbers 10, 11, 12, 13 or 14. Now create 30 'one hot encodings' for the original array.  You can read up about 'one hot encodings' on the web.  \n",
    "\n",
    "For example a set of 'one hot encodings' for:\n",
    "<pre>\n",
    "    [20, 22, 21, 22, 20, 22]\n",
    "</pre>\n",
    "would be:\n",
    "<pre>\n",
    "    [1 0 0]\n",
    "    [0 0 1]\n",
    "    [0 1 0]\n",
    "    [0 0 1]\n",
    "    [1 0 0]\n",
    "    [0 0 1]\n",
    "</pre>"
   ]
  },
  {
   "cell_type": "code",
   "execution_count": null,
   "metadata": {},
   "outputs": [],
   "source": []
  },
  {
   "cell_type": "markdown",
   "metadata": {},
   "source": [
    "## Q17\n",
    "Create two vectors representing points in 3D space.  Now calculate the distance between these points."
   ]
  },
  {
   "cell_type": "code",
   "execution_count": null,
   "metadata": {},
   "outputs": [],
   "source": []
  },
  {
   "cell_type": "markdown",
   "metadata": {},
   "source": [
    "## Q18\n",
    "Write a function that performs a 3D Cartesian to Spherical coordinate transformation on vectors.  Perform a Cartesian to Spherical coordinate transformation on each of\n",
    "the Cartesian unit vectors:\n",
    "<pre>\n",
    "    iHat = [1, 0, 0]\n",
    "    jHat = [0, 1, 0]\n",
    "    kHat = [0, 0, 1]\n",
    "</pre>\n",
    "Note that the transfomation for kHat causes a singularity in Spherical coordinates, so try vectors very near kHat instead:\n",
    "<pre>\n",
    "    kHat_plus  = [+0.0001,0,1])\n",
    "    kHat_minus = [-0.0001,0,1])\n",
    "</pre>"
   ]
  },
  {
   "cell_type": "code",
   "execution_count": null,
   "metadata": {},
   "outputs": [],
   "source": []
  }
 ],
 "metadata": {
  "kernelspec": {
   "display_name": "Python 3 (ipykernel)",
   "language": "python",
   "name": "python3"
  },
  "language_info": {
   "codemirror_mode": {
    "name": "ipython",
    "version": 3
   },
   "file_extension": ".py",
   "mimetype": "text/x-python",
   "name": "python",
   "nbconvert_exporter": "python",
   "pygments_lexer": "ipython3",
   "version": "3.10.15"
  }
 },
 "nbformat": 4,
 "nbformat_minor": 4
}
