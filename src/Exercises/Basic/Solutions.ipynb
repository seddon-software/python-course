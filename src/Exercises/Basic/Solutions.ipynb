{
 "cells": [
  {
   "cell_type": "markdown",
   "metadata": {},
   "source": [
    "## Python Solutions"
   ]
  },
  {
   "cell_type": "markdown",
   "metadata": {},
   "source": [
    "## Q2.1\n",
    "Write a program that inputs a 4 digit year and then calculates whether or not it is a leap year.  Test your code with the following years:\n",
    "* 2021 (not a leap year)\n",
    "* 2024 (is a leap year)\n",
    "* 2100 (not a leap year)\n",
    "* 2000 (is a leap year)"
   ]
  },
  {
   "cell_type": "code",
   "execution_count": 3,
   "metadata": {},
   "outputs": [
    {
     "name": "stdout",
     "output_type": "stream",
     "text": [
      "2021 is NOT a leap year\n",
      "2024 is a leap year\n",
      "2100 is NOT a leap year\n",
      "2000 is a leap year\n"
     ]
    }
   ],
   "source": [
    "def isLeap(year):\n",
    "    if year % 400 == 0:\n",
    "        return True\n",
    "    elif year % 100 == 0:\n",
    "        return False\n",
    "    elif year % 4 == 0:\n",
    "        return True\n",
    "    else:\n",
    "        return False\n",
    "\n",
    "year = 2021\n",
    "if isLeap(year):\n",
    "    print(f\"{year} is a leap year\")\n",
    "else:\n",
    "    print(f\"{year} is NOT a leap year\")\n",
    "\n",
    "year = 2024\n",
    "if isLeap(year):\n",
    "    print(f\"{year} is a leap year\")\n",
    "else:\n",
    "    print(f\"{year} is NOT a leap year\")\n",
    "\n",
    "year = 2100\n",
    "if isLeap(year):\n",
    "    print(f\"{year} is a leap year\")\n",
    "else:\n",
    "    print(f\"{year} is NOT a leap year\")\n",
    "\n",
    "year = 2000\n",
    "if isLeap(year):\n",
    "    print(f\"{year} is a leap year\")\n",
    "else:\n",
    "    print(f\"{year} is NOT a leap year\")\n",
    "\n"
   ]
  },
  {
   "cell_type": "markdown",
   "metadata": {},
   "source": [
    "## Q2.2\n",
    "Using a variation of the above program, calculate the number of days in the inclusive date range '1st January 2000' to '31st December 2999'.  You should find that there are 365243 days in the millenia."
   ]
  },
  {
   "cell_type": "code",
   "execution_count": 6,
   "metadata": {},
   "outputs": [
    {
     "name": "stdout",
     "output_type": "stream",
     "text": [
      "365243\n"
     ]
    }
   ],
   "source": [
    "def daysInYear(year):\n",
    "    days = 365\n",
    "    if year %   4 == 0: days = 366\n",
    "    if year % 100 == 0: days = 365\n",
    "    if year % 400 == 0: days = 366\n",
    "    return days\n",
    "\n",
    "totalDays = 0\n",
    "for year in range(2000, 3000):\n",
    "    totalDays += daysInYear(year)\n",
    "\n",
    "print(totalDays)"
   ]
  },
  {
   "cell_type": "markdown",
   "metadata": {},
   "source": [
    "## Q2.3\n",
    "Write a program that prints out the square, cubes and fourth power of the first 20 integers."
   ]
  },
  {
   "cell_type": "code",
   "execution_count": 8,
   "metadata": {},
   "outputs": [
    {
     "name": "stdout",
     "output_type": "stream",
     "text": [
      "       N    N**2    N**3    N**4\n",
      "       1       1       1       1\n",
      "       2       4       8      16\n",
      "       3       9      27      81\n",
      "       4      16      64     256\n",
      "       5      25     125     625\n",
      "       6      36     216    1296\n",
      "       7      49     343    2401\n",
      "       8      64     512    4096\n",
      "       9      81     729    6561\n",
      "      10     100    1000   10000\n",
      "      11     121    1331   14641\n",
      "      12     144    1728   20736\n",
      "      13     169    2197   28561\n",
      "      14     196    2744   38416\n",
      "      15     225    3375   50625\n",
      "      16     256    4096   65536\n",
      "      17     289    4913   83521\n",
      "      18     324    5832  104976\n",
      "      19     361    6859  130321\n",
      "      20     400    8000  160000\n"
     ]
    }
   ],
   "source": [
    "print(f\"{'N':>8s}{'N**2':>8s}{'N**3':>8s}{'N**4':>8s}\")\n",
    "\n",
    "for i in range(1,21):\n",
    "    print(f\"{i:>8}{i**2:>8}{i**3:>8}{i**4:>8}\")\n",
    "          \n"
   ]
  },
  {
   "cell_type": "markdown",
   "metadata": {},
   "source": [
    "## Q2.4\n",
    "Write a program that prints out the first 20 Fibonacci numbers.  You can use the web to find out the definition \n",
    "of the Fibonacci sequence."
   ]
  },
  {
   "cell_type": "code",
   "execution_count": 11,
   "metadata": {},
   "outputs": [
    {
     "name": "stdout",
     "output_type": "stream",
     "text": [
      "0 1 1 2 3 5 8 13 21 34 55 89 144 233 377 610 987 1597 2584 4181 "
     ]
    }
   ],
   "source": [
    "a, b = 0, 1\n",
    "\n",
    "for n in range(20):\n",
    "    print(f\"{a}\", end=\" \") \n",
    "    a, b = b, a+b"
   ]
  },
  {
   "cell_type": "markdown",
   "metadata": {},
   "source": [
    "## Q2.5\n",
    "Write a program that calculates the ratio of successive pairs of the first 200 Fibonacci numbers.  Does the ratio \n",
    "converge to a number?"
   ]
  },
  {
   "cell_type": "code",
   "execution_count": 14,
   "metadata": {},
   "outputs": [
    {
     "name": "stdout",
     "output_type": "stream",
     "text": [
      "0.0\n",
      "1.0\n",
      "0.5\n",
      "0.6666666666666666\n",
      "0.6\n",
      "0.625\n",
      "0.6153846153846154\n",
      "0.6190476190476191\n",
      "0.6176470588235294\n",
      "0.6181818181818182\n",
      "0.6179775280898876\n",
      "0.6180555555555556\n",
      "0.6180257510729614\n",
      "0.6180371352785146\n",
      "0.6180327868852459\n",
      "0.6180344478216818\n",
      "0.6180338134001252\n",
      "0.6180340557275542\n",
      "0.6180339631667066\n",
      "0.6180339985218034\n",
      "0.618033985017358\n",
      "0.6180339901755971\n",
      "0.6180339882053251\n",
      "0.618033988957902\n",
      "0.6180339886704432\n",
      "0.6180339887802427\n",
      "0.618033988738303\n",
      "0.6180339887543226\n",
      "0.6180339887482036\n",
      "0.6180339887505408\n",
      "0.6180339887496481\n",
      "0.618033988749989\n",
      "0.6180339887498588\n",
      "0.6180339887499086\n",
      "0.6180339887498896\n",
      "0.6180339887498969\n",
      "0.6180339887498941\n",
      "0.6180339887498951\n",
      "0.6180339887498948\n",
      "0.6180339887498949\n",
      "0.6180339887498948\n",
      "0.6180339887498949\n",
      "0.6180339887498948\n",
      "0.6180339887498949\n",
      "0.6180339887498949\n",
      "0.6180339887498949\n",
      "0.6180339887498949\n",
      "0.6180339887498949\n",
      "0.6180339887498949\n",
      "0.6180339887498949\n",
      "0.6180339887498949\n",
      "0.6180339887498949\n",
      "0.6180339887498949\n",
      "0.6180339887498949\n",
      "0.6180339887498949\n",
      "0.6180339887498949\n",
      "0.6180339887498949\n",
      "0.6180339887498949\n",
      "0.6180339887498949\n",
      "0.6180339887498949\n",
      "0.6180339887498949\n",
      "0.6180339887498949\n",
      "0.6180339887498949\n",
      "0.6180339887498949\n",
      "0.6180339887498949\n",
      "0.6180339887498949\n",
      "0.6180339887498949\n",
      "0.6180339887498949\n",
      "0.6180339887498949\n",
      "0.6180339887498949\n",
      "0.6180339887498949\n",
      "0.6180339887498949\n",
      "0.6180339887498949\n",
      "0.6180339887498949\n",
      "0.6180339887498949\n",
      "0.6180339887498949\n",
      "0.6180339887498949\n",
      "0.6180339887498949\n",
      "0.6180339887498949\n",
      "0.6180339887498949\n",
      "0.6180339887498949\n",
      "0.6180339887498949\n",
      "0.6180339887498949\n",
      "0.6180339887498949\n",
      "0.6180339887498949\n",
      "0.6180339887498949\n",
      "0.6180339887498949\n",
      "0.6180339887498949\n",
      "0.6180339887498949\n",
      "0.6180339887498949\n",
      "0.6180339887498949\n",
      "0.6180339887498949\n",
      "0.6180339887498949\n",
      "0.6180339887498949\n",
      "0.6180339887498949\n",
      "0.6180339887498949\n",
      "0.6180339887498949\n",
      "0.6180339887498949\n",
      "0.6180339887498949\n",
      "0.6180339887498949\n",
      "0.6180339887498949\n",
      "0.6180339887498949\n",
      "0.6180339887498949\n",
      "0.6180339887498949\n",
      "0.6180339887498949\n",
      "0.6180339887498949\n",
      "0.6180339887498949\n",
      "0.6180339887498949\n",
      "0.6180339887498949\n",
      "0.6180339887498949\n",
      "0.6180339887498949\n",
      "0.6180339887498949\n",
      "0.6180339887498949\n",
      "0.6180339887498949\n",
      "0.6180339887498949\n",
      "0.6180339887498949\n",
      "0.6180339887498949\n",
      "0.6180339887498949\n",
      "0.6180339887498949\n",
      "0.6180339887498949\n",
      "0.6180339887498949\n",
      "0.6180339887498949\n",
      "0.6180339887498949\n",
      "0.6180339887498949\n",
      "0.6180339887498949\n",
      "0.6180339887498949\n",
      "0.6180339887498949\n",
      "0.6180339887498949\n",
      "0.6180339887498949\n",
      "0.6180339887498949\n",
      "0.6180339887498949\n",
      "0.6180339887498949\n",
      "0.6180339887498949\n",
      "0.6180339887498949\n",
      "0.6180339887498949\n",
      "0.6180339887498949\n",
      "0.6180339887498949\n",
      "0.6180339887498949\n",
      "0.6180339887498949\n",
      "0.6180339887498949\n",
      "0.6180339887498949\n",
      "0.6180339887498949\n",
      "0.6180339887498949\n",
      "0.6180339887498949\n",
      "0.6180339887498949\n",
      "0.6180339887498949\n",
      "0.6180339887498949\n",
      "0.6180339887498949\n",
      "0.6180339887498949\n",
      "0.6180339887498949\n",
      "0.6180339887498949\n",
      "0.6180339887498949\n",
      "0.6180339887498949\n",
      "0.6180339887498949\n",
      "0.6180339887498949\n",
      "0.6180339887498949\n",
      "0.6180339887498949\n",
      "0.6180339887498949\n",
      "0.6180339887498949\n",
      "0.6180339887498949\n",
      "0.6180339887498949\n",
      "0.6180339887498949\n",
      "0.6180339887498949\n",
      "0.6180339887498949\n",
      "0.6180339887498949\n",
      "0.6180339887498949\n",
      "0.6180339887498949\n",
      "0.6180339887498949\n",
      "0.6180339887498949\n",
      "0.6180339887498949\n",
      "0.6180339887498949\n",
      "0.6180339887498949\n",
      "0.6180339887498949\n",
      "0.6180339887498949\n",
      "0.6180339887498949\n",
      "0.6180339887498949\n",
      "0.6180339887498949\n",
      "0.6180339887498949\n",
      "0.6180339887498949\n",
      "0.6180339887498949\n",
      "0.6180339887498949\n",
      "0.6180339887498949\n",
      "0.6180339887498949\n",
      "0.6180339887498949\n",
      "0.6180339887498949\n",
      "0.6180339887498949\n",
      "0.6180339887498949\n",
      "0.6180339887498949\n",
      "0.6180339887498949\n",
      "0.6180339887498949\n",
      "0.6180339887498949\n",
      "0.6180339887498949\n",
      "0.6180339887498949\n",
      "0.6180339887498949\n",
      "0.6180339887498949\n",
      "0.6180339887498949\n",
      "0.6180339887498949\n",
      "0.6180339887498949\n",
      "0.6180339887498949\n",
      "0.6180339887498949\n"
     ]
    }
   ],
   "source": [
    "a, b = 0, 1\n",
    "\n",
    "for n in range(200):\n",
    "    print(a/b) \n",
    "    a, b = b, a+b"
   ]
  },
  {
   "cell_type": "markdown",
   "metadata": {},
   "source": [
    "## Q3.1\n",
    "Write a program that prints out the sum, difference, product and dividend of two complex numbers."
   ]
  },
  {
   "cell_type": "code",
   "execution_count": 18,
   "metadata": {},
   "outputs": [
    {
     "name": "stdout",
     "output_type": "stream",
     "text": [
      "sum =         (9+1j)\n",
      "difference =  (1+5j)\n",
      "product =     (26+2j)\n",
      "dividend =    (0.7+1.1j)\n"
     ]
    }
   ],
   "source": [
    "x = 5 + 3j\n",
    "y = 4 - 2j\n",
    "\n",
    "print( f\"sum =         {x + y}\" )\n",
    "print( f\"difference =  {x - y}\" )\n",
    "print( f\"product =     {x * y}\" )\n",
    "print( f\"dividend =    {x / y}\" )"
   ]
  },
  {
   "cell_type": "markdown",
   "metadata": {},
   "source": [
    "## Q3.3\n",
    "Use the `range` function to generate two separate tuples containing the list of integers from 10 to 19 and from 30 to 39.  Tuples are immutable, so how can you form a new tuple containing all the elements of the other two tuples."
   ]
  },
  {
   "cell_type": "code",
   "execution_count": 20,
   "metadata": {},
   "outputs": [
    {
     "name": "stdout",
     "output_type": "stream",
     "text": [
      "(10, 11, 12, 13, 14, 15, 16, 17, 18, 19, 30, 31, 32, 33, 34, 35, 36, 37, 38, 39)\n"
     ]
    }
   ],
   "source": [
    "tuple1 = tuple(range(10, 20))\n",
    "tuple2 = tuple(range(30, 40))\n",
    "theList = list(tuple1)\n",
    "\n",
    "for i in range(10):\n",
    "    theList.append(tuple2[i])\n",
    "    \n",
    "tuple3 = tuple(theList)\n",
    "print(tuple3)     "
   ]
  },
  {
   "cell_type": "markdown",
   "metadata": {},
   "source": [
    "## Q3.4\n",
    "It is not possible to invert dictionaries in the general case, because unlike the dictionary values, keys must be unique and immutable. However the following dictionary can be\n",
    "inverted:\n",
    "<pre>\n",
    "salaries = {\n",
    " \"John\" : 45000,\n",
    " \"Sheila\" : 48000,\n",
    " \"Vivien\" : 31000,\n",
    " \"Roy\" : 37000,\n",
    " \"Ruth\" : 50000\n",
    " }\n",
    "</pre>\n",
    "So write code to interchange the keys and values of the above."
   ]
  },
  {
   "cell_type": "code",
   "execution_count": null,
   "metadata": {},
   "outputs": [],
   "source": [
    "salaries = {\n",
    "    \"John\" : 45000,\n",
    "    \"Sheila\" : 48000,\n",
    "    \"Vivien\" : 31000,\n",
    "    \"Roy\" : 37000,\n",
    "    \"Ruth\" : 50000\n",
    "}\n",
    "\n",
    "inverted = {}\n",
    "for key, value in salaries.items():\n",
    "    inverted[value] = key\n",
    "\n",
    "print(inverted)"
   ]
  },
  {
   "cell_type": "markdown",
   "metadata": {},
   "source": [
    "## Q4.1\n",
    "Write a function that rotates the values of 3 variables.  \n",
    "For example:\n",
    "<pre>\n",
    "    x = 100\n",
    "    y = 200\n",
    "    z = 300\n",
    "    Rotate( ... )\n",
    "    # x is now 200\n",
    "    # y is now 300\n",
    "    # z is now 100\n",
    "</pre>"
   ]
  },
  {
   "cell_type": "code",
   "execution_count": 22,
   "metadata": {},
   "outputs": [
    {
     "name": "stdout",
     "output_type": "stream",
     "text": [
      "200 300 100\n"
     ]
    }
   ],
   "source": [
    "def Rotate(a, b, c):\n",
    "    return b, c, a\n",
    "\n",
    "x = 100\n",
    "y = 200\n",
    "z = 300\n",
    "\n",
    "x, y, z = Rotate(x, y, z)\n",
    "print(x, y, z)"
   ]
  },
  {
   "cell_type": "markdown",
   "metadata": {},
   "source": [
    "## Q4.2\n",
    "Write a function that rotates the values of an array.  \n",
    "For example:\n",
    "<pre>\n",
    "array = [100, 200, 300, 400, 500]\n",
    "    Rotate( ... )\n",
    "    # array is now: [200, 300, 400, 500, 100]\n",
    "</pre>"
   ]
  },
  {
   "cell_type": "code",
   "execution_count": 24,
   "metadata": {},
   "outputs": [
    {
     "name": "stdout",
     "output_type": "stream",
     "text": [
      "[200, 300, 400, 500, 100]\n"
     ]
    }
   ],
   "source": [
    "def Rotate(a):\n",
    "    start = a[0]\n",
    "    a[:] = a[1:]\n",
    "    a.append(start)\n",
    "\n",
    "array = [100, 200, 300, 400, 500]\n",
    "\n",
    "Rotate(array)\n",
    "print(array)"
   ]
  },
  {
   "cell_type": "markdown",
   "metadata": {},
   "source": [
    "## Q4.3\n",
    "Write a function to calculate Factorials.  \n",
    "Try out  \n",
    "*    factorial(1)  \n",
    "*    factorial(10)  \n",
    "*    factorial(40)  \n",
    "*    factorial(100)  "
   ]
  },
  {
   "cell_type": "code",
   "execution_count": 26,
   "metadata": {},
   "outputs": [
    {
     "name": "stdout",
     "output_type": "stream",
     "text": [
      "1\n",
      "3628800\n",
      "815915283247897734345611269596115894272000000000\n",
      "93326215443944152681699238856266700490715968264381621468592963895217599993229915608941463976156518286253697920827223758251185210916864000000000000000000000000\n"
     ]
    }
   ],
   "source": [
    "def factorial(n):\n",
    "    if n == 1: \n",
    "        return 1\n",
    "    else:\n",
    "        return n * factorial(n -1)\n",
    "\n",
    "print(factorial(1))\n",
    "print(factorial(10))\n",
    "print(factorial(40))\n",
    "print(factorial(100))"
   ]
  },
  {
   "cell_type": "markdown",
   "metadata": {},
   "source": [
    "## Q4.4\n",
    "Write a function that takes a string and capitalises the first character of the string and ensures the remaining characters are converted to lower case.  \n",
    "Use the following test data:\n",
    "<pre>\n",
    "    UpperFirst(\"test1\")\n",
    "    UpperFirst(\"mIxEdCaSe\")\n",
    "    UpperFirst(\"UPPER\")\n",
    "    UpperFirst(\"lower\")\n",
    "    UpperFirst(\"oPPOSITE\")\n",
    "</pre>"
   ]
  },
  {
   "cell_type": "code",
   "execution_count": 28,
   "metadata": {},
   "outputs": [
    {
     "name": "stdout",
     "output_type": "stream",
     "text": [
      "Test1\n",
      "Mixedcase\n",
      "Upper\n",
      "Lower\n",
      "Opposite\n"
     ]
    }
   ],
   "source": [
    "def UpperFirst(s):\n",
    "    return s.capitalize()\n",
    "\n",
    "print( UpperFirst(\"test1\") )\n",
    "print( UpperFirst(\"mIxEdCaSe\") )\n",
    "print( UpperFirst(\"UPPER\") )\n",
    "print( UpperFirst(\"lower\") )\n",
    "print( UpperFirst(\"oPPOSITE\") )"
   ]
  },
  {
   "cell_type": "markdown",
   "metadata": {},
   "source": [
    "## Q4.5\n",
    "Write a function that takes an integer array (list) as a parameter and doubles the value of each element of the array."
   ]
  },
  {
   "cell_type": "code",
   "execution_count": 30,
   "metadata": {},
   "outputs": [
    {
     "name": "stdout",
     "output_type": "stream",
     "text": [
      "[4, 6, 10, 14, 22, 26, 34, 38]\n"
     ]
    }
   ],
   "source": [
    "def DoubleIt(theList):\n",
    "    for i, item in enumerate(theList):\n",
    "        theList[i] *= 2\n",
    "\n",
    "myList = [2, 3, 5, 7, 11, 13, 17, 19]\n",
    "DoubleIt(myList)\n",
    "print(myList)"
   ]
  },
  {
   "cell_type": "markdown",
   "metadata": {},
   "source": [
    "## Q4.6\n",
    "Write a function that takes two int arrays (of the same size) as parameters and adds the arrays together, element by element.  \n",
    "Return the summed array."
   ]
  },
  {
   "cell_type": "code",
   "execution_count": 32,
   "metadata": {},
   "outputs": [
    {
     "name": "stdout",
     "output_type": "stream",
     "text": [
      "[20, 20, 20, 20, 20, 20, 20]\n"
     ]
    }
   ],
   "source": [
    "def AddArrays(array1, array2):\n",
    "    result = []\n",
    "    for i, item in enumerate(array1):\n",
    "        result.append(array1[i] + array2[i])\n",
    "    return result\n",
    "\n",
    "\n",
    "a1 = ( 3,  6,  9, 10, 20, 17, 14)\n",
    "a2 = (17, 14, 11, 10,  0,  3,  6)\n",
    "\n",
    "result = AddArrays(a1, a2)\n",
    "print(result)"
   ]
  },
  {
   "cell_type": "markdown",
   "metadata": {},
   "source": [
    "## Q5.1\n",
    "Write a program that calculates the factorial of an integer in the range 2 to 10.  Add exception handling code to prevent calculating a result where the input number is larger than 10, or any negative integer.  Make sure you can handle the case where the input is not an integer."
   ]
  },
  {
   "cell_type": "code",
   "execution_count": 42,
   "metadata": {},
   "outputs": [
    {
     "name": "stdout",
     "output_type": "stream",
     "text": [
      "Enter an integer for factorial calculation: 6\n",
      "Factorial of 6 = 720\n"
     ]
    }
   ],
   "source": [
    "try:\n",
    "    x = int(input(\"Enter an integer for factorial calculation: \"))\n",
    "    if x > 10: raise Exception(f\"number too large: {x}\")\n",
    "    if x <  2: raise Exception(f\"number too small: {x}\")\n",
    "    result = 1\n",
    "    for i in range(1, x+1):\n",
    "        result = result * i\n",
    "    print(f\"Factorial of {x} = {result}\")\n",
    "except Exception as e:\n",
    "    print(e)"
   ]
  },
  {
   "cell_type": "markdown",
   "metadata": {},
   "source": [
    "## Q6.1\n",
    "Create a class that represents a bank account.  \n",
    "Add methods to allow a customer to `deposit()` and `withdraw()` money and provide a method `getBalance()`.  \n",
    "Write a test program to check out your class."
   ]
  },
  {
   "cell_type": "code",
   "execution_count": 44,
   "metadata": {},
   "outputs": [
    {
     "name": "stdout",
     "output_type": "stream",
     "text": [
      "1000.0\n"
     ]
    }
   ],
   "source": [
    "class BankAccount:\n",
    "    def __init__(self, accountName):\n",
    "        self.accountName = accountName\n",
    "        self.balance = 0.0\n",
    "    \n",
    "    def deposit(self, amount):\n",
    "        self.balance += amount\n",
    "        \n",
    "    def withdraw(self, amount):\n",
    "        self.balance -= amount\n",
    "    \n",
    "    def getBalance(self):\n",
    "        return self.balance\n",
    "\n",
    "johnsAccount = BankAccount(\"johns\")\n",
    "johnsAccount.deposit(350.00)\n",
    "johnsAccount.deposit(250.00)\n",
    "johnsAccount.deposit(500.00)\n",
    "johnsAccount.withdraw(100.00)\n",
    "print(johnsAccount.getBalance())"
   ]
  },
  {
   "cell_type": "markdown",
   "metadata": {},
   "source": [
    "## Q6.2\n",
    "Modify the previous example to add facilities for providing an overdraft.  \n",
    "You will need to define a `setOverdraft()` method."
   ]
  },
  {
   "cell_type": "code",
   "execution_count": 46,
   "metadata": {},
   "outputs": [
    {
     "name": "stdout",
     "output_type": "stream",
     "text": [
      "1000.0\n",
      "account would be overdrawn\n"
     ]
    }
   ],
   "source": [
    "class BankAccount:\n",
    "    def __init__(self, accountName):\n",
    "        self.accountName = accountName\n",
    "        self.balance = 0.0\n",
    "        self.overdraft = 0.0\n",
    "    \n",
    "    def deposit(self, amount):\n",
    "        self.balance += amount\n",
    "        \n",
    "    def withdraw(self, amount):\n",
    "        newBalance = self.balance - amount\n",
    "        if newBalance < self.overdraft: raise Overdrawn()\n",
    "        self.balance -= amount\n",
    "    \n",
    "    def setOverdraft(self, amount):\n",
    "        self.overdraft = amount\n",
    "        \n",
    "    def getBalance(self):\n",
    "        return self.balance\n",
    "\n",
    "class Overdrawn(Exception): pass\n",
    "\n",
    "try:\n",
    "    johnsAccount = BankAccount(\"johns\")\n",
    "    johnsAccount.deposit(350.00)\n",
    "    johnsAccount.deposit(250.00)\n",
    "    johnsAccount.deposit(500.00)\n",
    "    johnsAccount.withdraw(100.00)\n",
    "    print(johnsAccount.getBalance())\n",
    "    johnsAccount.withdraw(2000.00)\n",
    "except Overdrawn:\n",
    "    print(\"account would be overdrawn\")"
   ]
  },
  {
   "cell_type": "markdown",
   "metadata": {},
   "source": [
    "## Q6.3\n",
    "An object starts moving at from position s0 with velocity v0 and gains a constant acceleration of a.  After time t, compute its position and velocity.  \n",
    "Write a class to define the particle and provide the following methods:\n",
    "<pre>\n",
    "    def accelerate(self, a, t):\n",
    "        # dv/dt = a\n",
    "        # ds/dt = v\n",
    "        # v = ∫a.dt = at + s0\n",
    "        # s = ∫v.dt = ∫at.dt = at^2/2 + s0.t + v0\n",
    "    \n",
    "    def getPosition(self):\n",
    "    \n",
    "    def getVelocity(self):\n",
    "</pre>\n",
    "Calculate the positionand velocity of the object at time t=10.  \n",
    "Perform all calculations in 3D space.  Use `numpy` to simplify the calculations."
   ]
  },
  {
   "cell_type": "code",
   "execution_count": 49,
   "metadata": {},
   "outputs": [
    {
     "name": "stdout",
     "output_type": "stream",
     "text": [
      "position = [526.  250.3 307.5]\n",
      "velocity = [52.5 25.  30.8]\n"
     ]
    }
   ],
   "source": [
    "import numpy as np\n",
    "\n",
    "class Particle:\n",
    "    def __init__(self, name, s0, v0):\n",
    "        self.name = name\n",
    "        self.s0 = s0\n",
    "        self.v0 = v0\n",
    "        \n",
    "    def accelerate(self, a, t):\n",
    "        # dv/dt = a\n",
    "        # ds/dt = v\n",
    "        # v = ∫a.dt = at + s0\n",
    "        # s = ∫v.dt = ∫at.dt = at^2/2 + s0.t + v0\n",
    "        self.v = a * t + self.s0\n",
    "        self.s = a * t**2 + self.s0 * t + self.v0\n",
    "    \n",
    "    def getPosition(self):\n",
    "        return self.s\n",
    "    \n",
    "    def getVelocity(self):\n",
    "        return self.v\n",
    "    \n",
    "    \n",
    "p1 = Particle(\"p1\", np.array([0.5, 1.0, -0.2]), np.array([1.0, 0.3, -0.5]))\n",
    "p1.accelerate(a=np.array([5.2, 2.4, 3.1]), t=10)\n",
    "print(f\"position = {p1.getPosition()}\")\n",
    "print(f\"velocity = {p1.getVelocity()}\")"
   ]
  },
  {
   "cell_type": "markdown",
   "metadata": {},
   "source": [
    "## Q6.4\n",
    "A relativistic particle, B travels at 3/4 of the speed of light in the x direction as viewed from an observer in frame of reference A.\n",
    "A second relativistic particle, C  travels at 3/4 of the speed of light in the z direction as viewed from an observer in B's frame of reference.\n",
    "What is speed the of particle C as viewed from the observer in frame A.\n",
    "\n",
    "The relativistic formulae you require can be found at:\n",
    "    http://www.math.ucr.edu/home/baez/physics/Relativity/SR/velocity.html"
   ]
  },
  {
   "cell_type": "code",
   "execution_count": 51,
   "metadata": {},
   "outputs": [
    {
     "name": "stdout",
     "output_type": "stream",
     "text": [
      "speed of light = 299792458.0 m/sec\n",
      "Particle C when viewed in frame A (in c units):\n",
      "Velocity: [0.75  0.    0.496]\n",
      "Speed: 0.899\n",
      "Particle D when viewed in frame A (in c units):\n",
      "Velocity: [0.34  0.642 0.664]\n",
      "Speed: 0.984\n"
     ]
    }
   ],
   "source": [
    "import numpy as np\n",
    "import scipy.constants\n",
    "\n",
    "np.set_printoptions(precision=3)\n",
    "c = scipy.constants.c\n",
    "\n",
    "# physical constants\n",
    "print(f\"speed of light = {c} m/sec\")\n",
    "\n",
    "\n",
    "class Point:\n",
    "    def __init__(self, v, frame):\n",
    "        self.frame = frame\n",
    "        self.velocity = v\n",
    "        \n",
    "    def __add__(self, rhs):\n",
    "        def γ(v):\n",
    "            return 1/np.sqrt(1 - Vx*Vx/c**2)\n",
    "        \n",
    "        Vx, Vy, Vz = self.velocity\n",
    "        Ux, Uy, Uz = rhs.velocity\n",
    "        \n",
    "        Wx = (Ux + Vx) / (1 + Ux*Vx/c**2)\n",
    "        Wy = Uy / ((1 + Ux*Vx/c**2) * γ(Vx))\n",
    "        Wz = Uz / ((1 + Ux*Vx/c**2) * γ(Vx))\n",
    "        return Point(np.array([Wx, Wy, Wz]), \"A\")\n",
    "\n",
    "    def abs(self):\n",
    "        v = self.velocity\n",
    "        return sum(v*v)**0.5\n",
    "\n",
    "    \n",
    "    \n",
    "b_in_A = Point(np.array([c*.75, 0, 0]), \"A\")\n",
    "c_in_B = Point(np.array([0, 0, c*.75]), \"B\")\n",
    "d_in_B = Point(np.array([-c*.55, c*.57, c*.59]), \"B\")\n",
    "\n",
    "c_in_A = b_in_A + c_in_B\n",
    "d_in_A = b_in_A + d_in_B\n",
    "\n",
    "print(f\"Particle C when viewed in frame A (in c units):\")\n",
    "print(f\"Velocity: {c_in_A.velocity/c}\")\n",
    "print(f\"Speed: {c_in_A.abs()/c:.3f}\")\n",
    "\n",
    "print(f\"Particle D when viewed in frame A (in c units):\")\n",
    "print(f\"Velocity: {d_in_A.velocity/c}\")\n",
    "print(f\"Speed: {d_in_A.abs()/c:.3f}\")"
   ]
  },
  {
   "cell_type": "markdown",
   "metadata": {},
   "source": [
    "## Q7.1\n",
    "Write a program that emulates the word count program: `wc`.\n",
    "Use the file \"zen.txt\" as input and print out the number of characters, words and lines in this file."
   ]
  },
  {
   "cell_type": "code",
   "execution_count": 53,
   "metadata": {},
   "outputs": [
    {
     "name": "stdout",
     "output_type": "stream",
     "text": [
      "characters = 823\n",
      "words = 137\n",
      "lines = 19\n"
     ]
    }
   ],
   "source": [
    "import os\n",
    "\n",
    "os.system(\"wc data/zen.txt\")\n",
    "with open(\"data/zen.txt\", \"r\") as f:\n",
    "    text = f.read()\n",
    "    print(f\"characters = {len(text)}\")\n",
    "    print(f\"words = {len(text.split())}\")\n",
    "    print(f\"lines = {len(text.split(chr(10)))-1}\")"
   ]
  },
  {
   "cell_type": "markdown",
   "metadata": {},
   "source": [
    "## Q7.2\n",
    "Write a file copy program."
   ]
  },
  {
   "cell_type": "code",
   "execution_count": 55,
   "metadata": {},
   "outputs": [],
   "source": [
    "inFile = None\n",
    "outFile = None\n",
    "\n",
    "try:\n",
    "    inFile = open(\"data/original.txt\", \"r\")\n",
    "    outFile = open(\"data/copy.txt\", \"w\")\n",
    "\n",
    "    for line in inFile:\n",
    "        outFile.write(line)\n",
    "except IOError as reason:\n",
    "    print(reason)\n",
    "finally:        \n",
    "    if inFile: inFile.close()\n",
    "    if outFile: outFile.close()"
   ]
  },
  {
   "cell_type": "code",
   "execution_count": 56,
   "metadata": {},
   "outputs": [
    {
     "name": "stdout",
     "output_type": "stream",
     "text": [
      "this is line 1\r\n",
      "this is line 2\r\n",
      "this is line 3\r\n",
      "this is line 4\r\n",
      "this is line 5\r\n",
      "this is line 6\r\n",
      "this is line 7\r\n",
      "this is line 8\r\n",
      "this is line 9\r\n",
      "this is line 10\r\n",
      "this is line 11\r\n",
      "this is line 12\r\n",
      "\r\n",
      "this is line 1\n",
      "this is line 2\n",
      "this is line 3\n",
      "this is line 4\n",
      "this is line 5\n",
      "this is line 6\n",
      "this is line 7\n",
      "this is line 8\n",
      "this is line 9\n",
      "this is line 10\n",
      "this is line 11\n",
      "this is line 12\n",
      "\n"
     ]
    }
   ],
   "source": [
    "%%bash\n",
    "cat data/original.txt\n",
    "cat data/copy.txt"
   ]
  },
  {
   "cell_type": "markdown",
   "metadata": {},
   "source": [
    "## Q7.3\n",
    "The file call `data/TestData.txt` contains test data consisting of one number per line.  Your job is to read the entire file into memory and compute the sum of all the numbers."
   ]
  },
  {
   "cell_type": "code",
   "execution_count": 59,
   "metadata": {},
   "outputs": [
    {
     "name": "stdout",
     "output_type": "stream",
     "text": [
      "25\r\n",
      "300\r\n",
      "17\r\n",
      "55\r\n",
      "127\r\n",
      "99\r\n",
      "125\r\n"
     ]
    }
   ],
   "source": [
    "%%bash\n",
    "cat data/TestData.txt"
   ]
  },
  {
   "cell_type": "code",
   "execution_count": 60,
   "metadata": {},
   "outputs": [
    {
     "name": "stdout",
     "output_type": "stream",
     "text": [
      "Total = 748\n"
     ]
    }
   ],
   "source": [
    "inFile = None\n",
    "total = 0\n",
    "\n",
    "try:\n",
    "    inFile = open(\"data/TestData.txt\", \"r\")\n",
    "\n",
    "    for line in inFile:\n",
    "        total += int(line)\n",
    "except IOError as reason:\n",
    "    print(reason)\n",
    "finally:        \n",
    "    if inFile: inFile.close()\n",
    "\n",
    "print(f\"Total = {total}\")"
   ]
  },
  {
   "cell_type": "markdown",
   "metadata": {},
   "source": [
    "## Q7.4\n",
    "Try the previous example with the test file `data/TestData2.txt`; this file contains non integral data.  Use exception handling to filter out lines that don't contain integers."
   ]
  },
  {
   "cell_type": "code",
   "execution_count": 62,
   "metadata": {},
   "outputs": [
    {
     "name": "stdout",
     "output_type": "stream",
     "text": [
      "25\r\n",
      "300\r\n",
      "Invalid line\r\n",
      "17\r\n",
      "55\r\n",
      "Another invalid line\r\n",
      "127\r\n",
      "99\r\n",
      "125\r\n"
     ]
    }
   ],
   "source": [
    "%%bash\n",
    "cat data/TestData2.txt"
   ]
  },
  {
   "cell_type": "code",
   "execution_count": 64,
   "metadata": {},
   "outputs": [
    {
     "name": "stdout",
     "output_type": "stream",
     "text": [
      "invalid literal for int() with base 10: 'Invalid line\\n'\n",
      "invalid literal for int() with base 10: 'Another invalid line\\n'\n",
      "Total = 748\n"
     ]
    }
   ],
   "source": [
    "inFile = None\n",
    "total = 0\n",
    "\n",
    "try:\n",
    "    inFile = open(\"data/TestData2.txt\", \"r\")\n",
    "\n",
    "    for line in inFile:\n",
    "        try:\n",
    "            total += int(line)\n",
    "        except Exception as e:\n",
    "            print(e)\n",
    "except IOError as reason:\n",
    "    print(reason)\n",
    "finally:        \n",
    "    if inFile: inFile.close()\n",
    "\n",
    "print(f\"Total = {total}\")"
   ]
  },
  {
   "cell_type": "markdown",
   "metadata": {},
   "source": [
    "## Q7.5\n",
    "Write a program that concatenates three files:\n",
    "*    data/TestFile1.txt\n",
    "*    data/TestFile2.txt\n",
    "*    data/TestFile3.txt  \n",
    "\n",
    "into a new file called:\n",
    "*    data/TestFile.txt"
   ]
  },
  {
   "cell_type": "code",
   "execution_count": 66,
   "metadata": {},
   "outputs": [
    {
     "name": "stdout",
     "output_type": "stream",
     "text": [
      "this is line 1 of File 1\r\n",
      "this is line 2 of File 1\r\n",
      "this is line 3 of File 1\r\n",
      "this is line 4 of File 1\r\n",
      "this is line 5 of File 1\r\n",
      "\r\n",
      "this is line 1 of File 2\r\n",
      "this is line 2 of File 2\r\n",
      "this is line 3 of File 2\r\n",
      "this is line 4 of File 2\r\n",
      "this is line 5 of File 2\r\n",
      "\r\n",
      "this is line 1 of File 3\r\n",
      "this is line 2 of File 3\r\n",
      "this is line 3 of File 3\r\n",
      "this is line 4 of File 3\r\n",
      "this is line 5 of File 3\r\n",
      "\r\n"
     ]
    }
   ],
   "source": [
    "%%bash\n",
    "cat data/TestFile1.txt\n",
    "cat data/TestFile2.txt\n",
    "cat data/TestFile3.txt"
   ]
  },
  {
   "cell_type": "code",
   "execution_count": 67,
   "metadata": {},
   "outputs": [],
   "source": [
    "inFile1 = inFile2 = inFile3 = outFile = None\n",
    "\n",
    "try:\n",
    "    inFile1 = open(\"data/TestFile1.txt\", \"r\")\n",
    "    inFile2 = open(\"data/TestFile2.txt\", \"r\")\n",
    "    inFile3 = open(\"data/TestFile3.txt\", \"r\")\n",
    "    outFile = open(\"data/TestFile.txt\", \"w\")\n",
    "\n",
    "    for file in (inFile1, inFile2, inFile3):\n",
    "        for line in file:\n",
    "            outFile.write(line)\n",
    "except IOError as reason:\n",
    "    print(reason)\n",
    "finally:        \n",
    "    if inFile1: inFile1.close()\n",
    "    if inFile2: inFile2.close()\n",
    "    if inFile3: inFile3.close()\n",
    "    if outFile: outFile.close()"
   ]
  },
  {
   "cell_type": "code",
   "execution_count": 68,
   "metadata": {},
   "outputs": [
    {
     "name": "stdout",
     "output_type": "stream",
     "text": [
      "this is line 1 of File 1\n",
      "this is line 2 of File 1\n",
      "this is line 3 of File 1\n",
      "this is line 4 of File 1\n",
      "this is line 5 of File 1\n",
      "\n",
      "this is line 1 of File 2\n",
      "this is line 2 of File 2\n",
      "this is line 3 of File 2\n",
      "this is line 4 of File 2\n",
      "this is line 5 of File 2\n",
      "\n",
      "this is line 1 of File 3\n",
      "this is line 2 of File 3\n",
      "this is line 3 of File 3\n",
      "this is line 4 of File 3\n",
      "this is line 5 of File 3\n",
      "\n"
     ]
    }
   ],
   "source": [
    "%%bash\n",
    "cat data/TestFile.txt"
   ]
  },
  {
   "cell_type": "markdown",
   "metadata": {},
   "source": [
    "## Q7.6\n",
    "Write a program that reads a file, reverses the order of lines in the file and then saves the changes in a new file. \n",
    "Use `data/TestFile1.txt` as you test file."
   ]
  },
  {
   "cell_type": "code",
   "execution_count": 17,
   "metadata": {},
   "outputs": [],
   "source": [
    "inFile = None\n",
    "\n",
    "try:\n",
    "    inFile = open(\"data/TestFile1.txt\", \"r\")\n",
    "    outFile = open(\"data/OutFile.txt\", \"w\")\n",
    "\n",
    "    lines = []\n",
    "    for line in inFile:\n",
    "        lines.append(line)\n",
    "    lines.reverse()\n",
    "    for line in lines:\n",
    "        outFile.write(line)\n",
    "except IOError as reason:\n",
    "    print(reason)\n",
    "finally:        \n",
    "    if inFile: inFile.close()\n",
    "    if outFile: outFile.close()"
   ]
  },
  {
   "cell_type": "code",
   "execution_count": 18,
   "metadata": {},
   "outputs": [
    {
     "name": "stdout",
     "output_type": "stream",
     "text": [
      "\n",
      "this is line 5 of File 1\n",
      "this is line 4 of File 1\n",
      "this is line 3 of File 1\n",
      "this is line 2 of File 1\n",
      "this is line 1 of File 1\n"
     ]
    }
   ],
   "source": [
    "%%bash\n",
    "cat data/OutFile.txt"
   ]
  },
  {
   "cell_type": "markdown",
   "metadata": {},
   "source": [
    "## Q7.7\n",
    "Write a program that emulates the `grep` command with a pattern such as:\n",
    "<pre>\n",
    "    grep [Nn]ow data/zen.txt\n",
    "</pre>"
   ]
  },
  {
   "cell_type": "code",
   "execution_count": 72,
   "metadata": {},
   "outputs": [
    {
     "name": "stdout",
     "output_type": "stream",
     "text": [
      "Now is better than never.\n",
      "Although never is often better than *right* now.\n"
     ]
    }
   ],
   "source": [
    "%%bash\n",
    "grep [Nn]ow data/zen.txt"
   ]
  },
  {
   "cell_type": "code",
   "execution_count": 73,
   "metadata": {},
   "outputs": [
    {
     "name": "stdout",
     "output_type": "stream",
     "text": [
      "Now is better than never.\n",
      "Although never is often better than *right* now.\n"
     ]
    }
   ],
   "source": [
    "from fnmatch import fnmatch\n",
    "\n",
    "f = open(\"data/zen.txt\")\n",
    "lines = f.readlines()\n",
    "\n",
    "for earth in lines:\n",
    "    if fnmatch(earth, \"*[Nn]ow*\"):\n",
    "        print(earth, end=\"\") "
   ]
  },
  {
   "cell_type": "markdown",
   "metadata": {},
   "source": [
    "## Q25\n",
    "How do you find the intersection of 2 lists (i.e. those elements common to both lists)?  \n",
    "Use the following lists as test data:  \n",
    "<pre>\n",
    "list1 = [ 1, 3, 5, 7, 5, 4, 3, 2, 1 ]\n",
    "list2 = [ 2, 4, 6, 8, 6, 4, 3, 2, 1 ]\n",
    "</pre>"
   ]
  },
  {
   "cell_type": "code",
   "execution_count": 76,
   "metadata": {},
   "outputs": [
    {
     "name": "stdout",
     "output_type": "stream",
     "text": [
      "[1, 2, 3, 4]\n"
     ]
    }
   ],
   "source": [
    "list1 = [ 1, 3, 5, 7, 5, 4, 3, 2, 1 ]\n",
    "list2 = [ 2, 4, 6, 8, 6, 4, 3, 2, 1 ]\n",
    "\n",
    "set1 = set(list1)\n",
    "set2 = set(list2)\n",
    "common = set1.intersection(set2)\n",
    "newList = list(common)\n",
    "print(newList)"
   ]
  },
  {
   "cell_type": "markdown",
   "metadata": {},
   "source": [
    "## Q26\n",
    "Write a function that checks if a list is a palindrome.  \n",
    "Use the following test data:  \n",
    "<pre>\n",
    "listA = [ 5, 7, 3, 22, 15, 6, 15, 22, 3, 7, 5 ]         # is palindrome\n",
    "listB = [ 5, 7, 3, 22, 15, 6, 6, 15, 22, 3, 7, 5 ]      # is palindrome\n",
    "listC = [ 5, 7, 3, 22, 15, 6, 7, 15, 22, 3, 7, 5 ]      # is NOT palindrome\n",
    "listD = [ 5, 7, 3, 'A', 15, 'Z', 15, 'G', 3, 7, 5 ]     # is NOT palindrome\n",
    "listE = [ 5, 'A', 3, 'G', 15, 6, 15, 'G', 3, 'A', 5 ]   # is palindrome\n",
    "</pre>"
   ]
  },
  {
   "cell_type": "code",
   "execution_count": 80,
   "metadata": {},
   "outputs": [
    {
     "name": "stdout",
     "output_type": "stream",
     "text": [
      "True\n",
      "True\n",
      "False\n",
      "False\n",
      "True\n"
     ]
    }
   ],
   "source": [
    "def isPalindrome(aList):\n",
    "      return aList == aList[::-1]\n",
    "  \n",
    "listA = [ 5, 7, 3, 22, 15, 6, 15, 22, 3, 7, 5 ]         # is palindrome\n",
    "listB = [ 5, 7, 3, 22, 15, 6, 6, 15, 22, 3, 7, 5 ]      # is palindrome\n",
    "listC = [ 5, 7, 3, 22, 15, 6, 7, 15, 22, 3, 7, 5 ]      # is NOT palindrome\n",
    "listD = [ 5, 7, 3, 'A', 15, 'Z', 15, 'G', 3, 7, 5 ]     # is NOT palindrome\n",
    "listE = [ 5, 'A', 3, 'G', 15, 6, 15, 'G', 3, 'A', 5 ]   # is palindrome\n",
    "\n",
    "print( isPalindrome(listA) )\n",
    "print( isPalindrome(listB) )\n",
    "print( isPalindrome(listC) )\n",
    "print( isPalindrome(listD) )\n",
    "print( isPalindrome(listE) )"
   ]
  },
  {
   "cell_type": "markdown",
   "metadata": {},
   "source": [
    "## Q27\n",
    "Write a function that flattens a multi-dimensional list into a 1D list.  \n",
    "Use the following test data:  \n",
    "<pre>\n",
    "listA = [[1, 2, 3], [4, 5, 6], 7]\n",
    "listB = [[1, [2, 3], [4, 5, [6, [7]]]]]\n",
    "</pre>"
   ]
  },
  {
   "cell_type": "code",
   "execution_count": 82,
   "metadata": {},
   "outputs": [
    {
     "name": "stdout",
     "output_type": "stream",
     "text": [
      "[1, 2, 3, 4, 5, 6, 7]\n",
      "[1, 2, 3, 4, 5, 6, 7]\n"
     ]
    }
   ],
   "source": [
    "def flatten(aList):\n",
    "    flatList = []      \n",
    "    for item in aList:\n",
    "        if (type(item)==list):\n",
    "            flatList.extend(flatten(item))\n",
    "        else:\n",
    "            flatList.append(item)          \n",
    "    return flatList\n",
    "  \n",
    "listA = [[1, 2, 3], [4, 5, 6], 7]\n",
    "listB = [[1, [2, 3], [4, 5, [6, [7]]]]]\n",
    "\n",
    "print( flatten(listA) )\n",
    "print( flatten(listB) )"
   ]
  },
  {
   "cell_type": "markdown",
   "metadata": {},
   "source": [
    "## Q28\n",
    "Write a function that compresses a 1D list by removing adjacent duplicates.  \n",
    "Use the following test data:  \n",
    "<pre>\n",
    "[4,7,5,5,5,3,4,4,4,2,2]\n",
    "</pre>"
   ]
  },
  {
   "cell_type": "code",
   "execution_count": 85,
   "metadata": {},
   "outputs": [
    {
     "name": "stdout",
     "output_type": "stream",
     "text": [
      "[4, 7, 5, 3, 4, 2]\n"
     ]
    }
   ],
   "source": [
    "def compress(aList):\n",
    "      return [item for i, item in enumerate(aList) if i==0 or item != aList[i-1]]\n",
    "  \n",
    "print( compress([4,7,5,5,5,3,4,4,4,2,2]) )"
   ]
  },
  {
   "cell_type": "markdown",
   "metadata": {},
   "source": [
    "Study the data in the file:\n",
    "* data/customer.txt\n",
    "Read the data from the file and set up a dictionary such that:  \n",
    "* the key is formed from the FIRSTNAME, INIT, LASTNAME fields and \n",
    "* the values from the remaining fields.  \n",
    "Note that some keys do not have an initial.  \n",
    "Once the hash is complete perform a search for two different entries:  \n",
    "* 'WILLIAM T JONES\n",
    "* 'DAVID BROWN'"
   ]
  },
  {
   "cell_type": "code",
   "execution_count": 88,
   "metadata": {},
   "outputs": [
    {
     "name": "stdout",
     "output_type": "stream",
     "text": [
      "# EMPNO     FIRSTNAME   INIT LASTNAME  DEPT PHONE   HIREDATE    JOB     SEX  BIRTHDATE   SALARY  BONUS  COMM\r\n",
      "000010      CHRISTINE   I   HAAS;       A00 3978    1965-01-01  PRES     F   1933-08-24  52750   1000   4220\r\n",
      "000020      MICHAEL     L   THOMPSON;   B01 3476    1973-10-10  MANAGER  M   1948-02-02  41250   800    3300\r\n",
      "000030      SALLY       A   KWAN;       C01 4738    1975-04-05  MANAGER  F   1941-05-11  38250   800    3060\r\n",
      "000050      JOHN        B   GEYER;      E01 6789    1949-08-17  MANAGER  M   1925-09-15  40175   800    3214\r\n",
      "000060      IRVING      F   STERN;      D11 6423    1973-09-14  MANAGER  M   1945-07-07  32250   500    2580\r\n",
      "000070      EVA         D   PULASKI;    D21 7831    1980-09-30  MANAGER  F   1953-05-26  36170   700    2893\r\n",
      "000090      EILEEN      W   HENDERSON;  E11 5498    1970-08-15  MANAGER  F   1941-05-15  29750   600    2380\r\n",
      "000100      THEODORE    Q   SPENSER;    E21 0972    1980-06-19  MANAGER  M   1956-12-18  26150   500    2092\r\n",
      "000110      VINCENZO    G   LUCCHESSI;  A00 3490    1958-05-16  SALESREP M   1929-11-05  46500   900    3720\r\n",
      "000120      SEAN            O'CONNELL;  A00 2167    1963-12-05  CLERK    M   1942-10-18  29250   600    2340\r\n",
      "000130      DOLORES     M   QUINTANA;   C01 4578    1971-07-28  ANALYST  F   1925-09-15  23800   500    1904\r\n",
      "000140      HEATHER     A   NICHOLLS;   C01 1793    1976-12-15  ANALYST  F   1946-01-19  28420   600    2274\r\n",
      "000150      BRUCE           ADAMSON;    D11 4510    1972-02-12  DESIGNER M   1947-05-17  25280   500    2022\r\n",
      "000160      ELIZABETH   R   PIANKA;     D11 3782    1977-10-11  DESIGNER F   1955-04-12  22250   400    1780\r\n",
      "000170      MASATOSHI   J   YOSHIMURA;  D11 2890    1978-09-15  DESIGNER M   1951-01-05  24680   500    1974\r\n",
      "000180      MARILYN     S   SCOUTTEN;   D11 1682    1973-07-07  DESIGNER F   1949-02-21  21340   500    1707\r\n",
      "000190      JAMES       H   WALKER;     D11 2986    1974-07-26  DESIGNER M   1952-06-25  20450   400    1636\r\n",
      "000200      DAVID           BROWN;      D11 4501    1966-03-03  DESIGNER M   1941-05-29  27740   600    2217\r\n",
      "000210      WILLIAM     T   JONES;      D11 0942    1979-04-11  DESIGNER M   1953-02-23  18270   400    1462\r\n",
      "000220      JENNIFER    K   LUTZ;       D11 0672    1968-08-29  DESIGNER F   1948-03-19  29840   600    2387\r\n",
      "000230      JAMES       J   JEFFERSON;  D21 2094    1966-11-21  CLERK    M   1935-05-30  22180   400    1774\r\n",
      "000240      SALVATORE   M   MARINO;     D21 3780    1979-12-05  CLERK    M   1954-03-31  28760   600    2301\r\n",
      "000250      DANIEL      S   SMITH;      D21 0961    1969-10-30  CLERK    M   1939-11-12  19180   400    1534\r\n",
      "000260      SYBIL       P   JOHNSON;    D21 8953    1975-09-11  CLERK    F   1936-10-05  17250   300    1380\r\n",
      "000270      MARIA       L   PEREZ;      D21 9001    1980-09-30  CLERK    F   1953-05-26  27380   500    2190\r\n",
      "000280      ETHEL       R   SCHNEIDER;  E11 8997    1967-03-24  OPERATOR F   1936-03-28  26250   500    2100\r\n",
      "000290      JOHN        R   PARKER;     E11 4502    1980-05-30  OPERATOR M   1946-07-09  15340   300    1227\r\n",
      "000300      PHILIP      X   SMITH;      E11 2095    1972-06-19  OPERATOR M   1936-10-27  17750   400    1420\r\n",
      "000310      MAUDE       F   SETRIGHT;   E11 3332    1964-09-12  OPERATOR F   1931-04-21  15900   300    1272\r\n",
      "000320      RAMLAL      V   MEHTA;      E21 9990    1965-07-07  FIELDREP M   1932-08-11  19950   400    1596\r\n",
      "000330      WING            LEE;        E21 2103    1976-02-23  FIELDREP M   1941-07-18  25370   500    2030\r\n",
      "000340      JASON       R   GOUNOT;     E21 5698    1947-05-05  FIELDREP M   1926-05-17  23840   500    1907\r\n",
      "\r\n",
      "\r\n"
     ]
    }
   ],
   "source": [
    "%%bash\n",
    "cat data/customer.txt"
   ]
  },
  {
   "cell_type": "code",
   "execution_count": 89,
   "metadata": {},
   "outputs": [
    {
     "name": "stdout",
     "output_type": "stream",
     "text": [
      "key cols: {keyCols}\n",
      "value cols: {valueCols}\n",
      "('WILLIAM', 'T', 'JONES') ['000210', 'D11', '0942', '1979-04-11', 'DESIGNER', 'M', '1953-02-23', '18270', '400', '1462']\n",
      "('DAVID', '', 'BROWN') ['000200', 'D11', '4501', '1966-03-03', 'DESIGNER', 'M', '1941-05-29', '27740', '600', '2217']\n"
     ]
    }
   ],
   "source": [
    "import re\n",
    "\n",
    "filename = \"data/customer.txt\"\n",
    "f = open(filename, \"r\")\n",
    "\n",
    "data = f.readlines()\n",
    "customer = dict();\n",
    "\n",
    "keyCols = ('firstName', 'initial', 'lastName')    \n",
    "valueCols = ('empNo', 'dept', 'phone', 'hiredate', 'job', 'sex', 'birthDate', 'salary', 'bonus', 'commission')\n",
    "print(\"key cols: {keyCols}\")\n",
    "print(\"value cols: {valueCols}\")\n",
    "\n",
    "for line in data:\n",
    "    fields = line.split(\";\", 2)\n",
    "\n",
    "    # ignore blank lines and those without a semicolon\n",
    "    if len(fields)!= 2: continue\n",
    "    \n",
    "    # fields[0] contains EmpNo and the Key\n",
    "    # fields[1] contain the other fields, but starts with whitespace\n",
    "    pattern = re.compile(r\"[\\s]+\")    \n",
    "    part1 = pattern.split(fields[0])\n",
    "    part2 = pattern.split(fields[1].strip())\n",
    "    \n",
    "    # part1 will have 3 or 4 items depending on whether or not there is a middle initial \n",
    "    if len(part1) == 3:\n",
    "        empNo, firstName, lastName = part1\n",
    "        initial = \"\"\n",
    "    else:\n",
    "        empNo, firstName, initial, lastName = part1\n",
    "\n",
    "    # now pack the fields into the hash = {key, value}\n",
    "    key = (firstName, initial, lastName)\n",
    "    value = [empNo]\n",
    "    value.extend(part2)\n",
    "    customer[key] = value\n",
    "\n",
    "# search for two different entries\n",
    "key = ('WILLIAM', 'T', 'JONES')\n",
    "print(key, customer[key])\n",
    "\n",
    "key = ('DAVID', '', 'BROWN')\n",
    "print(key, customer[key])"
   ]
  }
 ],
 "metadata": {
  "kernelspec": {
   "display_name": "Python 3.9.12 ('base')",
   "language": "python",
   "name": "python3"
  },
  "language_info": {
   "codemirror_mode": {
    "name": "ipython",
    "version": 3
   },
   "file_extension": ".py",
   "mimetype": "text/x-python",
   "name": "python",
   "nbconvert_exporter": "python",
   "pygments_lexer": "ipython3",
   "version": "3.9.12"
  },
  "vscode": {
   "interpreter": {
    "hash": "40d3a090f54c6569ab1632332b64b2c03c39dcf918b08424e98f38b5ae0af88f"
   }
  }
 },
 "nbformat": 4,
 "nbformat_minor": 2
}
