{
 "cells": [
  {
   "cell_type": "markdown",
   "metadata": {},
   "source": [
    "# Solving Differential Equations\n",
    "\n",
    "Attempt to solve the differential equation:\n",
    "$$dy/dx + 5y = 12$$\n",
    "for y    \n",
    "\n",
    "Analytical solution procedes as follows:\n",
    "$$dy/dx + 5y = 12$$\n",
    "$$dy/y = -5dx$$\n",
    "$$ln(y) = -5x + C$$\n",
    "$$y = exp(-5x + C)$$\n",
    "$$y = C_1*exp(-5x)$$"
   ]
  },
  {
   "cell_type": "markdown",
   "metadata": {},
   "source": [
    "We can display differential equations as in:"
   ]
  },
  {
   "cell_type": "code",
   "execution_count": null,
   "metadata": {},
   "outputs": [],
   "source": [
    "import sympy\n",
    "from sympy import Symbol, dsolve, Function, Derivative, Eq\n",
    "sympy.init_printing()\n",
    "\n",
    "x , y , z = sympy.symbols('x, y, z')\n",
    "\n",
    "y = Function(\"y\")\n",
    "x = Symbol(\"x\")\n",
    "d = Derivative(y(x), x)\n",
    "Eq(d + 5*y(x), 0)"
   ]
  },
  {
   "cell_type": "markdown",
   "metadata": {},
   "source": [
    "To solve a differentional equation, we use `dsolve`.  Note that 𝐶<sub>1</sub> is the constant of integration."
   ]
  },
  {
   "cell_type": "code",
   "execution_count": null,
   "metadata": {},
   "outputs": [],
   "source": [
    "# the solution ...\n",
    "dsolve(d + 5*y(x), y(x))"
   ]
  },
  {
   "cell_type": "markdown",
   "metadata": {},
   "source": [
    "You can combine all the above examples with:"
   ]
  },
  {
   "cell_type": "code",
   "execution_count": null,
   "metadata": {},
   "outputs": [],
   "source": [
    "# more verbose syntax\n",
    "import sympy\n",
    "from sympy import Symbol , dsolve , Function , Derivative , Eq\n",
    "sympy.init_printing()\n",
    "\n",
    "y = Function(\"y\")\n",
    "x = Symbol(\"x\")\n",
    "dsolve( Eq(Derivative(y(x), x) + 5*y(x), 0), y(x))"
   ]
  },
  {
   "cell_type": "markdown",
   "metadata": {},
   "source": [
    "Now solve the example shown in the introduction:\n",
    "$$dy/dx + 5y = 12$$\n",
    "\n",
    "Note that we substitute C<sub>1</sub>=2 for the constant of integration and set x=5."
   ]
  },
  {
   "cell_type": "code",
   "execution_count": null,
   "metadata": {},
   "outputs": [],
   "source": [
    "# constant = 2, x = 5\n",
    "C1 = Symbol(\"C1\")\n",
    "dsolve( Eq(d + 5*y(x), 12), y(x)).subs({C1:2, x:5})"
   ]
  },
  {
   "cell_type": "markdown",
   "metadata": {},
   "source": [
    "For a numerical answer use `evalf`."
   ]
  },
  {
   "cell_type": "code",
   "execution_count": null,
   "metadata": {},
   "outputs": [],
   "source": [
    "# to 20 significant figures ...\n",
    "dsolve( Eq(d + 5*y(x), 12), y(x)).subs({C1:2, x:5}).evalf(20)"
   ]
  },
  {
   "cell_type": "markdown",
   "metadata": {},
   "source": [
    "Note the theoretical answer is dominated by 12/5 = 2.4.  The first term is very small:"
   ]
  },
  {
   "cell_type": "code",
   "execution_count": null,
   "metadata": {},
   "outputs": [],
   "source": [
    "from sympy import exp\n",
    "2/exp(25).evalf()"
   ]
  }
 ],
 "metadata": {
  "anaconda-cloud": {},
  "kernelspec": {
   "display_name": "Python 3 (ipykernel)",
   "language": "python",
   "name": "python3"
  },
  "language_info": {
   "codemirror_mode": {
    "name": "ipython",
    "version": 3
   },
   "file_extension": ".py",
   "mimetype": "text/x-python",
   "name": "python",
   "nbconvert_exporter": "python",
   "pygments_lexer": "ipython3",
   "version": "3.9.7"
  }
 },
 "nbformat": 4,
 "nbformat_minor": 1
}
