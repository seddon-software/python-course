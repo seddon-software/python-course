{
 "cells": [
  {
   "cell_type": "markdown",
   "metadata": {},
   "source": [
    "# Differentiation"
   ]
  },
  {
   "cell_type": "markdown",
   "metadata": {},
   "source": [
    "You can use `diff` to perform differentiation.  The `Derivative` function is used to pretty print the differentiation.  \n",
    "Note that we are using `Eq` to pretty print an equals sign in the output."
   ]
  },
  {
   "cell_type": "code",
   "execution_count": null,
   "metadata": {},
   "outputs": [],
   "source": [
    "# various differentials\n",
    "\n",
    "from sympy import Derivative, Eq, symbols, exp, sin, sqrt, diff\n",
    "import sympy\n",
    "sympy.init_printing()\n",
    "x, y = symbols('x, y')\n",
    "Eq( Derivative( sin(x), x ), diff( sin(x), x ) )"
   ]
  },
  {
   "cell_type": "markdown",
   "metadata": {},
   "source": [
    "Partial differention of a polynomial, again with the printed tuple: "
   ]
  },
  {
   "cell_type": "code",
   "execution_count": null,
   "metadata": {},
   "outputs": [],
   "source": [
    "expression = 10 + 3*x + 4*y + 10*x**2 + x**9\n",
    "Eq( Derivative(expression, x), diff(expression, x) )"
   ]
  },
  {
   "cell_type": "markdown",
   "metadata": {},
   "source": [
    "Same as before, but substituting a value of x in the result: "
   ]
  },
  {
   "cell_type": "code",
   "execution_count": null,
   "metadata": {},
   "outputs": [],
   "source": [
    "# evaluate when x = 1.5\n",
    "Eq( Derivative(expression, x), diff(expression, x).subs(x, 1.5) )"
   ]
  },
  {
   "cell_type": "markdown",
   "metadata": {},
   "source": [
    "Working with exponentials:"
   ]
  },
  {
   "cell_type": "code",
   "execution_count": null,
   "metadata": {},
   "outputs": [],
   "source": [
    "Eq( Derivative(exp(-x**2/2), x), diff(exp(-x**2/2), x) )"
   ]
  },
  {
   "cell_type": "markdown",
   "metadata": {},
   "source": [
    "Sympy allows for multiple differentials:\n",
    "- diff(3*x**4, x, x, x)"
   ]
  },
  {
   "cell_type": "code",
   "execution_count": null,
   "metadata": {},
   "outputs": [],
   "source": [
    "# now for triple differentials\n",
    "Eq( Derivative(3*x**4, x, x, x), diff(3*x**4, x, x, x) )"
   ]
  },
  {
   "cell_type": "markdown",
   "metadata": {},
   "source": [
    "The triple differentiaton can also be written as:  \n",
    "- diff(3*x**4, x, 3)"
   ]
  },
  {
   "cell_type": "code",
   "execution_count": null,
   "metadata": {},
   "outputs": [],
   "source": [
    "# alternative notation for the above\n",
    "Eq( Derivative(3*x**4, x, 3), diff(3*x**4, x, 3) )"
   ]
  }
 ],
 "metadata": {
  "anaconda-cloud": {},
  "kernelspec": {
   "display_name": "Python 3 (ipykernel)",
   "language": "python",
   "name": "python3"
  },
  "language_info": {
   "codemirror_mode": {
    "name": "ipython",
    "version": 3
   },
   "file_extension": ".py",
   "mimetype": "text/x-python",
   "name": "python",
   "nbconvert_exporter": "python",
   "pygments_lexer": "ipython3",
   "version": "3.9.12"
  }
 },
 "nbformat": 4,
 "nbformat_minor": 4
}
