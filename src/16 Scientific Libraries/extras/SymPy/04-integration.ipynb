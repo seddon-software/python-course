{
 "cells": [
  {
   "cell_type": "markdown",
   "metadata": {},
   "source": [
    "# Integration"
   ]
  },
  {
   "cell_type": "markdown",
   "metadata": {},
   "source": [
    "You can perform integration with the `integrate` function.  `Integral` and `Eq` are used for pretty printing."
   ]
  },
  {
   "cell_type": "code",
   "execution_count": null,
   "metadata": {},
   "outputs": [],
   "source": [
    "import sympy\n",
    "from sympy import Integral, Eq, integrate, sin, exp\n",
    "sympy.init_printing()\n",
    "\n",
    "x, y, sigma = sympy.symbols('x, y, sigma')\n",
    "Eq( Integral(x**2, x), integrate(x**2, x) )"
   ]
  },
  {
   "cell_type": "markdown",
   "metadata": {},
   "source": [
    "When we integrate a mult-variable function we specify the variable being integrated as the second parameter `y`.  The other variable, `x` is treated as a constant."
   ]
  },
  {
   "cell_type": "code",
   "execution_count": null,
   "metadata": {},
   "outputs": [],
   "source": [
    "Eq(Integral(x**2, y), integrate(x**2, y))"
   ]
  },
  {
   "cell_type": "markdown",
   "metadata": {},
   "source": [
    "This time we perform two separate integrations, one with respect to `x` and one with respect to `y`.  Since we can only print one result, we can place the calculations and results in an implied tuple (using a comma), to see both results."
   ]
  },
  {
   "cell_type": "code",
   "execution_count": null,
   "metadata": {},
   "outputs": [],
   "source": [
    "ix = (sin(x), x)\n",
    "iy = (sin(x), y)\n",
    "Eq( Integral(*ix), integrate(*ix)), Eq(Integral(*iy), integrate(*iy) )"
   ]
  },
  {
   "cell_type": "markdown",
   "metadata": {},
   "source": [
    "Now for exponential functions:"
   ]
  },
  {
   "cell_type": "code",
   "execution_count": null,
   "metadata": {},
   "outputs": [],
   "source": [
    "e = (-x * exp(-x**2/2), x)\n",
    "Eq(Integral(*e), integrate(*e))"
   ]
  },
  {
   "cell_type": "markdown",
   "metadata": {},
   "source": [
    "Triple integrals require the integration variable to be specified as additional parameters:"
   ]
  },
  {
   "cell_type": "code",
   "execution_count": null,
   "metadata": {},
   "outputs": [],
   "source": [
    "# triple integral\n",
    "Eq(Integral(x**2, x, x, y), integrate(x**2, x, x, y))   "
   ]
  },
  {
   "cell_type": "markdown",
   "metadata": {},
   "source": [
    "We can partially evaluate the integral by specifying limits on one of the integrals:"
   ]
  },
  {
   "cell_type": "code",
   "execution_count": null,
   "metadata": {},
   "outputs": [],
   "source": [
    "# partially evaluate integral\n",
    "Eq( Integral(x**2, (x,0,2), x, y), integrate(x**2, (x,0,2), x, y) )"
   ]
  },
  {
   "cell_type": "markdown",
   "metadata": {},
   "source": [
    "As a shortform, we can use a tuple `e` to avoid repetition.  Recal that\n",
    "```*e```\n",
    "expands all the components of the tuple, so that this example becomes the same as the one above. "
   ]
  },
  {
   "cell_type": "code",
   "execution_count": null,
   "metadata": {},
   "outputs": [],
   "source": [
    "# partially evaluate integral\n",
    "e = (x**2, (x,0,2), x, y)\n",
    "Integral(*e), integrate(*e)"
   ]
  },
  {
   "cell_type": "markdown",
   "metadata": {},
   "source": [
    "We can also completely evaluate our triple integral:"
   ]
  },
  {
   "cell_type": "code",
   "execution_count": null,
   "metadata": {},
   "outputs": [],
   "source": [
    "# fully evaluate integral\n",
    "e = (x**2, (x,0,2), (x,0,2), (y,0,1))\n",
    "Eq(Integral(*e), integrate(*e))"
   ]
  }
 ],
 "metadata": {
  "anaconda-cloud": {},
  "kernelspec": {
   "display_name": "Python 3 (ipykernel)",
   "language": "python",
   "name": "python3"
  },
  "language_info": {
   "codemirror_mode": {
    "name": "ipython",
    "version": 3
   },
   "file_extension": ".py",
   "mimetype": "text/x-python",
   "name": "python",
   "nbconvert_exporter": "python",
   "pygments_lexer": "ipython3",
   "version": "3.9.7"
  }
 },
 "nbformat": 4,
 "nbformat_minor": 1
}
