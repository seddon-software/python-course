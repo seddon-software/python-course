{
 "cells": [
  {
   "cell_type": "markdown",
   "metadata": {
    "slideshow": {
     "slide_type": "slide"
    }
   },
   "source": [
    "# Solving non linear equations"
   ]
  },
  {
   "cell_type": "markdown",
   "metadata": {},
   "source": [
    "Sympy can also solve non linear equations.  \n",
    "Note that often the solutions will involve complex numbers; the square root of -1 is denoted by `I`.\n",
    "\n",
    "Let's begin by solving the following equation:"
   ]
  },
  {
   "cell_type": "code",
   "execution_count": null,
   "metadata": {
    "slideshow": {
     "slide_type": "slide"
    }
   },
   "outputs": [],
   "source": [
    "import sympy\n",
    "from sympy import Eq\n",
    "sympy.init_printing()\n",
    "\n",
    "x, y, z = sympy.symbols('x, y, z')\n",
    "eq = x - x**2.5 + 7\n",
    "Eq(eq, 0)"
   ]
  },
  {
   "cell_type": "markdown",
   "metadata": {},
   "source": [
    "And now for the solution (takes a little time to compute):"
   ]
  },
  {
   "cell_type": "code",
   "execution_count": null,
   "metadata": {
    "slideshow": {
     "slide_type": "slide"
    }
   },
   "outputs": [],
   "source": [
    "z = sympy.solve(eq, x)\n",
    "\n",
    "# note most of the results are complex (I represents sqrt(-1))\n",
    "for result in z:\n",
    "    print(sympy.N(result, 5))    # N is used to limit precision"
   ]
  },
  {
   "cell_type": "markdown",
   "metadata": {},
   "source": [
    "We can visualise the function with MatPlotLib.  Note we will get a warning because the function is imaginary for `x < 0`."
   ]
  },
  {
   "cell_type": "code",
   "execution_count": null,
   "metadata": {
    "slideshow": {
     "slide_type": "subslide"
    }
   },
   "outputs": [],
   "source": [
    "%matplotlib inline\n",
    "\n",
    "import pylab as plt\n",
    "X = plt.arange(-5, 5, 0.01)\n",
    "\n",
    "# plot the curve - note that values are complex if x < 0\n",
    "Y = X - X**2.5 + 7\n",
    "plt.plot(X, Y, color='red', lw=2)\n",
    "\n",
    "# plot y = 0 because x < 0 will not be displayed otherwise\n",
    "Y = X*0\n",
    "plt.plot(X, Y, color='blue', lw=1)\n",
    "\n",
    "# plot the axes\n",
    "plt.axhline(0, color='blue')\n",
    "plt.axvline(0, color='blue')\n",
    "plt.show()"
   ]
  }
 ],
 "metadata": {
  "anaconda-cloud": {},
  "kernelspec": {
   "display_name": "Python 3 (ipykernel)",
   "language": "python",
   "name": "python3"
  },
  "language_info": {
   "codemirror_mode": {
    "name": "ipython",
    "version": 3
   },
   "file_extension": ".py",
   "mimetype": "text/x-python",
   "name": "python",
   "nbconvert_exporter": "python",
   "pygments_lexer": "ipython3",
   "version": "3.9.18"
  }
 },
 "nbformat": 4,
 "nbformat_minor": 1
}
