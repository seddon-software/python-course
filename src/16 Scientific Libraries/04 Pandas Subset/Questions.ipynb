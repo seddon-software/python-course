{
 "cells": [
  {
   "cell_type": "markdown",
   "metadata": {},
   "source": [
    "<div style=\"color:red;background-color:black\">\n",
    "Diamond Light Source\n",
    "    <h1 style=\"color:red;background-color:antiquewhite\"><br>Questions<br></h1>\n",
    "©2000-20 Chris Seddon"
   ]
  },
  {
   "cell_type": "markdown",
   "metadata": {},
   "source": [
    "## Q1\n",
    "Use Pandas to read the file \"../MiniProject/wtk_site_metadata.csv\".  \n",
    "Print column names."
   ]
  },
  {
   "cell_type": "code",
   "execution_count": 1,
   "metadata": {},
   "outputs": [],
   "source": [
    "# Write YOUR code here"
   ]
  },
  {
   "cell_type": "markdown",
   "metadata": {},
   "source": [
    "## Q2\n",
    "Use Pandas to read the file \"../MiniProject/wtk_site_metadata.csv\".  \n",
    "Create a new dataframe with just the 'longitude' and 'latitude' columns."
   ]
  },
  {
   "cell_type": "code",
   "execution_count": null,
   "metadata": {},
   "outputs": [],
   "source": [
    "# Write YOUR code here"
   ]
  },
  {
   "cell_type": "markdown",
   "metadata": {},
   "source": [
    "## Q3\n",
    "Use Pandas to read the file \"../MiniProject/wtk_site_metadata.csv\".  \n",
    "Create a new series from the 'State' column of the dataframe and then remove duplicates."
   ]
  },
  {
   "cell_type": "code",
   "execution_count": null,
   "metadata": {},
   "outputs": [],
   "source": [
    "# Write YOUR code here"
   ]
  },
  {
   "cell_type": "markdown",
   "metadata": {},
   "source": [
    "## Q4\n",
    "Use Pandas to read the file \"../MiniProject/wtk_site_metadata.csv\".  \n",
    "Print out the row with the largest 'longitude'."
   ]
  },
  {
   "cell_type": "code",
   "execution_count": 2,
   "metadata": {},
   "outputs": [],
   "source": [
    "# Write YOUR code here"
   ]
  },
  {
   "cell_type": "markdown",
   "metadata": {},
   "source": [
    "## Q5\n",
    "Use Pandas to read the file \"../MiniProject/wtk_site_metadata.csv\".  \n",
    "Create a new dataframe containing rows with state equal to 'Rhode Island'.  \n",
    "Retain the 'longitude' and 'latitude' columns.  \n",
    "Reset the index such that it starts at 1."
   ]
  },
  {
   "cell_type": "code",
   "execution_count": 3,
   "metadata": {},
   "outputs": [],
   "source": [
    "# Write YOUR code here"
   ]
  },
  {
   "cell_type": "markdown",
   "metadata": {},
   "source": [
    "## Q6\n",
    "Use Pandas to read the file \"../MiniProject/wtk_site_metadata.csv\".  \n",
    "Create the same dataframe 'Rhode Island' as in the previous exercise.  \n",
    "Print the dataframe without the index, display every row to a precision of 2 decimal places."
   ]
  },
  {
   "cell_type": "code",
   "execution_count": 4,
   "metadata": {},
   "outputs": [],
   "source": [
    "# Write YOUR code here"
   ]
  },
  {
   "cell_type": "markdown",
   "metadata": {},
   "source": [
    "## Q7\n",
    "Use Pandas to read the file \"../MiniProject/wtk_site_metadata.csv\".  \n",
    "Create the same dataframe 'Rhode Island' as in the previous exercise.  \n",
    "Now add an extra column called 'power' that is computed as the product of the columns 'capacity_factor' and 'wind_speed'.  \n",
    "Now print out the last 20 entries of the new dataframe.  "
   ]
  },
  {
   "cell_type": "code",
   "execution_count": 5,
   "metadata": {},
   "outputs": [],
   "source": [
    "# Write YOUR code here"
   ]
  },
  {
   "cell_type": "markdown",
   "metadata": {},
   "source": [
    "## Q8\n",
    "Use Pandas to read the file \"../MiniProject/wtk_site_metadata.csv\".  \n",
    "Work with the dataframe 'Rhode Island' as in the previous exercise with the extra column called 'power'.  \n",
    "Reorder the columns such that the first three columns are 'capacity_factor', 'wind_speed' and 'power' and print the first 5 rows of the dataframe."
   ]
  },
  {
   "cell_type": "code",
   "execution_count": 6,
   "metadata": {},
   "outputs": [],
   "source": [
    "# Write YOUR code here"
   ]
  },
  {
   "cell_type": "markdown",
   "metadata": {},
   "source": [
    "## Q9\n",
    "Use Pandas to read the file \"../MiniProject/wtk_site_metadata.csv\".  \n",
    "Work with the dataframe 'Rhode Island' as in the previous exercise with the extra column called 'power' and the column headings resorted.  \n",
    "Now sort the dataframe in descending order of 'power'.  \n",
    "Print the first 5 rows of the dataframe."
   ]
  },
  {
   "cell_type": "code",
   "execution_count": 7,
   "metadata": {},
   "outputs": [],
   "source": [
    "# Write YOUR code here"
   ]
  },
  {
   "cell_type": "markdown",
   "metadata": {},
   "source": [
    "## Q10\n",
    "Use Pandas to read the file \"../MiniProject/wtk_site_metadata.csv\".  \n",
    "Work with the dataframe 'Rhode Island' as in the previous exercise with the extra column called 'power' and the column headings re-sorted.  \n",
    "Create a new sorted dataframe with rows from the 'Rhode Island' dataframe with a 'power' greater than 3."
   ]
  },
  {
   "cell_type": "code",
   "execution_count": 8,
   "metadata": {},
   "outputs": [],
   "source": [
    "# Write YOUR code here"
   ]
  }
 ],
 "metadata": {
  "kernelspec": {
   "display_name": "Python 3 (ipykernel)",
   "language": "python",
   "name": "python3"
  },
  "language_info": {
   "codemirror_mode": {
    "name": "ipython",
    "version": 3
   },
   "file_extension": ".py",
   "mimetype": "text/x-python",
   "name": "python",
   "nbconvert_exporter": "python",
   "pygments_lexer": "ipython3",
   "version": "3.12.4"
  }
 },
 "nbformat": 4,
 "nbformat_minor": 4
}
