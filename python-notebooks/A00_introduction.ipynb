{
 "cells": [
  {
   "cell_type": "markdown",
   "metadata": {},
   "source": [
    "<div style=\"color:red;background-color:black\">\n",
    "Diamond Light Source\n",
    "<br style=\"color:red;background-color:antiquewhite\"><h1>Introduction to Juypter Notebook</h1><br>\n",
    "©2000-23 Chris Seddon \n",
    "</div>"
   ]
  },
  {
   "cell_type": "markdown",
   "metadata": {},
   "source": [
    "## 1\n",
    "Jupyter notebook is a web based program tha lets you execute Python code.  Jupyter notebook comes bundled with Python so to install from the command line, simply type:\n",
    "<pre>\n",
    "            module load python\n",
    "            jupyter notebook\n",
    "</pre>\n",
    "This will fire up jupyter notebook in the current directory.  The examples for this course are stored in the Level 2 folder.  So to run them:\n",
    "<pre>\n",
    "            cd\n",
    "            cd python-course/notebooks\n",
    "</pre>"
   ]
  },
  {
   "cell_type": "markdown",
   "metadata": {},
   "source": [
    "## 2\n",
    "The Jupyter team have now released JupyterLab as the latest web-based interactive development environment for notebooks, code, and data. \n",
    "\n",
    "Amongst other features JupyterLab not only allows you to run Python programs, but also allows you to debug programs.  \n",
    "\n",
    "For more information, go to:  [Jupyter home page](https://jupyter.org/)\n",
    "\n"
   ]
  }
 ],
 "metadata": {
  "kernelspec": {
   "display_name": "Python 3 (ipykernel)",
   "language": "python",
   "name": "python3"
  },
  "language_info": {
   "codemirror_mode": {
    "name": "ipython",
    "version": 3
   },
   "file_extension": ".py",
   "mimetype": "text/x-python",
   "name": "python",
   "nbconvert_exporter": "python",
   "pygments_lexer": "ipython3",
   "version": "3.10.15"
  },
  "vscode": {
   "interpreter": {
    "hash": "080ecc9f5a07788699440df6a82f433dff8c2b9abdb7c7a66d09492f06ed7fcf"
   }
  }
 },
 "nbformat": 4,
 "nbformat_minor": 4
}
