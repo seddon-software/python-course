{
 "cells": [
  {
   "cell_type": "markdown",
   "id": "e418bc12-1971-46f3-bff9-8b996ddd13a6",
   "metadata": {},
   "source": [
    "## Fig 1\n",
    "<img src=\"resources/Slide/Slide01.jpg\"/> "
   ]
  },
  {
   "cell_type": "markdown",
   "id": "7ee99a3e-35bc-4901-92fe-d8bb7ba05013",
   "metadata": {},
   "source": [
    "## Fig 2\n",
    "<img src=\"resources/Slide/Slide02.jpg\"/> "
   ]
  },
  {
   "cell_type": "markdown",
   "id": "73330386-afec-4454-8bc4-49952eef6733",
   "metadata": {},
   "source": [
    "## Fig 3\n",
    "<img src=\"resources/Slide/Slide03.jpg\"/> "
   ]
  },
  {
   "cell_type": "markdown",
   "id": "aea67bd5-93c1-46ab-8fda-7c9da9dc69ad",
   "metadata": {},
   "source": [
    "## Fig 4\n",
    "<img src=\"resources/Slide/Slide04.jpg\"/> "
   ]
  },
  {
   "cell_type": "markdown",
   "id": "a7371a61-90ee-4d2d-ab16-aadd5ea4a89b",
   "metadata": {},
   "source": [
    "## Fig 5\n",
    "<img src=\"resources/Slide/Slide05.jpg\"/> "
   ]
  },
  {
   "cell_type": "markdown",
   "id": "1a8f2012-d5dd-443d-b75c-466519a31c6c",
   "metadata": {},
   "source": [
    "## Fig 6\n",
    "<img src=\"resources/Slide/Slide06.jpg\"/> "
   ]
  },
  {
   "cell_type": "markdown",
   "id": "537e4ad9-498f-47a0-a3e0-dc839652cf04",
   "metadata": {},
   "source": [
    "## Fig 7\n",
    "<img src=\"resources/Slide/Slide07.jpg\"/> "
   ]
  },
  {
   "cell_type": "markdown",
   "id": "247bd933-aa5a-400b-a187-3a375e7d3610",
   "metadata": {},
   "source": [
    "## Fig 8\n",
    "<img src=\"resources/Slide/Slide08.jpg\"/> "
   ]
  },
  {
   "cell_type": "markdown",
   "id": "5be11bff-523b-47d1-92db-60825951ecc5",
   "metadata": {},
   "source": [
    "## Fig 9\n",
    "<img src=\"resources/Slide/Slide09.jpg\"/> "
   ]
  },
  {
   "cell_type": "markdown",
   "id": "fad83fa7-8193-4fc8-af21-859121c68cb2",
   "metadata": {},
   "source": [
    "## Fig 10\n",
    "<img src=\"resources/Slide/Slide10.jpg\"/> "
   ]
  },
  {
   "cell_type": "markdown",
   "id": "cf4224df-35e3-49db-9b1e-5708ae661d17",
   "metadata": {},
   "source": [
    "## Fig 11\n",
    "<img src=\"resources/Slide/Slide11.jpg\"/> "
   ]
  },
  {
   "cell_type": "markdown",
   "id": "756f317c-bc01-4f66-bd67-33d39814c785",
   "metadata": {},
   "source": [
    "## Fig 12\n",
    "<img src=\"resources/Slide/Slide12.jpg\"/> "
   ]
  },
  {
   "cell_type": "markdown",
   "id": "7084da42-2680-423c-bdbf-9badd44c6906",
   "metadata": {},
   "source": [
    "## Fig 13\n",
    "<img src=\"resources/Slide/Slide13.jpg\"/> "
   ]
  },
  {
   "cell_type": "markdown",
   "id": "fbd027ef-76bf-4051-9a6a-56b326bf6aac",
   "metadata": {},
   "source": [
    "## Fig 14\n",
    "<img src=\"resources/Slide/Slide14.jpg\"/> "
   ]
  }
 ],
 "metadata": {
  "kernelspec": {
   "display_name": "Python 3 (ipykernel)",
   "language": "python",
   "name": "python3"
  },
  "language_info": {
   "codemirror_mode": {
    "name": "ipython",
    "version": 3
   },
   "file_extension": ".py",
   "mimetype": "text/x-python",
   "name": "python",
   "nbconvert_exporter": "python",
   "pygments_lexer": "ipython3",
   "version": "3.10.15"
  }
 },
 "nbformat": 4,
 "nbformat_minor": 5
}
