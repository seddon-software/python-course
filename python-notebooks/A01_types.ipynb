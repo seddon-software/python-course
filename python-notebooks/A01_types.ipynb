{
 "cells": [
  {
   "cell_type": "markdown",
   "metadata": {},
   "source": [
    "<div style=\"color:red;background-color:black\">\n",
    "Diamond Light Source\n",
    "<br style=\"color:red;background-color:antiquewhite\"><h1>Python Language: Types</h1><br>\n",
    "©2000-23 Chris Seddon \n",
    "</div>"
   ]
  },
  {
   "cell_type": "markdown",
   "metadata": {},
   "source": [
    "## 1\n",
    "Let's start with a very simple program:"
   ]
  },
  {
   "cell_type": "code",
   "execution_count": null,
   "metadata": {
    "pixiedust": {
     "displayParams": {}
    }
   },
   "outputs": [],
   "source": [
    "x = 100\n",
    "x = 5.841\n",
    "x = \"hello\"\n",
    "x = 'hello'\n",
    "x = True\n",
    "x = [7, 5, 4, 9]\n",
    "x = (3, 8, 2, 9)"
   ]
  },
  {
   "cell_type": "markdown",
   "metadata": {},
   "source": [
    "## 2\n",
    "In the above example the variable `x` is set to various types of data.  Let's see what types are involved:"
   ]
  },
  {
   "cell_type": "code",
   "execution_count": null,
   "metadata": {},
   "outputs": [],
   "source": [
    "x = 100;          print(type(x))\n",
    "x = 5.841;        print(type(x))\n",
    "x = \"hello\";      print(type(x))\n",
    "x = 'hello';      print(type(x))\n",
    "x = True;         print(type(x))\n",
    "x = [7, 5, 4, 9]; print(type(x))\n",
    "x = (3, 8, 2, 9); print(type(x))"
   ]
  },
  {
   "cell_type": "markdown",
   "metadata": {},
   "source": [
    "## 3\n",
    "In the above program `x` appears to be changing type on each line.  However this is a misleading.  The variable `x` is actually a pointer (or more correctly an \"object reference\") and can point at different types of objects.  \n",
    "\n",
    "100 is an `int` object, `5.841` is a float object, `'hello'` and `\"hello\"` are a string objects (you can use either single or double quotes for strings).\n",
    "\n",
    "The [ ] indicates a list object and the round brackets a tuple.  List and tuples are essentially arrays; a tuple is read only (immutable) and a list is read/write (muable)."
   ]
  },
  {
   "cell_type": "code",
   "execution_count": null,
   "metadata": {},
   "outputs": [],
   "source": [
    "x = 100\n",
    "print(id(x))\n",
    "x = 34.78\n",
    "print(id(x))\n",
    "x = \"Hello\"\n",
    "print(id(x))\n",
    "x = [2,8,3,7]\n",
    "print(id(x))"
   ]
  },
  {
   "cell_type": "markdown",
   "metadata": {},
   "source": [
    "## 4\n",
    "The Python language is implemented in C.  The above data is stored in memory using C data structures.  \n",
    "Let's see a diagram:\n",
    "<img src=\"resources/Slide/Slide13.jpg\"/> "
   ]
  },
  {
   "cell_type": "markdown",
   "metadata": {},
   "source": [
    "## 5\n",
    "It issential to realise that variables in Python are really pointers (officially: Object References).  \n",
    "\n",
    "In the following example we create a list pointed at by the variable <b>x</b>.  We then point <b>y</b> to the same place.  When we change the list through <b>x</b>, the changs are seen by <b>y</b>."
   ]
  },
  {
   "cell_type": "code",
   "execution_count": null,
   "metadata": {},
   "outputs": [],
   "source": [
    "x = [2, 4, 6, 8]    # list is mutable\n",
    "print(x, id(x))\n",
    "x.append(99)\n",
    "print(x, id(x))"
   ]
  },
  {
   "cell_type": "code",
   "execution_count": null,
   "metadata": {},
   "outputs": [],
   "source": [
    "x = [10, 20, 30, 40]\n",
    "y = x\n",
    "x.append(99)\n",
    "print(x)\n",
    "print(y)"
   ]
  },
  {
   "cell_type": "markdown",
   "metadata": {},
   "source": [
    "## 6\n",
    "\n",
    "Let's see another diagram:\n",
    "<img src=\"resources/Slide/Slide14.jpg\"/> \n",
    "Since <b>x</b> and <b>y</b> are pointing to the same object they both see the change.\n",
    "\n",
    "Now try this:"
   ]
  },
  {
   "cell_type": "code",
   "execution_count": null,
   "metadata": {},
   "outputs": [],
   "source": [
    "x = 100\n",
    "y = x\n",
    "x = x + 1\n",
    "print(x); print(id(x))\n",
    "print(y); print(id(y))"
   ]
  },
  {
   "cell_type": "markdown",
   "metadata": {},
   "source": [
    "## 7\n",
    "What's happening here.  Although <b>x</b> and <b>y</b> are pointing to the same object only <b>x</b> sees the change.\n",
    "\n",
    "That's very confusing.  For an explanation you'll need to study the next tutorial: <b>Mutability</b>\n"
   ]
  }
 ],
 "metadata": {
  "kernelspec": {
   "display_name": "Python 3 (ipykernel)",
   "language": "python",
   "name": "python3"
  },
  "language_info": {
   "codemirror_mode": {
    "name": "ipython",
    "version": 3
   },
   "file_extension": ".py",
   "mimetype": "text/x-python",
   "name": "python",
   "nbconvert_exporter": "python",
   "pygments_lexer": "ipython3",
   "version": "3.10.15"
  }
 },
 "nbformat": 4,
 "nbformat_minor": 4
}
