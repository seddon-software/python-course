{
 "cells": [
  {
   "cell_type": "markdown",
   "metadata": {},
   "source": [
    "<div style=\"color:red;background-color:black\">\n",
    "Diamond Light Source\n",
    "<br style=\"color:red;background-color:antiquewhite\"><h1>Python Language: Mutability</h1>  \n",
    "\n",
    "©2000-23 Chris Seddon \n",
    "</div>"
   ]
  },
  {
   "cell_type": "markdown",
   "metadata": {},
   "source": [
    "## 1\n",
    "Python supports two fundamentally different programming paradigms: Functional and Object Oriented.  We say Python is a hybrid language.  In Functional programming everything is immutable, but in Object Oriented programming most items are mutable.  In this tutorial we will investigate mutability. \n",
    "\n",
    "Consider the following simple Python program.  What is x?  Is it an object? Is it an int, float, str, list?"
   ]
  },
  {
   "cell_type": "code",
   "execution_count": null,
   "metadata": {},
   "outputs": [],
   "source": [
    "x = 100\n",
    "print(type(x))\n",
    "x = 34.78\n",
    "print(type(x))\n",
    "x = \"Hello\"\n",
    "print(type(x))\n",
    "x = [2,8,3,7]\n",
    "print(type(x))"
   ]
  },
  {
   "cell_type": "markdown",
   "metadata": {},
   "source": [
    "## 2\n",
    "In the above program x appears to be changing type on each line.  However this is a mirage.  Actually, x is a pointer (or more correctly an \"object reference\") and points at different objects.  100 is an int object, 34.78 is a float object, \"Hello\" is a string object and [2,8,3,7] is a list object.  In Python, pointers point to objects. Everything in Python is either a pointer or an object.\n",
    "\n",
    "Note that pointers can have names (x in the above example), but objects never have names (objects are always anonomous).  In Python every object has a unique id; this is usually its address.  The id function tells us this address.  \n",
    "\n",
    "Let's revisit the above example and check ids."
   ]
  },
  {
   "cell_type": "code",
   "execution_count": null,
   "metadata": {},
   "outputs": [],
   "source": [
    "x = 100\n",
    "print(id(x))\n",
    "x = 34.78\n",
    "print(id(x))\n",
    "x = \"Hello\"\n",
    "print(id(x))\n",
    "x = [2,8,3,7]\n",
    "print(id(x))"
   ]
  },
  {
   "cell_type": "markdown",
   "metadata": {},
   "source": [
    "## 3\n",
    "As you can see x points to four different objects in turn; the objects are at different addresses.\n",
    "\n",
    "Let's try incrementing x:"
   ]
  },
  {
   "cell_type": "code",
   "execution_count": null,
   "metadata": {
    "slideshow": {
     "slide_type": "slide"
    }
   },
   "outputs": [],
   "source": [
    "x = 100\n",
    "print(id(x))\n",
    "x += 1\n",
    "print(id(x))"
   ]
  },
  {
   "cell_type": "markdown",
   "metadata": {},
   "source": [
    "## 4\n",
    "In the above example, x points to the object 100.  However, when we try to increment x we see that x ends up pointing to a new object at a different address.  That new object is 101.\n",
    "\n",
    "Why has this happened?  Why didn't Python just modify the object 100?  Well, in most languages this is just what happens, but in Python integers are immutable (functional style) and 100 can't be modified.  So Python creates a new object 101.\n",
    "\n",
    "Python's choice of making integers immutable has far reaching consequences.  One the one hand it makes Python very inefficient (compared to object oriented languages like C and C++), but is the way functional programmers like to work.\n",
    "\n",
    "It turns out that floats, strings and booleans are also immuable.  By the way, don't worry about Python being inefficient - most programs make extensive use of libraries and nearly all Python libraries are written in in C or C++.\n",
    "\n",
    "Now consider the following program.  The intent is to use the function \"addOne\" to increment x.  However if you run the cell you will see the proram doesn't work."
   ]
  },
  {
   "cell_type": "code",
   "execution_count": null,
   "metadata": {},
   "outputs": [],
   "source": [
    "def addOne(a):\n",
    "    a += 1\n",
    "\n",
    "x = 100\n",
    "addOne(x)\n",
    "print(x)"
   ]
  },
  {
   "cell_type": "markdown",
   "metadata": {},
   "source": [
    "## 5\n",
    "In the above program when we call \"addOne\" we pass a copy of the pointer 'x' to the function.  Now 'a' and 'x' point to the object 100.  However, when 'a' tries to increment 100 it can't because 100 is immutable.  Instead,  a new object (101) is created and 'a' now points to this object.\n",
    "\n",
    "None of this changes 'x'; it still points to the original object 100.  Hence the program fails.  Look at the same program with the ids printed."
   ]
  },
  {
   "cell_type": "code",
   "execution_count": null,
   "metadata": {},
   "outputs": [],
   "source": [
    "def addOne(a):\n",
    "    print(f\"a before: {id(a)}\")\n",
    "    a += 1\n",
    "    print(f\"a after: {id(a)}\")\n",
    "\n",
    "x = 100\n",
    "print(f\"x before: {id(x)}\")\n",
    "addOne(x)\n",
    "print(f\"x after: {id(x)}\")"
   ]
  },
  {
   "cell_type": "markdown",
   "metadata": {},
   "source": [
    "## 6\n",
    "To get this program to work we need to do two things.  Firstly, the \"addOne\" function must return the new object (101) and secondly the return value must be assigned to x in the calling program:"
   ]
  },
  {
   "cell_type": "code",
   "execution_count": null,
   "metadata": {},
   "outputs": [],
   "source": [
    "def addOne(a):\n",
    "    a += 1\n",
    "    return a\n",
    "\n",
    "x = 100\n",
    "x = addOne(x)\n",
    "print(x)"
   ]
  },
  {
   "cell_type": "markdown",
   "metadata": {
    "slideshow": {
     "slide_type": "subslide"
    }
   },
   "source": [
    "## 7\n",
    "Consider a different example with strings.  Recall strings are also immutable."
   ]
  },
  {
   "cell_type": "code",
   "execution_count": null,
   "metadata": {
    "slideshow": {
     "slide_type": "slide"
    }
   },
   "outputs": [],
   "source": [
    "wine = \"MiXeD CaSe\"\n",
    "print(wine.upper())"
   ]
  },
  {
   "cell_type": "markdown",
   "metadata": {
    "slideshow": {
     "slide_type": "subslide"
    }
   },
   "source": [
    "## 8\n",
    "This seems to work.  But what if we change the program slightly:"
   ]
  },
  {
   "cell_type": "code",
   "execution_count": null,
   "metadata": {
    "slideshow": {
     "slide_type": "slide"
    }
   },
   "outputs": [],
   "source": [
    "wine = \"MiXeD CaSe\"\n",
    "wine.upper()\n",
    "print(wine)"
   ]
  },
  {
   "cell_type": "markdown",
   "metadata": {},
   "source": [
    "## 9\n",
    "What happened? Why didn't the code work?  \n",
    "\n",
    "It has to do with immutability; the upper() method can't change the obect pointed to by wine (it's immutable), so the second line has no effect.  To get the program to work we can change it as below.  \n",
    "\n",
    "Functions acting on immutable objects always return a new object:"
   ]
  },
  {
   "cell_type": "code",
   "execution_count": null,
   "metadata": {},
   "outputs": [],
   "source": [
    "wine = \"MiXeD CaSe\"\n",
    "wine = wine.upper()\n",
    "print(wine)"
   ]
  },
  {
   "cell_type": "markdown",
   "metadata": {},
   "source": [
    "## 10\n",
    "So much for immutable objects.  Let's use a list to look at mutable objects.\n",
    "This time we use the append method to modify the list:"
   ]
  },
  {
   "cell_type": "code",
   "execution_count": null,
   "metadata": {},
   "outputs": [],
   "source": [
    "def addItem(a):\n",
    "    a.append(99)\n",
    "    \n",
    "x = [10, 20, 30, 40]\n",
    "addItem(x)\n",
    "print(x)"
   ]
  },
  {
   "cell_type": "markdown",
   "metadata": {},
   "source": [
    "## 11\n",
    "This time the program works even though there is no return statement and no assignment in the calling program.  These were essential for immutable objects.  \n",
    "\n",
    "With mutable objects the \"addItem\" function doesn't create a new list object because it can modify the object passed to the routine (it's mutable).  Since 'x' in the calling program and 'a' in the \"addOne\" both point to the same list, they both see the change.  Hence no need for a return statement and no need for an assignment in the calling program.\n",
    "\n",
    "Functions acting on mutable objects modify in-place and do not have a return statement.\n",
    "\n",
    "One more example:"
   ]
  },
  {
   "cell_type": "code",
   "execution_count": null,
   "metadata": {},
   "outputs": [],
   "source": [
    "x = [10, 20, 30, 40]\n",
    "x = x.append(99)\n",
    "print(x)"
   ]
  },
  {
   "cell_type": "markdown",
   "metadata": {},
   "source": [
    "## 12\n",
    "Note the above fails because we tried to return something from an operation on a mutable object.  Python just returns the empty object (None).\n",
    "\n",
    "Python treats mutable and immutable objects totally differently.\n",
    "\n",
    "To correct the program, realise append() doesn't return anything!"
   ]
  },
  {
   "cell_type": "code",
   "execution_count": null,
   "metadata": {},
   "outputs": [],
   "source": [
    "x = [10, 20, 30, 40]\n",
    "x.append(99)\n",
    "print(x)"
   ]
  }
 ],
 "metadata": {
  "kernelspec": {
   "display_name": "Python 3 (ipykernel)",
   "language": "python",
   "name": "python3"
  },
  "language_info": {
   "codemirror_mode": {
    "name": "ipython",
    "version": 3
   },
   "file_extension": ".py",
   "mimetype": "text/x-python",
   "name": "python",
   "nbconvert_exporter": "python",
   "pygments_lexer": "ipython3",
   "version": "3.10.15"
  }
 },
 "nbformat": 4,
 "nbformat_minor": 4
}
